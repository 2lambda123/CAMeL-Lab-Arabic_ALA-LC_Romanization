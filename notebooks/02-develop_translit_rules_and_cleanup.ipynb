{
 "metadata": {
  "language_info": {
   "codemirror_mode": {
    "name": "ipython",
    "version": 3
   },
   "file_extension": ".py",
   "mimetype": "text/x-python",
   "name": "python",
   "nbconvert_exporter": "python",
   "pygments_lexer": "ipython3",
   "version": "3.7.9-final"
  },
  "orig_nbformat": 2,
  "kernelspec": {
   "name": "python3",
   "display_name": "Python 3",
   "language": "python"
  }
 },
 "nbformat": 4,
 "nbformat_minor": 2,
 "cells": [
  {
   "cell_type": "code",
   "execution_count": 1,
   "metadata": {},
   "outputs": [],
   "source": [
    "%load_ext autoreload\n",
    "%autoreload 2\n",
    "import sys\n",
    "from pathlib import Path\n",
    "import pandas as pd\n",
    "import numpy as np\n",
    "import re\n",
    "from camel_tools.utils.charmap import CharMapper\n",
    "sys.path.insert(0,\"..\")\n",
    "from src.predict import translit_rules\n",
    "from src.evaluation.evaluate import evaluate_df\n",
    "from src.data import make_dataset\n",
    "from camel_tools.utils.normalize import normalize_unicode\n"
   ]
  },
  {
   "cell_type": "code",
   "execution_count": 2,
   "metadata": {},
   "outputs": [],
   "source": [
    "pd.set_option(\"display.max_rows\", 100)"
   ]
  },
  {
   "cell_type": "code",
   "execution_count": 3,
   "metadata": {},
   "outputs": [],
   "source": [
    "ar2safebw = CharMapper.builtin_mapper('ar2safebw')"
   ]
  },
  {
   "cell_type": "code",
   "execution_count": 4,
   "metadata": {},
   "outputs": [
    {
     "output_type": "execute_result",
     "data": {
      "text/plain": [
       "match_loc  match_caphi\n",
       "True       True           94\n",
       "False      False           3\n",
       "dtype: int64"
      ]
     },
     "metadata": {},
     "execution_count": 4
    }
   ],
   "source": [
    "# validating mappings\n",
    "pd.set_option('display.max_rows', 5)\n",
    "\n",
    "caphimap = translit_rules.load_caphi_mappings()\n",
    "locmap = translit_rules.load_loc_mappings()\n",
    "locexceptional = translit_rules.load_exceptional_spellings()\n",
    "mapping = pd.read_csv(Path(os.getcwd()).parent.joinpath('src','predict','ar2phon','ar2phon_map.tsv'),delimiter='\\t').fillna('')\n",
    "\n",
    "# # copy safebw to map file for easy readability of rules\n",
    "# mapping['Arabic'].apply(ar2safebw).to_clipboard(index=False,header=False)\n",
    "\n",
    "validation = pd.read_csv(Path(os.getcwd()).parent.joinpath('src','predict','ar2phon','validate_mappings.tsv'),delimiter='\\t').fillna('')\n",
    "validation['predict_caphi'] = validation['arabic'].apply(lambda x: translit_rules.translit_caphi_token(x,caphimap))\n",
    "validation['predict_loc'] = validation['arabic'].apply(lambda x: translit_rules.translit_loc_token(x,locmap,locexceptional))\n",
    "validation['match_caphi'] = validation.apply(lambda x: x['caphi']==x['predict_caphi'],axis=1)\n",
    "validation['match_loc'] = validation.apply(lambda x: x['loc']==x['predict_loc'],axis=1)\n",
    "validation.value_counts(['match_loc','match_caphi']) # 3 will always return false by design"
   ]
  },
  {
   "cell_type": "code",
   "execution_count": 5,
   "metadata": {},
   "outputs": [
    {
     "output_type": "execute_result",
     "data": {
      "text/plain": [
       "'Drāsh llfکr alsysá lṭlāb almdrsh althānwyh alʻāmh/'"
      ]
     },
     "metadata": {},
     "execution_count": 5
    }
   ],
   "source": [
    "translit_rules.translit_loc_sentence('دراسة للفکر السيسى لطلاب المدرسة الثانوية العامة/',locmap,locexceptional)"
   ]
  },
  {
   "cell_type": "code",
   "execution_count": 3,
   "metadata": {},
   "outputs": [],
   "source": [
    "dev = pd.read_csv(f'{Path(os.getcwd()).parent}/data/processed/dev.tsv',delimiter='\\t')\n"
   ]
  },
  {
   "cell_type": "code",
   "execution_count": null,
   "metadata": {},
   "outputs": [],
   "source": []
  },
  {
   "cell_type": "code",
   "execution_count": 103,
   "metadata": {},
   "outputs": [
    {
     "output_type": "execute_result",
     "data": {
      "text/plain": [
       "0                       Rāfʻy, ʻbd alrḥmn.\n",
       "1        Mqdmāt thwrh 23 ywlywā snh 1952 :\n",
       "                       ...                \n",
       "61717                            Dār ṭlās,\n",
       "61718             Ṣfḥāt mn tārykh albʻth ;\n",
       "Name: 0, Length: 61719, dtype: object"
      ]
     },
     "metadata": {},
     "execution_count": 103
    }
   ],
   "source": [
    "predictions = pd.read_table('/Users/fae211/ba3sasah/LOC_transcribe/predictions_out/translit_rules/dev.tsv',header=None)[0]\n"
   ]
  },
  {
   "cell_type": "code",
   "execution_count": 104,
   "metadata": {},
   "outputs": [],
   "source": [
    "head = dev[:100]\n",
    "head['predict_translit_simple'] = predictions[:100]"
   ]
  },
  {
   "cell_type": "code",
   "execution_count": 89,
   "metadata": {},
   "outputs": [],
   "source": [
    "head['predict_translit_simple'] = head['ar'].apply(lambda x: translit_rules.translit_loc_sentence(x,locmap,locexceptional))\n",
    "# head[['rom','predict-rom']]"
   ]
  },
  {
   "cell_type": "code",
   "execution_count": 105,
   "metadata": {},
   "outputs": [],
   "source": [
    "evaluate_head = evaluate_df(head)#,eval_funcs=[match_ignore_case])"
   ]
  },
  {
   "cell_type": "code",
   "execution_count": 4,
   "metadata": {},
   "outputs": [],
   "source": [
    "# # capitalization errors by tag\n",
    "# for tag in evaluate_head['comb.tag'].drop_duplicates():\n",
    "#     print(tag)\n",
    "#     print(evaluate_head[(evaluate_head['comb.tag']==tag)&(evaluate_head.apply(lambda x: x['match_ignore_case']==True,axis=1))].value_counts(['match'],normalize=True).to_string())"
   ]
  },
  {
   "cell_type": "code",
   "execution_count": null,
   "metadata": {},
   "outputs": [],
   "source": []
  },
  {
   "cell_type": "code",
   "execution_count": 57,
   "metadata": {},
   "outputs": [],
   "source": [
    "def contains(sent,charset):\n",
    "    for char in charset:\n",
    "        if char in sent:\n",
    "            return True\n",
    "    return False"
   ]
  },
  {
   "cell_type": "code",
   "execution_count": 6,
   "metadata": {},
   "outputs": [],
   "source": [
    "evaluation = pd.read_csv(Path(os.getcwd()).parent.joinpath('evaluation/translit_simple.tsv'),delimiter='\\t')"
   ]
  },
  {
   "cell_type": "code",
   "execution_count": 15,
   "metadata": {},
   "outputs": [
    {
     "output_type": "execute_result",
     "data": {
      "text/plain": [
       "          gold_tok  source_tok predict_translit_simple_tok  sentID     recID  \\\n",
       "0          Rāfiʻī,      رافعي،                      Rāfʻy,       0   umich-1   \n",
       "1             ʻAbd         عبد                         ʻbd       0   umich-1   \n",
       "2       al-Raḥmān.     الرحمن.                     alrḥmn.       0   umich-1   \n",
       "3       Muqaddimāt      مقدمات                      Mqdmāt       1   umich-1   \n",
       "4          thawrat        ثورة                       thwrh       1   umich-1   \n",
       "5               23          23                          23       1   umich-1   \n",
       "6            Yūlyū      يوليوا                      ywlywā       1   umich-1   \n",
       "7            sanat         سنة                         snh       1   umich-1   \n",
       "8             1952        1952                        1952       1   umich-1   \n",
       "9                :           :                           :       1   umich-1   \n",
       "10        al-kifāḥ      الكفاح                      Alkfāḥ       2   umich-1   \n",
       "11              fī          في                          fy       2   umich-1   \n",
       "12       al-qitāl,     القتال،                     alqtāl,       2   umich-1   \n",
       "13           ḥarīq        حريق                        ḥryq       2   umich-1   \n",
       "14     al-Qāhirah,    القاهرة،                    alqāhrh,       2   umich-1   \n",
       "15         wazārāt      وزارات                      wzārāt       2   umich-1   \n",
       "16  al-muwaẓaffīn,   الموظفين،                   almwẓfyn,       2   umich-1   \n",
       "17           asbāb       اسباب                       asbāb       2   umich-1   \n",
       "18     al-thawrah,     الثورة،                    althwrh,       2   umich-1   \n",
       "19           Fārūq       فاروق                       fārwq       2   umich-1   \n",
       "20        yumahhid        يمهد                        ymhd       2   umich-1   \n",
       "21     lil-thawrah      للثورة                     llthwrh       2   umich-1   \n",
       "22               /           /                           /       2   umich-1   \n",
       "23        bi-qalam        بقلم                        Bqlm       3   umich-1   \n",
       "24            ʻAbd         عبد                         ʻbd       3   umich-1   \n",
       "25       al-Raḥmān      الرحمن                      alrḥmn       3   umich-1   \n",
       "26      al-Rifāʻī.    الرفاعي.                    alrfāʻy.       3   umich-1   \n",
       "27      Muqaddimāt      مقدمات                      Mqdmāt       4   umich-1   \n",
       "28         thawrat        ثورة                       thwrh       4   umich-1   \n",
       "29       thalāthah       ثلاثة                     thlāthh       4   umich-1   \n",
       "30      wa-ʻishrīn      وعشرين                     wʻshryn       4   umich-1   \n",
       "31           Yūlyū      يوليوا                      ywlywā       4   umich-1   \n",
       "32           sanat         سنة                         snh       4   umich-1   \n",
       "33            1952        1952                        1952       4   umich-1   \n",
       "34       al-Ṭabʻah      الطبعة                      Alṭbʻh       5   umich-1   \n",
       "35              2.          2.                          2.       5   umich-1   \n",
       "36        Maktabat       مكتبة                       Mktbh       7   umich-1   \n",
       "37       al-Nahḍah      النهضة                      alnhḍh       7   umich-1   \n",
       "38    al-Misrīyah,    المصرية،                    almṣryh,       7   umich-1   \n",
       "39         Madkūr,         علي                         ʻLy      84  umich-11   \n",
       "40            ʻAlī        أحمد                        aḥmd      84  umich-11   \n",
       "41          Aḥmad.      مدکور.                      mdکwr.      84  umich-11   \n",
       "42          Taqwīm       تقويم                       Tqwym      85  umich-11   \n",
       "43         barāmij       برامج                       brāmj      85  umich-11   \n",
       "44           iʻdād       إعداد                       iʻdād      85  umich-11   \n",
       "45       muʻallimī       معلمي                       mʻlmy      85  umich-11   \n",
       "46       al-lughah       اللغة                      allghh      85  umich-11   \n",
       "47    al-ʻArabīyah     العربية                     alʻrbyh      85  umich-11   \n",
       "48        li-ghayr        لغير                       lghyr      85  umich-11   \n",
       "49      al-nāṭiqīn    الناطقين                    alnāṭqyn      85  umich-11   \n",
       "50            bihā         بها                         bhā      85  umich-11   \n",
       "51               /           /                           /      85  umich-11   \n",
       "52          taʼlīf       تأليف                       Tʼlyf      86  umich-11   \n",
       "53            ʻAlī         علي                         ʻly      86  umich-11   \n",
       "54           Aḥmad        أحمد                        aḥmd      86  umich-11   \n",
       "55         Madkūr.      مدکور.                      mdکwr.      86  umich-11   \n",
       "56       Manshūrāt     منسورات                     Mnswrāt      88  umich-11   \n",
       "57      al-Īsīskū,  الايسيسکو،                  alāysysکw,      88  umich-11   \n",
       "58        Sharikāt       شركات                      Shrkāt     174  umich-21   \n",
       "59          tawẓīf       توظيف                       twẓyf     174  umich-21   \n",
       "60        al-amwāl     الأموال                     alʼmwāl     174  umich-21   \n",
       "61               :           :                           :     174  umich-21   \n",
       "62     al-usṭūrah,   الأسطورة،                   Alʼsṭwrh,     175  umich-21   \n",
       "63     al-inhiyār,   الانهيار،                   alānhyār,     175  umich-21   \n",
       "64   al-mustaqbal.   المستقبل.                   almstqbl.     175  umich-21   \n",
       "65       al-Ṭabʻah      الطبعة                      Alṭbʻh     176  umich-21   \n",
       "66              2.          ٢.                          2.     176  umich-21   \n",
       "67      Muʼassasat       مؤسسة                       Mʼssh     178  umich-21   \n",
       "68       al-Ahrām,    الأهرام،                    alʼhrām,     178  umich-21   \n",
       "69           Kitāb        كتاب                        Ktāb     180  umich-21   \n",
       "70        al-Ahrām     الأهرام                     alʼhrām     180  umich-21   \n",
       "71     al-iqtiṣādī   الاقتصادي                   alāqtṣādy     180  umich-21   \n",
       "72               ;           ؛                           ;     180  umich-21   \n",
       "73        al-kitāb      الكتاب                      Alktāb     181  umich-21   \n",
       "74               4           ٤                           4     181  umich-21   \n",
       "75             Bin         علي                         ʻLy     262  umich-31   \n",
       "76       Muḥammad,          بن                        aibn     262  umich-31   \n",
       "77           ʻAlī.       محمد.                       mḥmd.     262  umich-31   \n",
       "78             Ibn         ابن                         Abn     263  umich-31   \n",
       "79          Bassām        بسام                        bsām     263  umich-31   \n",
       "80     al-Andalusī    الأندلسي                    alʼndlsy     263  umich-31   \n",
       "81        wa-kitāb       وكتاب                       wktāb     263  umich-31   \n",
       "82    al-Dhakhīrah     الذخيرة                   aldhkhyrh     263  umich-31   \n",
       "83               :           :                           :     263  umich-31   \n",
       "84         dirāsah       دراسة                       Drāsh     264  umich-31   \n",
       "85              fī          في                          fy     264  umich-31   \n",
       "86           ḥayāt        حياة                        ḥyāh     264  umich-31   \n",
       "87        al-rajul       الرجل                       alrjl     264  umich-31   \n",
       "88        wa-ahamm        وأهم                        wʼhm     264  umich-31   \n",
       "89         jawānib       جوانب                       jwānb     264  umich-31   \n",
       "90        al-kitāb      الكتاب                      alktāb     264  umich-31   \n",
       "91               /           /                           /     264  umich-31   \n",
       "92            ʻAlī         علي                         ʻLy     265  umich-31   \n",
       "93             Bin          بن                        aibn     265  umich-31   \n",
       "94       Muḥammad.       محمد.                       mḥmd.     265  umich-31   \n",
       "95   al-Muʼassasah     المؤسسة                     Almʼssh     267  umich-31   \n",
       "96    al-Waṭanīyah     الوطنية                     alwṭnyh     267  umich-31   \n",
       "97      lil-Kitāb,     للكتاب،                     llktāb,     267  umich-31   \n",
       "98        ʻUraybī,         علي                         ʻLy     339  umich-41   \n",
       "99           ʻAlī.    العريبي.                    alʻryby.     339  umich-41   \n",
       "\n",
       "   comb.tag  match  match_ignore_case  \n",
       "0      100a  False              False  \n",
       "1      100a  False              False  \n",
       "2      100a  False              False  \n",
       "3      245a  False              False  \n",
       "4      245a  False              False  \n",
       "5      245a   True               True  \n",
       "6      245a  False              False  \n",
       "7      245a  False              False  \n",
       "8      245a   True               True  \n",
       "9      245a   True               True  \n",
       "10     245b  False              False  \n",
       "11     245b  False              False  \n",
       "12     245b  False              False  \n",
       "13     245b  False              False  \n",
       "14     245b  False              False  \n",
       "15     245b  False              False  \n",
       "16     245b  False              False  \n",
       "17     245b   True               True  \n",
       "18     245b  False              False  \n",
       "19     245b  False              False  \n",
       "20     245b  False              False  \n",
       "21     245b  False              False  \n",
       "22     245b   True               True  \n",
       "23     245c  False              False  \n",
       "24     245c  False              False  \n",
       "25     245c  False              False  \n",
       "26     245c  False              False  \n",
       "27     246a  False              False  \n",
       "28     246a  False              False  \n",
       "29     246a  False              False  \n",
       "30     246a  False              False  \n",
       "31     246a  False              False  \n",
       "32     246a  False              False  \n",
       "33     246a   True               True  \n",
       "34     250a  False              False  \n",
       "35     250a   True               True  \n",
       "36     260b  False              False  \n",
       "37     260b  False              False  \n",
       "38     260b  False              False  \n",
       "39     100a  False              False  \n",
       "40     100a  False              False  \n",
       "41     100a  False              False  \n",
       "42     245a  False              False  \n",
       "43     245a  False              False  \n",
       "44     245a   True               True  \n",
       "45     245a  False              False  \n",
       "46     245a  False              False  \n",
       "47     245a  False              False  \n",
       "48     245a  False              False  \n",
       "49     245a  False              False  \n",
       "50     245a  False              False  \n",
       "51     245a   True               True  \n",
       "52     245c  False              False  \n",
       "53     245c  False              False  \n",
       "54     245c  False              False  \n",
       "55     245c  False              False  \n",
       "56     260b  False              False  \n",
       "57     260b  False              False  \n",
       "58     245a  False              False  \n",
       "59     245a  False              False  \n",
       "60     245a  False              False  \n",
       "61     245a   True               True  \n",
       "62     245b  False              False  \n",
       "63     245b  False              False  \n",
       "64     245b  False              False  \n",
       "65     250a  False              False  \n",
       "66     250a   True               True  \n",
       "67     260b  False              False  \n",
       "68     260b  False              False  \n",
       "69     490a  False              False  \n",
       "70     490a  False              False  \n",
       "71     490a  False              False  \n",
       "72     490a   True               True  \n",
       "73     490v  False              False  \n",
       "74     490v   True               True  \n",
       "75     100a  False              False  \n",
       "76     100a  False              False  \n",
       "77     100a  False              False  \n",
       "78     245a  False              False  \n",
       "79     245a  False              False  \n",
       "80     245a  False              False  \n",
       "81     245a  False              False  \n",
       "82     245a  False              False  \n",
       "83     245a   True               True  \n",
       "84     245b  False              False  \n",
       "85     245b  False              False  \n",
       "86     245b  False              False  \n",
       "87     245b  False              False  \n",
       "88     245b  False              False  \n",
       "89     245b  False              False  \n",
       "90     245b  False              False  \n",
       "91     245b   True               True  \n",
       "92     245c  False              False  \n",
       "93     245c  False              False  \n",
       "94     245c  False              False  \n",
       "95     260b  False              False  \n",
       "96     260b  False              False  \n",
       "97     260b  False              False  \n",
       "98     100a  False              False  \n",
       "99     100a  False              False  "
      ],
      "text/html": "<div>\n<style scoped>\n    .dataframe tbody tr th:only-of-type {\n        vertical-align: middle;\n    }\n\n    .dataframe tbody tr th {\n        vertical-align: top;\n    }\n\n    .dataframe thead th {\n        text-align: right;\n    }\n</style>\n<table border=\"1\" class=\"dataframe\">\n  <thead>\n    <tr style=\"text-align: right;\">\n      <th></th>\n      <th>gold_tok</th>\n      <th>source_tok</th>\n      <th>predict_translit_simple_tok</th>\n      <th>sentID</th>\n      <th>recID</th>\n      <th>comb.tag</th>\n      <th>match</th>\n      <th>match_ignore_case</th>\n    </tr>\n  </thead>\n  <tbody>\n    <tr>\n      <th>0</th>\n      <td>Rāfiʻī,</td>\n      <td>رافعي،</td>\n      <td>Rāfʻy,</td>\n      <td>0</td>\n      <td>umich-1</td>\n      <td>100a</td>\n      <td>False</td>\n      <td>False</td>\n    </tr>\n    <tr>\n      <th>1</th>\n      <td>ʻAbd</td>\n      <td>عبد</td>\n      <td>ʻbd</td>\n      <td>0</td>\n      <td>umich-1</td>\n      <td>100a</td>\n      <td>False</td>\n      <td>False</td>\n    </tr>\n    <tr>\n      <th>2</th>\n      <td>al-Raḥmān.</td>\n      <td>الرحمن.</td>\n      <td>alrḥmn.</td>\n      <td>0</td>\n      <td>umich-1</td>\n      <td>100a</td>\n      <td>False</td>\n      <td>False</td>\n    </tr>\n    <tr>\n      <th>3</th>\n      <td>Muqaddimāt</td>\n      <td>مقدمات</td>\n      <td>Mqdmāt</td>\n      <td>1</td>\n      <td>umich-1</td>\n      <td>245a</td>\n      <td>False</td>\n      <td>False</td>\n    </tr>\n    <tr>\n      <th>4</th>\n      <td>thawrat</td>\n      <td>ثورة</td>\n      <td>thwrh</td>\n      <td>1</td>\n      <td>umich-1</td>\n      <td>245a</td>\n      <td>False</td>\n      <td>False</td>\n    </tr>\n    <tr>\n      <th>5</th>\n      <td>23</td>\n      <td>23</td>\n      <td>23</td>\n      <td>1</td>\n      <td>umich-1</td>\n      <td>245a</td>\n      <td>True</td>\n      <td>True</td>\n    </tr>\n    <tr>\n      <th>6</th>\n      <td>Yūlyū</td>\n      <td>يوليوا</td>\n      <td>ywlywā</td>\n      <td>1</td>\n      <td>umich-1</td>\n      <td>245a</td>\n      <td>False</td>\n      <td>False</td>\n    </tr>\n    <tr>\n      <th>7</th>\n      <td>sanat</td>\n      <td>سنة</td>\n      <td>snh</td>\n      <td>1</td>\n      <td>umich-1</td>\n      <td>245a</td>\n      <td>False</td>\n      <td>False</td>\n    </tr>\n    <tr>\n      <th>8</th>\n      <td>1952</td>\n      <td>1952</td>\n      <td>1952</td>\n      <td>1</td>\n      <td>umich-1</td>\n      <td>245a</td>\n      <td>True</td>\n      <td>True</td>\n    </tr>\n    <tr>\n      <th>9</th>\n      <td>:</td>\n      <td>:</td>\n      <td>:</td>\n      <td>1</td>\n      <td>umich-1</td>\n      <td>245a</td>\n      <td>True</td>\n      <td>True</td>\n    </tr>\n    <tr>\n      <th>10</th>\n      <td>al-kifāḥ</td>\n      <td>الكفاح</td>\n      <td>Alkfāḥ</td>\n      <td>2</td>\n      <td>umich-1</td>\n      <td>245b</td>\n      <td>False</td>\n      <td>False</td>\n    </tr>\n    <tr>\n      <th>11</th>\n      <td>fī</td>\n      <td>في</td>\n      <td>fy</td>\n      <td>2</td>\n      <td>umich-1</td>\n      <td>245b</td>\n      <td>False</td>\n      <td>False</td>\n    </tr>\n    <tr>\n      <th>12</th>\n      <td>al-qitāl,</td>\n      <td>القتال،</td>\n      <td>alqtāl,</td>\n      <td>2</td>\n      <td>umich-1</td>\n      <td>245b</td>\n      <td>False</td>\n      <td>False</td>\n    </tr>\n    <tr>\n      <th>13</th>\n      <td>ḥarīq</td>\n      <td>حريق</td>\n      <td>ḥryq</td>\n      <td>2</td>\n      <td>umich-1</td>\n      <td>245b</td>\n      <td>False</td>\n      <td>False</td>\n    </tr>\n    <tr>\n      <th>14</th>\n      <td>al-Qāhirah,</td>\n      <td>القاهرة،</td>\n      <td>alqāhrh,</td>\n      <td>2</td>\n      <td>umich-1</td>\n      <td>245b</td>\n      <td>False</td>\n      <td>False</td>\n    </tr>\n    <tr>\n      <th>15</th>\n      <td>wazārāt</td>\n      <td>وزارات</td>\n      <td>wzārāt</td>\n      <td>2</td>\n      <td>umich-1</td>\n      <td>245b</td>\n      <td>False</td>\n      <td>False</td>\n    </tr>\n    <tr>\n      <th>16</th>\n      <td>al-muwaẓaffīn,</td>\n      <td>الموظفين،</td>\n      <td>almwẓfyn,</td>\n      <td>2</td>\n      <td>umich-1</td>\n      <td>245b</td>\n      <td>False</td>\n      <td>False</td>\n    </tr>\n    <tr>\n      <th>17</th>\n      <td>asbāb</td>\n      <td>اسباب</td>\n      <td>asbāb</td>\n      <td>2</td>\n      <td>umich-1</td>\n      <td>245b</td>\n      <td>True</td>\n      <td>True</td>\n    </tr>\n    <tr>\n      <th>18</th>\n      <td>al-thawrah,</td>\n      <td>الثورة،</td>\n      <td>althwrh,</td>\n      <td>2</td>\n      <td>umich-1</td>\n      <td>245b</td>\n      <td>False</td>\n      <td>False</td>\n    </tr>\n    <tr>\n      <th>19</th>\n      <td>Fārūq</td>\n      <td>فاروق</td>\n      <td>fārwq</td>\n      <td>2</td>\n      <td>umich-1</td>\n      <td>245b</td>\n      <td>False</td>\n      <td>False</td>\n    </tr>\n    <tr>\n      <th>20</th>\n      <td>yumahhid</td>\n      <td>يمهد</td>\n      <td>ymhd</td>\n      <td>2</td>\n      <td>umich-1</td>\n      <td>245b</td>\n      <td>False</td>\n      <td>False</td>\n    </tr>\n    <tr>\n      <th>21</th>\n      <td>lil-thawrah</td>\n      <td>للثورة</td>\n      <td>llthwrh</td>\n      <td>2</td>\n      <td>umich-1</td>\n      <td>245b</td>\n      <td>False</td>\n      <td>False</td>\n    </tr>\n    <tr>\n      <th>22</th>\n      <td>/</td>\n      <td>/</td>\n      <td>/</td>\n      <td>2</td>\n      <td>umich-1</td>\n      <td>245b</td>\n      <td>True</td>\n      <td>True</td>\n    </tr>\n    <tr>\n      <th>23</th>\n      <td>bi-qalam</td>\n      <td>بقلم</td>\n      <td>Bqlm</td>\n      <td>3</td>\n      <td>umich-1</td>\n      <td>245c</td>\n      <td>False</td>\n      <td>False</td>\n    </tr>\n    <tr>\n      <th>24</th>\n      <td>ʻAbd</td>\n      <td>عبد</td>\n      <td>ʻbd</td>\n      <td>3</td>\n      <td>umich-1</td>\n      <td>245c</td>\n      <td>False</td>\n      <td>False</td>\n    </tr>\n    <tr>\n      <th>25</th>\n      <td>al-Raḥmān</td>\n      <td>الرحمن</td>\n      <td>alrḥmn</td>\n      <td>3</td>\n      <td>umich-1</td>\n      <td>245c</td>\n      <td>False</td>\n      <td>False</td>\n    </tr>\n    <tr>\n      <th>26</th>\n      <td>al-Rifāʻī.</td>\n      <td>الرفاعي.</td>\n      <td>alrfāʻy.</td>\n      <td>3</td>\n      <td>umich-1</td>\n      <td>245c</td>\n      <td>False</td>\n      <td>False</td>\n    </tr>\n    <tr>\n      <th>27</th>\n      <td>Muqaddimāt</td>\n      <td>مقدمات</td>\n      <td>Mqdmāt</td>\n      <td>4</td>\n      <td>umich-1</td>\n      <td>246a</td>\n      <td>False</td>\n      <td>False</td>\n    </tr>\n    <tr>\n      <th>28</th>\n      <td>thawrat</td>\n      <td>ثورة</td>\n      <td>thwrh</td>\n      <td>4</td>\n      <td>umich-1</td>\n      <td>246a</td>\n      <td>False</td>\n      <td>False</td>\n    </tr>\n    <tr>\n      <th>29</th>\n      <td>thalāthah</td>\n      <td>ثلاثة</td>\n      <td>thlāthh</td>\n      <td>4</td>\n      <td>umich-1</td>\n      <td>246a</td>\n      <td>False</td>\n      <td>False</td>\n    </tr>\n    <tr>\n      <th>30</th>\n      <td>wa-ʻishrīn</td>\n      <td>وعشرين</td>\n      <td>wʻshryn</td>\n      <td>4</td>\n      <td>umich-1</td>\n      <td>246a</td>\n      <td>False</td>\n      <td>False</td>\n    </tr>\n    <tr>\n      <th>31</th>\n      <td>Yūlyū</td>\n      <td>يوليوا</td>\n      <td>ywlywā</td>\n      <td>4</td>\n      <td>umich-1</td>\n      <td>246a</td>\n      <td>False</td>\n      <td>False</td>\n    </tr>\n    <tr>\n      <th>32</th>\n      <td>sanat</td>\n      <td>سنة</td>\n      <td>snh</td>\n      <td>4</td>\n      <td>umich-1</td>\n      <td>246a</td>\n      <td>False</td>\n      <td>False</td>\n    </tr>\n    <tr>\n      <th>33</th>\n      <td>1952</td>\n      <td>1952</td>\n      <td>1952</td>\n      <td>4</td>\n      <td>umich-1</td>\n      <td>246a</td>\n      <td>True</td>\n      <td>True</td>\n    </tr>\n    <tr>\n      <th>34</th>\n      <td>al-Ṭabʻah</td>\n      <td>الطبعة</td>\n      <td>Alṭbʻh</td>\n      <td>5</td>\n      <td>umich-1</td>\n      <td>250a</td>\n      <td>False</td>\n      <td>False</td>\n    </tr>\n    <tr>\n      <th>35</th>\n      <td>2.</td>\n      <td>2.</td>\n      <td>2.</td>\n      <td>5</td>\n      <td>umich-1</td>\n      <td>250a</td>\n      <td>True</td>\n      <td>True</td>\n    </tr>\n    <tr>\n      <th>36</th>\n      <td>Maktabat</td>\n      <td>مكتبة</td>\n      <td>Mktbh</td>\n      <td>7</td>\n      <td>umich-1</td>\n      <td>260b</td>\n      <td>False</td>\n      <td>False</td>\n    </tr>\n    <tr>\n      <th>37</th>\n      <td>al-Nahḍah</td>\n      <td>النهضة</td>\n      <td>alnhḍh</td>\n      <td>7</td>\n      <td>umich-1</td>\n      <td>260b</td>\n      <td>False</td>\n      <td>False</td>\n    </tr>\n    <tr>\n      <th>38</th>\n      <td>al-Misrīyah,</td>\n      <td>المصرية،</td>\n      <td>almṣryh,</td>\n      <td>7</td>\n      <td>umich-1</td>\n      <td>260b</td>\n      <td>False</td>\n      <td>False</td>\n    </tr>\n    <tr>\n      <th>39</th>\n      <td>Madkūr,</td>\n      <td>علي</td>\n      <td>ʻLy</td>\n      <td>84</td>\n      <td>umich-11</td>\n      <td>100a</td>\n      <td>False</td>\n      <td>False</td>\n    </tr>\n    <tr>\n      <th>40</th>\n      <td>ʻAlī</td>\n      <td>أحمد</td>\n      <td>aḥmd</td>\n      <td>84</td>\n      <td>umich-11</td>\n      <td>100a</td>\n      <td>False</td>\n      <td>False</td>\n    </tr>\n    <tr>\n      <th>41</th>\n      <td>Aḥmad.</td>\n      <td>مدکور.</td>\n      <td>mdکwr.</td>\n      <td>84</td>\n      <td>umich-11</td>\n      <td>100a</td>\n      <td>False</td>\n      <td>False</td>\n    </tr>\n    <tr>\n      <th>42</th>\n      <td>Taqwīm</td>\n      <td>تقويم</td>\n      <td>Tqwym</td>\n      <td>85</td>\n      <td>umich-11</td>\n      <td>245a</td>\n      <td>False</td>\n      <td>False</td>\n    </tr>\n    <tr>\n      <th>43</th>\n      <td>barāmij</td>\n      <td>برامج</td>\n      <td>brāmj</td>\n      <td>85</td>\n      <td>umich-11</td>\n      <td>245a</td>\n      <td>False</td>\n      <td>False</td>\n    </tr>\n    <tr>\n      <th>44</th>\n      <td>iʻdād</td>\n      <td>إعداد</td>\n      <td>iʻdād</td>\n      <td>85</td>\n      <td>umich-11</td>\n      <td>245a</td>\n      <td>True</td>\n      <td>True</td>\n    </tr>\n    <tr>\n      <th>45</th>\n      <td>muʻallimī</td>\n      <td>معلمي</td>\n      <td>mʻlmy</td>\n      <td>85</td>\n      <td>umich-11</td>\n      <td>245a</td>\n      <td>False</td>\n      <td>False</td>\n    </tr>\n    <tr>\n      <th>46</th>\n      <td>al-lughah</td>\n      <td>اللغة</td>\n      <td>allghh</td>\n      <td>85</td>\n      <td>umich-11</td>\n      <td>245a</td>\n      <td>False</td>\n      <td>False</td>\n    </tr>\n    <tr>\n      <th>47</th>\n      <td>al-ʻArabīyah</td>\n      <td>العربية</td>\n      <td>alʻrbyh</td>\n      <td>85</td>\n      <td>umich-11</td>\n      <td>245a</td>\n      <td>False</td>\n      <td>False</td>\n    </tr>\n    <tr>\n      <th>48</th>\n      <td>li-ghayr</td>\n      <td>لغير</td>\n      <td>lghyr</td>\n      <td>85</td>\n      <td>umich-11</td>\n      <td>245a</td>\n      <td>False</td>\n      <td>False</td>\n    </tr>\n    <tr>\n      <th>49</th>\n      <td>al-nāṭiqīn</td>\n      <td>الناطقين</td>\n      <td>alnāṭqyn</td>\n      <td>85</td>\n      <td>umich-11</td>\n      <td>245a</td>\n      <td>False</td>\n      <td>False</td>\n    </tr>\n    <tr>\n      <th>50</th>\n      <td>bihā</td>\n      <td>بها</td>\n      <td>bhā</td>\n      <td>85</td>\n      <td>umich-11</td>\n      <td>245a</td>\n      <td>False</td>\n      <td>False</td>\n    </tr>\n    <tr>\n      <th>51</th>\n      <td>/</td>\n      <td>/</td>\n      <td>/</td>\n      <td>85</td>\n      <td>umich-11</td>\n      <td>245a</td>\n      <td>True</td>\n      <td>True</td>\n    </tr>\n    <tr>\n      <th>52</th>\n      <td>taʼlīf</td>\n      <td>تأليف</td>\n      <td>Tʼlyf</td>\n      <td>86</td>\n      <td>umich-11</td>\n      <td>245c</td>\n      <td>False</td>\n      <td>False</td>\n    </tr>\n    <tr>\n      <th>53</th>\n      <td>ʻAlī</td>\n      <td>علي</td>\n      <td>ʻly</td>\n      <td>86</td>\n      <td>umich-11</td>\n      <td>245c</td>\n      <td>False</td>\n      <td>False</td>\n    </tr>\n    <tr>\n      <th>54</th>\n      <td>Aḥmad</td>\n      <td>أحمد</td>\n      <td>aḥmd</td>\n      <td>86</td>\n      <td>umich-11</td>\n      <td>245c</td>\n      <td>False</td>\n      <td>False</td>\n    </tr>\n    <tr>\n      <th>55</th>\n      <td>Madkūr.</td>\n      <td>مدکور.</td>\n      <td>mdکwr.</td>\n      <td>86</td>\n      <td>umich-11</td>\n      <td>245c</td>\n      <td>False</td>\n      <td>False</td>\n    </tr>\n    <tr>\n      <th>56</th>\n      <td>Manshūrāt</td>\n      <td>منسورات</td>\n      <td>Mnswrāt</td>\n      <td>88</td>\n      <td>umich-11</td>\n      <td>260b</td>\n      <td>False</td>\n      <td>False</td>\n    </tr>\n    <tr>\n      <th>57</th>\n      <td>al-Īsīskū,</td>\n      <td>الايسيسکو،</td>\n      <td>alāysysکw,</td>\n      <td>88</td>\n      <td>umich-11</td>\n      <td>260b</td>\n      <td>False</td>\n      <td>False</td>\n    </tr>\n    <tr>\n      <th>58</th>\n      <td>Sharikāt</td>\n      <td>شركات</td>\n      <td>Shrkāt</td>\n      <td>174</td>\n      <td>umich-21</td>\n      <td>245a</td>\n      <td>False</td>\n      <td>False</td>\n    </tr>\n    <tr>\n      <th>59</th>\n      <td>tawẓīf</td>\n      <td>توظيف</td>\n      <td>twẓyf</td>\n      <td>174</td>\n      <td>umich-21</td>\n      <td>245a</td>\n      <td>False</td>\n      <td>False</td>\n    </tr>\n    <tr>\n      <th>60</th>\n      <td>al-amwāl</td>\n      <td>الأموال</td>\n      <td>alʼmwāl</td>\n      <td>174</td>\n      <td>umich-21</td>\n      <td>245a</td>\n      <td>False</td>\n      <td>False</td>\n    </tr>\n    <tr>\n      <th>61</th>\n      <td>:</td>\n      <td>:</td>\n      <td>:</td>\n      <td>174</td>\n      <td>umich-21</td>\n      <td>245a</td>\n      <td>True</td>\n      <td>True</td>\n    </tr>\n    <tr>\n      <th>62</th>\n      <td>al-usṭūrah,</td>\n      <td>الأسطورة،</td>\n      <td>Alʼsṭwrh,</td>\n      <td>175</td>\n      <td>umich-21</td>\n      <td>245b</td>\n      <td>False</td>\n      <td>False</td>\n    </tr>\n    <tr>\n      <th>63</th>\n      <td>al-inhiyār,</td>\n      <td>الانهيار،</td>\n      <td>alānhyār,</td>\n      <td>175</td>\n      <td>umich-21</td>\n      <td>245b</td>\n      <td>False</td>\n      <td>False</td>\n    </tr>\n    <tr>\n      <th>64</th>\n      <td>al-mustaqbal.</td>\n      <td>المستقبل.</td>\n      <td>almstqbl.</td>\n      <td>175</td>\n      <td>umich-21</td>\n      <td>245b</td>\n      <td>False</td>\n      <td>False</td>\n    </tr>\n    <tr>\n      <th>65</th>\n      <td>al-Ṭabʻah</td>\n      <td>الطبعة</td>\n      <td>Alṭbʻh</td>\n      <td>176</td>\n      <td>umich-21</td>\n      <td>250a</td>\n      <td>False</td>\n      <td>False</td>\n    </tr>\n    <tr>\n      <th>66</th>\n      <td>2.</td>\n      <td>٢.</td>\n      <td>2.</td>\n      <td>176</td>\n      <td>umich-21</td>\n      <td>250a</td>\n      <td>True</td>\n      <td>True</td>\n    </tr>\n    <tr>\n      <th>67</th>\n      <td>Muʼassasat</td>\n      <td>مؤسسة</td>\n      <td>Mʼssh</td>\n      <td>178</td>\n      <td>umich-21</td>\n      <td>260b</td>\n      <td>False</td>\n      <td>False</td>\n    </tr>\n    <tr>\n      <th>68</th>\n      <td>al-Ahrām,</td>\n      <td>الأهرام،</td>\n      <td>alʼhrām,</td>\n      <td>178</td>\n      <td>umich-21</td>\n      <td>260b</td>\n      <td>False</td>\n      <td>False</td>\n    </tr>\n    <tr>\n      <th>69</th>\n      <td>Kitāb</td>\n      <td>كتاب</td>\n      <td>Ktāb</td>\n      <td>180</td>\n      <td>umich-21</td>\n      <td>490a</td>\n      <td>False</td>\n      <td>False</td>\n    </tr>\n    <tr>\n      <th>70</th>\n      <td>al-Ahrām</td>\n      <td>الأهرام</td>\n      <td>alʼhrām</td>\n      <td>180</td>\n      <td>umich-21</td>\n      <td>490a</td>\n      <td>False</td>\n      <td>False</td>\n    </tr>\n    <tr>\n      <th>71</th>\n      <td>al-iqtiṣādī</td>\n      <td>الاقتصادي</td>\n      <td>alāqtṣādy</td>\n      <td>180</td>\n      <td>umich-21</td>\n      <td>490a</td>\n      <td>False</td>\n      <td>False</td>\n    </tr>\n    <tr>\n      <th>72</th>\n      <td>;</td>\n      <td>؛</td>\n      <td>;</td>\n      <td>180</td>\n      <td>umich-21</td>\n      <td>490a</td>\n      <td>True</td>\n      <td>True</td>\n    </tr>\n    <tr>\n      <th>73</th>\n      <td>al-kitāb</td>\n      <td>الكتاب</td>\n      <td>Alktāb</td>\n      <td>181</td>\n      <td>umich-21</td>\n      <td>490v</td>\n      <td>False</td>\n      <td>False</td>\n    </tr>\n    <tr>\n      <th>74</th>\n      <td>4</td>\n      <td>٤</td>\n      <td>4</td>\n      <td>181</td>\n      <td>umich-21</td>\n      <td>490v</td>\n      <td>True</td>\n      <td>True</td>\n    </tr>\n    <tr>\n      <th>75</th>\n      <td>Bin</td>\n      <td>علي</td>\n      <td>ʻLy</td>\n      <td>262</td>\n      <td>umich-31</td>\n      <td>100a</td>\n      <td>False</td>\n      <td>False</td>\n    </tr>\n    <tr>\n      <th>76</th>\n      <td>Muḥammad,</td>\n      <td>بن</td>\n      <td>aibn</td>\n      <td>262</td>\n      <td>umich-31</td>\n      <td>100a</td>\n      <td>False</td>\n      <td>False</td>\n    </tr>\n    <tr>\n      <th>77</th>\n      <td>ʻAlī.</td>\n      <td>محمد.</td>\n      <td>mḥmd.</td>\n      <td>262</td>\n      <td>umich-31</td>\n      <td>100a</td>\n      <td>False</td>\n      <td>False</td>\n    </tr>\n    <tr>\n      <th>78</th>\n      <td>Ibn</td>\n      <td>ابن</td>\n      <td>Abn</td>\n      <td>263</td>\n      <td>umich-31</td>\n      <td>245a</td>\n      <td>False</td>\n      <td>False</td>\n    </tr>\n    <tr>\n      <th>79</th>\n      <td>Bassām</td>\n      <td>بسام</td>\n      <td>bsām</td>\n      <td>263</td>\n      <td>umich-31</td>\n      <td>245a</td>\n      <td>False</td>\n      <td>False</td>\n    </tr>\n    <tr>\n      <th>80</th>\n      <td>al-Andalusī</td>\n      <td>الأندلسي</td>\n      <td>alʼndlsy</td>\n      <td>263</td>\n      <td>umich-31</td>\n      <td>245a</td>\n      <td>False</td>\n      <td>False</td>\n    </tr>\n    <tr>\n      <th>81</th>\n      <td>wa-kitāb</td>\n      <td>وكتاب</td>\n      <td>wktāb</td>\n      <td>263</td>\n      <td>umich-31</td>\n      <td>245a</td>\n      <td>False</td>\n      <td>False</td>\n    </tr>\n    <tr>\n      <th>82</th>\n      <td>al-Dhakhīrah</td>\n      <td>الذخيرة</td>\n      <td>aldhkhyrh</td>\n      <td>263</td>\n      <td>umich-31</td>\n      <td>245a</td>\n      <td>False</td>\n      <td>False</td>\n    </tr>\n    <tr>\n      <th>83</th>\n      <td>:</td>\n      <td>:</td>\n      <td>:</td>\n      <td>263</td>\n      <td>umich-31</td>\n      <td>245a</td>\n      <td>True</td>\n      <td>True</td>\n    </tr>\n    <tr>\n      <th>84</th>\n      <td>dirāsah</td>\n      <td>دراسة</td>\n      <td>Drāsh</td>\n      <td>264</td>\n      <td>umich-31</td>\n      <td>245b</td>\n      <td>False</td>\n      <td>False</td>\n    </tr>\n    <tr>\n      <th>85</th>\n      <td>fī</td>\n      <td>في</td>\n      <td>fy</td>\n      <td>264</td>\n      <td>umich-31</td>\n      <td>245b</td>\n      <td>False</td>\n      <td>False</td>\n    </tr>\n    <tr>\n      <th>86</th>\n      <td>ḥayāt</td>\n      <td>حياة</td>\n      <td>ḥyāh</td>\n      <td>264</td>\n      <td>umich-31</td>\n      <td>245b</td>\n      <td>False</td>\n      <td>False</td>\n    </tr>\n    <tr>\n      <th>87</th>\n      <td>al-rajul</td>\n      <td>الرجل</td>\n      <td>alrjl</td>\n      <td>264</td>\n      <td>umich-31</td>\n      <td>245b</td>\n      <td>False</td>\n      <td>False</td>\n    </tr>\n    <tr>\n      <th>88</th>\n      <td>wa-ahamm</td>\n      <td>وأهم</td>\n      <td>wʼhm</td>\n      <td>264</td>\n      <td>umich-31</td>\n      <td>245b</td>\n      <td>False</td>\n      <td>False</td>\n    </tr>\n    <tr>\n      <th>89</th>\n      <td>jawānib</td>\n      <td>جوانب</td>\n      <td>jwānb</td>\n      <td>264</td>\n      <td>umich-31</td>\n      <td>245b</td>\n      <td>False</td>\n      <td>False</td>\n    </tr>\n    <tr>\n      <th>90</th>\n      <td>al-kitāb</td>\n      <td>الكتاب</td>\n      <td>alktāb</td>\n      <td>264</td>\n      <td>umich-31</td>\n      <td>245b</td>\n      <td>False</td>\n      <td>False</td>\n    </tr>\n    <tr>\n      <th>91</th>\n      <td>/</td>\n      <td>/</td>\n      <td>/</td>\n      <td>264</td>\n      <td>umich-31</td>\n      <td>245b</td>\n      <td>True</td>\n      <td>True</td>\n    </tr>\n    <tr>\n      <th>92</th>\n      <td>ʻAlī</td>\n      <td>علي</td>\n      <td>ʻLy</td>\n      <td>265</td>\n      <td>umich-31</td>\n      <td>245c</td>\n      <td>False</td>\n      <td>False</td>\n    </tr>\n    <tr>\n      <th>93</th>\n      <td>Bin</td>\n      <td>بن</td>\n      <td>aibn</td>\n      <td>265</td>\n      <td>umich-31</td>\n      <td>245c</td>\n      <td>False</td>\n      <td>False</td>\n    </tr>\n    <tr>\n      <th>94</th>\n      <td>Muḥammad.</td>\n      <td>محمد.</td>\n      <td>mḥmd.</td>\n      <td>265</td>\n      <td>umich-31</td>\n      <td>245c</td>\n      <td>False</td>\n      <td>False</td>\n    </tr>\n    <tr>\n      <th>95</th>\n      <td>al-Muʼassasah</td>\n      <td>المؤسسة</td>\n      <td>Almʼssh</td>\n      <td>267</td>\n      <td>umich-31</td>\n      <td>260b</td>\n      <td>False</td>\n      <td>False</td>\n    </tr>\n    <tr>\n      <th>96</th>\n      <td>al-Waṭanīyah</td>\n      <td>الوطنية</td>\n      <td>alwṭnyh</td>\n      <td>267</td>\n      <td>umich-31</td>\n      <td>260b</td>\n      <td>False</td>\n      <td>False</td>\n    </tr>\n    <tr>\n      <th>97</th>\n      <td>lil-Kitāb,</td>\n      <td>للكتاب،</td>\n      <td>llktāb,</td>\n      <td>267</td>\n      <td>umich-31</td>\n      <td>260b</td>\n      <td>False</td>\n      <td>False</td>\n    </tr>\n    <tr>\n      <th>98</th>\n      <td>ʻUraybī,</td>\n      <td>علي</td>\n      <td>ʻLy</td>\n      <td>339</td>\n      <td>umich-41</td>\n      <td>100a</td>\n      <td>False</td>\n      <td>False</td>\n    </tr>\n    <tr>\n      <th>99</th>\n      <td>ʻAlī.</td>\n      <td>العريبي.</td>\n      <td>alʻryby.</td>\n      <td>339</td>\n      <td>umich-41</td>\n      <td>100a</td>\n      <td>False</td>\n      <td>False</td>\n    </tr>\n  </tbody>\n</table>\n</div>"
     },
     "metadata": {},
     "execution_count": 15
    }
   ],
   "source": [
    "evaluation[:100]"
   ]
  },
  {
   "cell_type": "code",
   "execution_count": null,
   "metadata": {},
   "outputs": [],
   "source": []
  }
 ]
}