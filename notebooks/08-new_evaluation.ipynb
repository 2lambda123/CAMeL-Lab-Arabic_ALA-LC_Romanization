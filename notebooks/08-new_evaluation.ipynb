{
 "metadata": {
  "language_info": {
   "codemirror_mode": {
    "name": "ipython",
    "version": 3
   },
   "file_extension": ".py",
   "mimetype": "text/x-python",
   "name": "python",
   "nbconvert_exporter": "python",
   "pygments_lexer": "ipython3",
   "version": "3.7.9-final"
  },
  "orig_nbformat": 2,
  "kernelspec": {
   "name": "python3",
   "display_name": "Python 3",
   "language": "python"
  }
 },
 "nbformat": 4,
 "nbformat_minor": 2,
 "cells": [
  {
   "cell_type": "code",
   "execution_count": 12,
   "metadata": {},
   "outputs": [
    {
     "output_type": "stream",
     "name": "stdout",
     "text": [
      "The autoreload extension is already loaded. To reload it, use:\n  %reload_ext autoreload\n"
     ]
    }
   ],
   "source": [
    "%load_ext autoreload\n",
    "%autoreload 2\n",
    "import pandas as pd\n",
    "import os\n",
    "from pathlib import Path\n",
    "sys.path.insert(0,\"..\")\n",
    "from src.evaluation.evaluate import Sent2Sent, match,match_ignore_case,match_ignore_case_punc,match_ignore_case_punc_keep_hyphen"
   ]
  },
  {
   "cell_type": "code",
   "execution_count": 4,
   "metadata": {},
   "outputs": [],
   "source": [
    "# home = Path(os.getcwd()).parent.joinpath('predictions_out')\n",
    "# predictions_list = []\n",
    "# for dirpath, dirnames, filenames in os.walk(home):\n",
    "#     for name in filenames:\n",
    "#         if name.endswith('.out') or name.endswith('.tsv'):\n",
    "#             predictions_list.append(f'{dirpath}/{name}')\n",
    "# sorted(predictions_list,reverse=True)"
   ]
  },
  {
   "cell_type": "code",
   "execution_count": 4,
   "metadata": {},
   "outputs": [],
   "source": [
    "test = pd.read_csv(f'{home.parent}/data/processed/test.tsv',delimiter='\\t')"
   ]
  },
  {
   "cell_type": "code",
   "execution_count": 11,
   "metadata": {},
   "outputs": [],
   "source": [
    "dev = pd.read_csv(f'{home.parent}/data/processed/dev.tsv',delimiter='\\t')"
   ]
  },
  {
   "cell_type": "code",
   "execution_count": 8,
   "metadata": {},
   "outputs": [],
   "source": [
    "train = pd.read_csv(f'{home.parent}/data/processed/train.tsv',delimiter='\\t')"
   ]
  },
  {
   "cell_type": "code",
   "execution_count": 16,
   "metadata": {},
   "outputs": [
    {
     "output_type": "execute_result",
     "data": {
      "text/plain": [
       "splits\n",
       "train    0.800297\n",
       "dev      0.100022\n",
       "test     0.099680\n",
       "dtype: float64"
      ]
     },
     "metadata": {},
     "execution_count": 16
    }
   ],
   "source": [
    "allsets = pd.concat([train,dev,test])\n",
    "allsets.drop_duplicates('sentID').value_counts('splits',normalize=True)"
   ]
  },
  {
   "cell_type": "code",
   "execution_count": 6,
   "metadata": {},
   "outputs": [
    {
     "output_type": "stream",
     "name": "stdout",
     "text": [
      "line2line-test_aligned_rulesmorph.out\n",
      "line2line-test_aligned_mlesimple.out\n"
     ]
    }
   ],
   "source": [
    "evalscorestest = []\n",
    "exceptiontest = []\n",
    "for p in predictions:\n",
    "    with open(p,'r') as i:\n",
    "        prediction = [x.strip() for x in i.readlines()]\n",
    "        evaldf = evaluate(test,prediction,eval_funcs=[match,match_ignore_case,match_ignore_case_punc]) #,match_ignore_case,match_ignore_case_punc # match_ignore_case_punc_keep_hyphen\n",
    "        name = p.split(\"/\")[-1]\n",
    "        print(name)\n",
    "        evaldf.to_csv(f'{home.parent}/evaluation/test/eval-{name}',sep='\\t',index=False)\n",
    "        for m in [col for col in evaldf if col.startswith('match')]:\n",
    "            score = evaldf[m].value_counts(normalize=True)\n",
    "            try:\n",
    "                print(score[True].to_string())\n",
    "            except:\n",
    "                exceptiontest.append((name,m,score))\n",
    "            evalscorestest.append((name,m,score))"
   ]
  },
  {
   "cell_type": "code",
   "execution_count": 7,
   "metadata": {},
   "outputs": [
    {
     "output_type": "execute_result",
     "data": {
      "text/plain": [
       "                                          match  match_ignore_case  \\\n",
       "line2line-test_aligned_rulesmorph.out  0.886986           0.914551   \n",
       "line2line-test_aligned_mlesimple.out   0.890400           0.916396   \n",
       "\n",
       "                                       match_ignore_case_punc  \n",
       "line2line-test_aligned_rulesmorph.out                0.928771  \n",
       "line2line-test_aligned_mlesimple.out                 0.930611  "
      ],
      "text/html": "<div>\n<style scoped>\n    .dataframe tbody tr th:only-of-type {\n        vertical-align: middle;\n    }\n\n    .dataframe tbody tr th {\n        vertical-align: top;\n    }\n\n    .dataframe thead th {\n        text-align: right;\n    }\n</style>\n<table border=\"1\" class=\"dataframe\">\n  <thead>\n    <tr style=\"text-align: right;\">\n      <th></th>\n      <th>match</th>\n      <th>match_ignore_case</th>\n      <th>match_ignore_case_punc</th>\n    </tr>\n  </thead>\n  <tbody>\n    <tr>\n      <th>line2line-test_aligned_rulesmorph.out</th>\n      <td>0.886986</td>\n      <td>0.914551</td>\n      <td>0.928771</td>\n    </tr>\n    <tr>\n      <th>line2line-test_aligned_mlesimple.out</th>\n      <td>0.890400</td>\n      <td>0.916396</td>\n      <td>0.930611</td>\n    </tr>\n  </tbody>\n</table>\n</div>"
     },
     "metadata": {},
     "execution_count": 7
    }
   ],
   "source": [
    "names = {}\n",
    "for name,match,score in evalscorestest:\n",
    "    if name in names:\n",
    "        names[name].update({match:score[True]})\n",
    "    else:\n",
    "        names[name] = {match:score[True]}\n",
    "    \n",
    "pd.DataFrame(names).T"
   ]
  },
  {
   "cell_type": "code",
   "execution_count": 5,
   "metadata": {},
   "outputs": [],
   "source": [
    "# evalscores = []\n",
    "# exception = []\n",
    "# for p in predictions:\n",
    "#     with open(p,'r') as i:\n",
    "#         prediction = [x.strip() for x in i.readlines()]\n",
    "#         evaldf = evaluate(test,prediction,eval_funcs=[match,match_ignore_case,match_ignore_case_punc]) #,match_ignore_case,match_ignore_case_punc # match_ignore_case_punc_keep_hyphen\n",
    "#         name = p.split(\"/\")[-1]\n",
    "#         print(name)\n",
    "#         evaldf.to_csv(f'{home.parent}/evaluation/dev/eval-{name}',sep='\\t',index=False)\n",
    "#         for m in [col for col in evaldf if col.startswith('match')]:\n",
    "#             score = evaldf[m].value_counts(normalize=True)\n",
    "#             try:\n",
    "#                 print(score[True].to_string())\n",
    "#             except:\n",
    "#                 exception.append((name,m,score))\n",
    "#             evalscores.append((name,m,score))"
   ]
  },
  {
   "cell_type": "code",
   "execution_count": 11,
   "metadata": {},
   "outputs": [
    {
     "output_type": "execute_result",
     "data": {
      "text/plain": [
       "                                     match  match_ignore_case  \\\n",
       "line2line-dev_aligned_simple.out  0.889049           0.915165   \n",
       "line2line-dev_aligned_morph.out   0.889373           0.915410   \n",
       "\n",
       "                                  match_ignore_case_punc  \n",
       "line2line-dev_aligned_simple.out                0.929371  \n",
       "line2line-dev_aligned_morph.out                 0.929611  "
      ],
      "text/html": "<div>\n<style scoped>\n    .dataframe tbody tr th:only-of-type {\n        vertical-align: middle;\n    }\n\n    .dataframe tbody tr th {\n        vertical-align: top;\n    }\n\n    .dataframe thead th {\n        text-align: right;\n    }\n</style>\n<table border=\"1\" class=\"dataframe\">\n  <thead>\n    <tr style=\"text-align: right;\">\n      <th></th>\n      <th>match</th>\n      <th>match_ignore_case</th>\n      <th>match_ignore_case_punc</th>\n    </tr>\n  </thead>\n  <tbody>\n    <tr>\n      <th>line2line-dev_aligned_simple.out</th>\n      <td>0.889049</td>\n      <td>0.915165</td>\n      <td>0.929371</td>\n    </tr>\n    <tr>\n      <th>line2line-dev_aligned_morph.out</th>\n      <td>0.889373</td>\n      <td>0.915410</td>\n      <td>0.929611</td>\n    </tr>\n  </tbody>\n</table>\n</div>"
     },
     "metadata": {},
     "execution_count": 11
    }
   ],
   "source": [
    "names = {}\n",
    "for name,match,score in evalscores:\n",
    "    if name in names:\n",
    "        names[name].update({match:score[True]})\n",
    "    else:\n",
    "        names[name] = {match:score[True]}\n",
    "    \n",
    "pd.DataFrame(names).T"
   ]
  },
  {
   "cell_type": "code",
   "execution_count": 217,
   "metadata": {},
   "outputs": [],
   "source": [
    "evalscores2 = []\n",
    "for e in os.listdir(home.parent.joinpath('evaluation/dev')):\n",
    "    name = e\n",
    "    print(e)\n",
    "    evaldf = pd.read_csv(home.parent.joinpath(f'evaluation/dev/{e}'),delimiter='\\t')\n",
    "    for m in [col for col in evaldf if col.startswith('match')]:\n",
    "        score = evaldf[m].value_counts(normalize=True)\n",
    "        print(score[True].to_string())\n",
    "        evalscores2.append((name,m,score))"
   ]
  },
  {
   "cell_type": "code",
   "execution_count": 216,
   "metadata": {},
   "outputs": [],
   "source": [
    "names2 = {}\n",
    "for name,match,score in evalscores2:\n",
    "    if name in names2:\n",
    "        names2[name].update({match:score[True]})\n",
    "    else:\n",
    "        names2[name] = {match:score[True]}\n",
    "    \n",
    "pd.DataFrame(names2).T.sort_index().to_clipboard()#.reset_index(drop=True)==pd.DataFrame(names).T.sort_values('match').reset_index(drop=True)"
   ]
  },
  {
   "cell_type": "code",
   "execution_count": 7,
   "metadata": {},
   "outputs": [],
   "source": [
    "home = Path(os.getcwd()).parent\n",
    "with open(home.joinpath('predictions_out/translit_morph/dev/rules-morph.tsv'),'r') as f:\n",
    "    rules_morph = [line.strip() for line in f.readlines()]\n",
    "\n",
    "dev = pd.read_csv(home.joinpath('data/processed/dev.tsv'),delimiter='\\t')"
   ]
  },
  {
   "cell_type": "code",
   "execution_count": 8,
   "metadata": {},
   "outputs": [
    {
     "output_type": "stream",
     "name": "stdout",
     "text": [
      "Misaligned gold/prediction sentID: 20388\n"
     ]
    },
    {
     "output_type": "error",
     "ename": "KeyboardInterrupt",
     "evalue": "",
     "traceback": [
      "\u001b[0;31m---------------------------------------------------------------------------\u001b[0m",
      "\u001b[0;31mKeyboardInterrupt\u001b[0m                         Traceback (most recent call last)",
      "\u001b[0;32m<ipython-input-8-e8d2fdd467cf>\u001b[0m in \u001b[0;36m<module>\u001b[0;34m\u001b[0m\n\u001b[1;32m      1\u001b[0m \u001b[0me\u001b[0m \u001b[0;34m=\u001b[0m \u001b[0mSent2Sent\u001b[0m\u001b[0;34m(\u001b[0m\u001b[0mdev\u001b[0m\u001b[0;34m,\u001b[0m\u001b[0mrules_morph\u001b[0m\u001b[0;34m,\u001b[0m\u001b[0;34m'rules-morph'\u001b[0m\u001b[0;34m)\u001b[0m\u001b[0;34m\u001b[0m\u001b[0;34m\u001b[0m\u001b[0m\n\u001b[0;32m----> 2\u001b[0;31m \u001b[0me\u001b[0m\u001b[0;34m.\u001b[0m\u001b[0mcalculate_word2word\u001b[0m\u001b[0;34m(\u001b[0m\u001b[0;34m)\u001b[0m\u001b[0;34m\u001b[0m\u001b[0;34m\u001b[0m\u001b[0m\n\u001b[0m",
      "\u001b[0;32m~/ba3sasah/LOC_transcribe/src/evaluation/evaluate.py\u001b[0m in \u001b[0;36mcalculate_word2word\u001b[0;34m(self, evalfuncs)\u001b[0m\n\u001b[1;32m     75\u001b[0m \u001b[0;34m\u001b[0m\u001b[0m\n\u001b[1;32m     76\u001b[0m     \u001b[0;32mdef\u001b[0m \u001b[0mcalculate_word2word\u001b[0m\u001b[0;34m(\u001b[0m\u001b[0mself\u001b[0m\u001b[0;34m,\u001b[0m\u001b[0mevalfuncs\u001b[0m\u001b[0;34m=\u001b[0m\u001b[0;34m[\u001b[0m\u001b[0mmatch\u001b[0m\u001b[0;34m,\u001b[0m\u001b[0mmatch_ignore_case\u001b[0m\u001b[0;34m,\u001b[0m\u001b[0mmatch_ignore_case_punc\u001b[0m\u001b[0;34m]\u001b[0m\u001b[0;34m)\u001b[0m\u001b[0;34m:\u001b[0m\u001b[0;34m\u001b[0m\u001b[0;34m\u001b[0m\u001b[0m\n\u001b[0;32m---> 77\u001b[0;31m         \u001b[0msents\u001b[0m \u001b[0;34m=\u001b[0m \u001b[0mself\u001b[0m\u001b[0;34m.\u001b[0m\u001b[0msent2sent\u001b[0m\u001b[0;34m.\u001b[0m\u001b[0mapply\u001b[0m\u001b[0;34m(\u001b[0m\u001b[0;32mlambda\u001b[0m \u001b[0mx\u001b[0m\u001b[0;34m:\u001b[0m \u001b[0mWord2Word\u001b[0m\u001b[0;34m(\u001b[0m\u001b[0mx\u001b[0m\u001b[0;34m,\u001b[0m\u001b[0mevalfuncs\u001b[0m\u001b[0;34m=\u001b[0m\u001b[0mevalfuncs\u001b[0m\u001b[0;34m,\u001b[0m\u001b[0madditional_info\u001b[0m\u001b[0;34m=\u001b[0m\u001b[0mself\u001b[0m\u001b[0;34m.\u001b[0m\u001b[0madditional_info\u001b[0m\u001b[0;34m)\u001b[0m\u001b[0;34m,\u001b[0m\u001b[0maxis\u001b[0m\u001b[0;34m=\u001b[0m\u001b[0;36m1\u001b[0m\u001b[0;34m)\u001b[0m\u001b[0;34m\u001b[0m\u001b[0;34m\u001b[0m\u001b[0m\n\u001b[0m\u001b[1;32m     78\u001b[0m         \u001b[0mword2word\u001b[0m \u001b[0;34m=\u001b[0m \u001b[0mpd\u001b[0m\u001b[0;34m.\u001b[0m\u001b[0mconcat\u001b[0m\u001b[0;34m(\u001b[0m\u001b[0;34m[\u001b[0m\u001b[0msent\u001b[0m\u001b[0;34m.\u001b[0m\u001b[0meval\u001b[0m \u001b[0;32mfor\u001b[0m \u001b[0msent\u001b[0m \u001b[0;32min\u001b[0m \u001b[0msents\u001b[0m\u001b[0;34m]\u001b[0m\u001b[0;34m)\u001b[0m\u001b[0;34m\u001b[0m\u001b[0;34m\u001b[0m\u001b[0m\n\u001b[1;32m     79\u001b[0m         \u001b[0;32mfor\u001b[0m \u001b[0mmatch\u001b[0m \u001b[0;32min\u001b[0m \u001b[0;34m[\u001b[0m\u001b[0mcolumn\u001b[0m \u001b[0;32mfor\u001b[0m \u001b[0mcolumn\u001b[0m \u001b[0;32min\u001b[0m \u001b[0mword2word\u001b[0m\u001b[0;34m.\u001b[0m\u001b[0mcolumns\u001b[0m \u001b[0;32mif\u001b[0m \u001b[0mcolumn\u001b[0m\u001b[0;34m.\u001b[0m\u001b[0mstartswith\u001b[0m\u001b[0;34m(\u001b[0m\u001b[0;34m'match'\u001b[0m\u001b[0;34m)\u001b[0m\u001b[0;34m]\u001b[0m\u001b[0;34m:\u001b[0m\u001b[0;34m\u001b[0m\u001b[0;34m\u001b[0m\u001b[0m\n",
      "\u001b[0;32m/usr/local/Caskroom/miniconda/base/envs/LOC_transcribe/lib/python3.7/site-packages/pandas/core/frame.py\u001b[0m in \u001b[0;36mapply\u001b[0;34m(self, func, axis, raw, result_type, args, **kwds)\u001b[0m\n\u001b[1;32m   7763\u001b[0m             \u001b[0mkwds\u001b[0m\u001b[0;34m=\u001b[0m\u001b[0mkwds\u001b[0m\u001b[0;34m,\u001b[0m\u001b[0;34m\u001b[0m\u001b[0;34m\u001b[0m\u001b[0m\n\u001b[1;32m   7764\u001b[0m         )\n\u001b[0;32m-> 7765\u001b[0;31m         \u001b[0;32mreturn\u001b[0m \u001b[0mop\u001b[0m\u001b[0;34m.\u001b[0m\u001b[0mget_result\u001b[0m\u001b[0;34m(\u001b[0m\u001b[0;34m)\u001b[0m\u001b[0;34m\u001b[0m\u001b[0;34m\u001b[0m\u001b[0m\n\u001b[0m\u001b[1;32m   7766\u001b[0m \u001b[0;34m\u001b[0m\u001b[0m\n\u001b[1;32m   7767\u001b[0m     \u001b[0;32mdef\u001b[0m \u001b[0mapplymap\u001b[0m\u001b[0;34m(\u001b[0m\u001b[0mself\u001b[0m\u001b[0;34m,\u001b[0m \u001b[0mfunc\u001b[0m\u001b[0;34m,\u001b[0m \u001b[0mna_action\u001b[0m\u001b[0;34m:\u001b[0m \u001b[0mOptional\u001b[0m\u001b[0;34m[\u001b[0m\u001b[0mstr\u001b[0m\u001b[0;34m]\u001b[0m \u001b[0;34m=\u001b[0m \u001b[0;32mNone\u001b[0m\u001b[0;34m)\u001b[0m \u001b[0;34m->\u001b[0m \u001b[0mDataFrame\u001b[0m\u001b[0;34m:\u001b[0m\u001b[0;34m\u001b[0m\u001b[0;34m\u001b[0m\u001b[0m\n",
      "\u001b[0;32m/usr/local/Caskroom/miniconda/base/envs/LOC_transcribe/lib/python3.7/site-packages/pandas/core/apply.py\u001b[0m in \u001b[0;36mget_result\u001b[0;34m(self)\u001b[0m\n\u001b[1;32m    183\u001b[0m             \u001b[0;32mreturn\u001b[0m \u001b[0mself\u001b[0m\u001b[0;34m.\u001b[0m\u001b[0mapply_raw\u001b[0m\u001b[0;34m(\u001b[0m\u001b[0;34m)\u001b[0m\u001b[0;34m\u001b[0m\u001b[0;34m\u001b[0m\u001b[0m\n\u001b[1;32m    184\u001b[0m \u001b[0;34m\u001b[0m\u001b[0m\n\u001b[0;32m--> 185\u001b[0;31m         \u001b[0;32mreturn\u001b[0m \u001b[0mself\u001b[0m\u001b[0;34m.\u001b[0m\u001b[0mapply_standard\u001b[0m\u001b[0;34m(\u001b[0m\u001b[0;34m)\u001b[0m\u001b[0;34m\u001b[0m\u001b[0;34m\u001b[0m\u001b[0m\n\u001b[0m\u001b[1;32m    186\u001b[0m \u001b[0;34m\u001b[0m\u001b[0m\n\u001b[1;32m    187\u001b[0m     \u001b[0;32mdef\u001b[0m \u001b[0mapply_empty_result\u001b[0m\u001b[0;34m(\u001b[0m\u001b[0mself\u001b[0m\u001b[0;34m)\u001b[0m\u001b[0;34m:\u001b[0m\u001b[0;34m\u001b[0m\u001b[0;34m\u001b[0m\u001b[0m\n",
      "\u001b[0;32m/usr/local/Caskroom/miniconda/base/envs/LOC_transcribe/lib/python3.7/site-packages/pandas/core/apply.py\u001b[0m in \u001b[0;36mapply_standard\u001b[0;34m(self)\u001b[0m\n\u001b[1;32m    274\u001b[0m \u001b[0;34m\u001b[0m\u001b[0m\n\u001b[1;32m    275\u001b[0m     \u001b[0;32mdef\u001b[0m \u001b[0mapply_standard\u001b[0m\u001b[0;34m(\u001b[0m\u001b[0mself\u001b[0m\u001b[0;34m)\u001b[0m\u001b[0;34m:\u001b[0m\u001b[0;34m\u001b[0m\u001b[0;34m\u001b[0m\u001b[0m\n\u001b[0;32m--> 276\u001b[0;31m         \u001b[0mresults\u001b[0m\u001b[0;34m,\u001b[0m \u001b[0mres_index\u001b[0m \u001b[0;34m=\u001b[0m \u001b[0mself\u001b[0m\u001b[0;34m.\u001b[0m\u001b[0mapply_series_generator\u001b[0m\u001b[0;34m(\u001b[0m\u001b[0;34m)\u001b[0m\u001b[0;34m\u001b[0m\u001b[0;34m\u001b[0m\u001b[0m\n\u001b[0m\u001b[1;32m    277\u001b[0m \u001b[0;34m\u001b[0m\u001b[0m\n\u001b[1;32m    278\u001b[0m         \u001b[0;31m# wrap results\u001b[0m\u001b[0;34m\u001b[0m\u001b[0;34m\u001b[0m\u001b[0;34m\u001b[0m\u001b[0m\n",
      "\u001b[0;32m/usr/local/Caskroom/miniconda/base/envs/LOC_transcribe/lib/python3.7/site-packages/pandas/core/apply.py\u001b[0m in \u001b[0;36mapply_series_generator\u001b[0;34m(self)\u001b[0m\n\u001b[1;32m    288\u001b[0m             \u001b[0;32mfor\u001b[0m \u001b[0mi\u001b[0m\u001b[0;34m,\u001b[0m \u001b[0mv\u001b[0m \u001b[0;32min\u001b[0m \u001b[0menumerate\u001b[0m\u001b[0;34m(\u001b[0m\u001b[0mseries_gen\u001b[0m\u001b[0;34m)\u001b[0m\u001b[0;34m:\u001b[0m\u001b[0;34m\u001b[0m\u001b[0;34m\u001b[0m\u001b[0m\n\u001b[1;32m    289\u001b[0m                 \u001b[0;31m# ignore SettingWithCopy here in case the user mutates\u001b[0m\u001b[0;34m\u001b[0m\u001b[0;34m\u001b[0m\u001b[0;34m\u001b[0m\u001b[0m\n\u001b[0;32m--> 290\u001b[0;31m                 \u001b[0mresults\u001b[0m\u001b[0;34m[\u001b[0m\u001b[0mi\u001b[0m\u001b[0;34m]\u001b[0m \u001b[0;34m=\u001b[0m \u001b[0mself\u001b[0m\u001b[0;34m.\u001b[0m\u001b[0mf\u001b[0m\u001b[0;34m(\u001b[0m\u001b[0mv\u001b[0m\u001b[0;34m)\u001b[0m\u001b[0;34m\u001b[0m\u001b[0;34m\u001b[0m\u001b[0m\n\u001b[0m\u001b[1;32m    291\u001b[0m                 \u001b[0;32mif\u001b[0m \u001b[0misinstance\u001b[0m\u001b[0;34m(\u001b[0m\u001b[0mresults\u001b[0m\u001b[0;34m[\u001b[0m\u001b[0mi\u001b[0m\u001b[0;34m]\u001b[0m\u001b[0;34m,\u001b[0m \u001b[0mABCSeries\u001b[0m\u001b[0;34m)\u001b[0m\u001b[0;34m:\u001b[0m\u001b[0;34m\u001b[0m\u001b[0;34m\u001b[0m\u001b[0m\n\u001b[1;32m    292\u001b[0m                     \u001b[0;31m# If we have a view on v, we need to make a copy because\u001b[0m\u001b[0;34m\u001b[0m\u001b[0;34m\u001b[0m\u001b[0;34m\u001b[0m\u001b[0m\n",
      "\u001b[0;32m~/ba3sasah/LOC_transcribe/src/evaluation/evaluate.py\u001b[0m in \u001b[0;36m<lambda>\u001b[0;34m(x)\u001b[0m\n\u001b[1;32m     75\u001b[0m \u001b[0;34m\u001b[0m\u001b[0m\n\u001b[1;32m     76\u001b[0m     \u001b[0;32mdef\u001b[0m \u001b[0mcalculate_word2word\u001b[0m\u001b[0;34m(\u001b[0m\u001b[0mself\u001b[0m\u001b[0;34m,\u001b[0m\u001b[0mevalfuncs\u001b[0m\u001b[0;34m=\u001b[0m\u001b[0;34m[\u001b[0m\u001b[0mmatch\u001b[0m\u001b[0;34m,\u001b[0m\u001b[0mmatch_ignore_case\u001b[0m\u001b[0;34m,\u001b[0m\u001b[0mmatch_ignore_case_punc\u001b[0m\u001b[0;34m]\u001b[0m\u001b[0;34m)\u001b[0m\u001b[0;34m:\u001b[0m\u001b[0;34m\u001b[0m\u001b[0;34m\u001b[0m\u001b[0m\n\u001b[0;32m---> 77\u001b[0;31m         \u001b[0msents\u001b[0m \u001b[0;34m=\u001b[0m \u001b[0mself\u001b[0m\u001b[0;34m.\u001b[0m\u001b[0msent2sent\u001b[0m\u001b[0;34m.\u001b[0m\u001b[0mapply\u001b[0m\u001b[0;34m(\u001b[0m\u001b[0;32mlambda\u001b[0m \u001b[0mx\u001b[0m\u001b[0;34m:\u001b[0m \u001b[0mWord2Word\u001b[0m\u001b[0;34m(\u001b[0m\u001b[0mx\u001b[0m\u001b[0;34m,\u001b[0m\u001b[0mevalfuncs\u001b[0m\u001b[0;34m=\u001b[0m\u001b[0mevalfuncs\u001b[0m\u001b[0;34m,\u001b[0m\u001b[0madditional_info\u001b[0m\u001b[0;34m=\u001b[0m\u001b[0mself\u001b[0m\u001b[0;34m.\u001b[0m\u001b[0madditional_info\u001b[0m\u001b[0;34m)\u001b[0m\u001b[0;34m,\u001b[0m\u001b[0maxis\u001b[0m\u001b[0;34m=\u001b[0m\u001b[0;36m1\u001b[0m\u001b[0;34m)\u001b[0m\u001b[0;34m\u001b[0m\u001b[0;34m\u001b[0m\u001b[0m\n\u001b[0m\u001b[1;32m     78\u001b[0m         \u001b[0mword2word\u001b[0m \u001b[0;34m=\u001b[0m \u001b[0mpd\u001b[0m\u001b[0;34m.\u001b[0m\u001b[0mconcat\u001b[0m\u001b[0;34m(\u001b[0m\u001b[0;34m[\u001b[0m\u001b[0msent\u001b[0m\u001b[0;34m.\u001b[0m\u001b[0meval\u001b[0m \u001b[0;32mfor\u001b[0m \u001b[0msent\u001b[0m \u001b[0;32min\u001b[0m \u001b[0msents\u001b[0m\u001b[0;34m]\u001b[0m\u001b[0;34m)\u001b[0m\u001b[0;34m\u001b[0m\u001b[0;34m\u001b[0m\u001b[0m\n\u001b[1;32m     79\u001b[0m         \u001b[0;32mfor\u001b[0m \u001b[0mmatch\u001b[0m \u001b[0;32min\u001b[0m \u001b[0;34m[\u001b[0m\u001b[0mcolumn\u001b[0m \u001b[0;32mfor\u001b[0m \u001b[0mcolumn\u001b[0m \u001b[0;32min\u001b[0m \u001b[0mword2word\u001b[0m\u001b[0;34m.\u001b[0m\u001b[0mcolumns\u001b[0m \u001b[0;32mif\u001b[0m \u001b[0mcolumn\u001b[0m\u001b[0;34m.\u001b[0m\u001b[0mstartswith\u001b[0m\u001b[0;34m(\u001b[0m\u001b[0;34m'match'\u001b[0m\u001b[0;34m)\u001b[0m\u001b[0;34m]\u001b[0m\u001b[0;34m:\u001b[0m\u001b[0;34m\u001b[0m\u001b[0;34m\u001b[0m\u001b[0m\n",
      "\u001b[0;32m~/ba3sasah/LOC_transcribe/src/evaluation/evaluate.py\u001b[0m in \u001b[0;36m__init__\u001b[0;34m(self, dfrow, evalfuncs, additional_info, allow_misaligned)\u001b[0m\n\u001b[1;32m     34\u001b[0m \u001b[0;34m\u001b[0m\u001b[0m\n\u001b[1;32m     35\u001b[0m             \u001b[0;32mfor\u001b[0m \u001b[0mfunc\u001b[0m \u001b[0;32min\u001b[0m \u001b[0mevalfuncs\u001b[0m\u001b[0;34m:\u001b[0m\u001b[0;34m\u001b[0m\u001b[0;34m\u001b[0m\u001b[0m\n\u001b[0;32m---> 36\u001b[0;31m                 \u001b[0mself\u001b[0m\u001b[0;34m.\u001b[0m\u001b[0meval\u001b[0m\u001b[0;34m[\u001b[0m\u001b[0mfunc\u001b[0m\u001b[0;34m.\u001b[0m\u001b[0m__name__\u001b[0m\u001b[0;34m]\u001b[0m \u001b[0;34m=\u001b[0m \u001b[0mself\u001b[0m\u001b[0;34m.\u001b[0m\u001b[0meval\u001b[0m\u001b[0;34m.\u001b[0m\u001b[0mapply\u001b[0m\u001b[0;34m(\u001b[0m\u001b[0;32mlambda\u001b[0m \u001b[0mx\u001b[0m\u001b[0;34m:\u001b[0m \u001b[0mfunc\u001b[0m\u001b[0;34m(\u001b[0m\u001b[0mx\u001b[0m\u001b[0;34m[\u001b[0m\u001b[0;34m'gold'\u001b[0m\u001b[0;34m]\u001b[0m\u001b[0;34m,\u001b[0m\u001b[0mx\u001b[0m\u001b[0;34m[\u001b[0m\u001b[0;34m'prediction'\u001b[0m\u001b[0;34m]\u001b[0m\u001b[0;34m)\u001b[0m\u001b[0;34m,\u001b[0m \u001b[0maxis\u001b[0m\u001b[0;34m=\u001b[0m\u001b[0;36m1\u001b[0m\u001b[0;34m)\u001b[0m\u001b[0;34m\u001b[0m\u001b[0;34m\u001b[0m\u001b[0m\n\u001b[0m\u001b[1;32m     37\u001b[0m \u001b[0;34m\u001b[0m\u001b[0m\n\u001b[1;32m     38\u001b[0m             \u001b[0;32mfor\u001b[0m \u001b[0mcolumn\u001b[0m \u001b[0;32min\u001b[0m \u001b[0madditional_info\u001b[0m\u001b[0;34m:\u001b[0m\u001b[0;34m\u001b[0m\u001b[0;34m\u001b[0m\u001b[0m\n",
      "\u001b[0;32m/usr/local/Caskroom/miniconda/base/envs/LOC_transcribe/lib/python3.7/site-packages/pandas/core/frame.py\u001b[0m in \u001b[0;36mapply\u001b[0;34m(self, func, axis, raw, result_type, args, **kwds)\u001b[0m\n\u001b[1;32m   7763\u001b[0m             \u001b[0mkwds\u001b[0m\u001b[0;34m=\u001b[0m\u001b[0mkwds\u001b[0m\u001b[0;34m,\u001b[0m\u001b[0;34m\u001b[0m\u001b[0;34m\u001b[0m\u001b[0m\n\u001b[1;32m   7764\u001b[0m         )\n\u001b[0;32m-> 7765\u001b[0;31m         \u001b[0;32mreturn\u001b[0m \u001b[0mop\u001b[0m\u001b[0;34m.\u001b[0m\u001b[0mget_result\u001b[0m\u001b[0;34m(\u001b[0m\u001b[0;34m)\u001b[0m\u001b[0;34m\u001b[0m\u001b[0;34m\u001b[0m\u001b[0m\n\u001b[0m\u001b[1;32m   7766\u001b[0m \u001b[0;34m\u001b[0m\u001b[0m\n\u001b[1;32m   7767\u001b[0m     \u001b[0;32mdef\u001b[0m \u001b[0mapplymap\u001b[0m\u001b[0;34m(\u001b[0m\u001b[0mself\u001b[0m\u001b[0;34m,\u001b[0m \u001b[0mfunc\u001b[0m\u001b[0;34m,\u001b[0m \u001b[0mna_action\u001b[0m\u001b[0;34m:\u001b[0m \u001b[0mOptional\u001b[0m\u001b[0;34m[\u001b[0m\u001b[0mstr\u001b[0m\u001b[0;34m]\u001b[0m \u001b[0;34m=\u001b[0m \u001b[0;32mNone\u001b[0m\u001b[0;34m)\u001b[0m \u001b[0;34m->\u001b[0m \u001b[0mDataFrame\u001b[0m\u001b[0;34m:\u001b[0m\u001b[0;34m\u001b[0m\u001b[0;34m\u001b[0m\u001b[0m\n",
      "\u001b[0;32m/usr/local/Caskroom/miniconda/base/envs/LOC_transcribe/lib/python3.7/site-packages/pandas/core/apply.py\u001b[0m in \u001b[0;36mget_result\u001b[0;34m(self)\u001b[0m\n\u001b[1;32m    183\u001b[0m             \u001b[0;32mreturn\u001b[0m \u001b[0mself\u001b[0m\u001b[0;34m.\u001b[0m\u001b[0mapply_raw\u001b[0m\u001b[0;34m(\u001b[0m\u001b[0;34m)\u001b[0m\u001b[0;34m\u001b[0m\u001b[0;34m\u001b[0m\u001b[0m\n\u001b[1;32m    184\u001b[0m \u001b[0;34m\u001b[0m\u001b[0m\n\u001b[0;32m--> 185\u001b[0;31m         \u001b[0;32mreturn\u001b[0m \u001b[0mself\u001b[0m\u001b[0;34m.\u001b[0m\u001b[0mapply_standard\u001b[0m\u001b[0;34m(\u001b[0m\u001b[0;34m)\u001b[0m\u001b[0;34m\u001b[0m\u001b[0;34m\u001b[0m\u001b[0m\n\u001b[0m\u001b[1;32m    186\u001b[0m \u001b[0;34m\u001b[0m\u001b[0m\n\u001b[1;32m    187\u001b[0m     \u001b[0;32mdef\u001b[0m \u001b[0mapply_empty_result\u001b[0m\u001b[0;34m(\u001b[0m\u001b[0mself\u001b[0m\u001b[0;34m)\u001b[0m\u001b[0;34m:\u001b[0m\u001b[0;34m\u001b[0m\u001b[0;34m\u001b[0m\u001b[0m\n",
      "\u001b[0;32m/usr/local/Caskroom/miniconda/base/envs/LOC_transcribe/lib/python3.7/site-packages/pandas/core/apply.py\u001b[0m in \u001b[0;36mapply_standard\u001b[0;34m(self)\u001b[0m\n\u001b[1;32m    274\u001b[0m \u001b[0;34m\u001b[0m\u001b[0m\n\u001b[1;32m    275\u001b[0m     \u001b[0;32mdef\u001b[0m \u001b[0mapply_standard\u001b[0m\u001b[0;34m(\u001b[0m\u001b[0mself\u001b[0m\u001b[0;34m)\u001b[0m\u001b[0;34m:\u001b[0m\u001b[0;34m\u001b[0m\u001b[0;34m\u001b[0m\u001b[0m\n\u001b[0;32m--> 276\u001b[0;31m         \u001b[0mresults\u001b[0m\u001b[0;34m,\u001b[0m \u001b[0mres_index\u001b[0m \u001b[0;34m=\u001b[0m \u001b[0mself\u001b[0m\u001b[0;34m.\u001b[0m\u001b[0mapply_series_generator\u001b[0m\u001b[0;34m(\u001b[0m\u001b[0;34m)\u001b[0m\u001b[0;34m\u001b[0m\u001b[0;34m\u001b[0m\u001b[0m\n\u001b[0m\u001b[1;32m    277\u001b[0m \u001b[0;34m\u001b[0m\u001b[0m\n\u001b[1;32m    278\u001b[0m         \u001b[0;31m# wrap results\u001b[0m\u001b[0;34m\u001b[0m\u001b[0;34m\u001b[0m\u001b[0;34m\u001b[0m\u001b[0m\n",
      "\u001b[0;32m/usr/local/Caskroom/miniconda/base/envs/LOC_transcribe/lib/python3.7/site-packages/pandas/core/apply.py\u001b[0m in \u001b[0;36mapply_series_generator\u001b[0;34m(self)\u001b[0m\n\u001b[1;32m    286\u001b[0m \u001b[0;34m\u001b[0m\u001b[0m\n\u001b[1;32m    287\u001b[0m         \u001b[0;32mwith\u001b[0m \u001b[0moption_context\u001b[0m\u001b[0;34m(\u001b[0m\u001b[0;34m\"mode.chained_assignment\"\u001b[0m\u001b[0;34m,\u001b[0m \u001b[0;32mNone\u001b[0m\u001b[0;34m)\u001b[0m\u001b[0;34m:\u001b[0m\u001b[0;34m\u001b[0m\u001b[0;34m\u001b[0m\u001b[0m\n\u001b[0;32m--> 288\u001b[0;31m             \u001b[0;32mfor\u001b[0m \u001b[0mi\u001b[0m\u001b[0;34m,\u001b[0m \u001b[0mv\u001b[0m \u001b[0;32min\u001b[0m \u001b[0menumerate\u001b[0m\u001b[0;34m(\u001b[0m\u001b[0mseries_gen\u001b[0m\u001b[0;34m)\u001b[0m\u001b[0;34m:\u001b[0m\u001b[0;34m\u001b[0m\u001b[0;34m\u001b[0m\u001b[0m\n\u001b[0m\u001b[1;32m    289\u001b[0m                 \u001b[0;31m# ignore SettingWithCopy here in case the user mutates\u001b[0m\u001b[0;34m\u001b[0m\u001b[0;34m\u001b[0m\u001b[0;34m\u001b[0m\u001b[0m\n\u001b[1;32m    290\u001b[0m                 \u001b[0mresults\u001b[0m\u001b[0;34m[\u001b[0m\u001b[0mi\u001b[0m\u001b[0;34m]\u001b[0m \u001b[0;34m=\u001b[0m \u001b[0mself\u001b[0m\u001b[0;34m.\u001b[0m\u001b[0mf\u001b[0m\u001b[0;34m(\u001b[0m\u001b[0mv\u001b[0m\u001b[0;34m)\u001b[0m\u001b[0;34m\u001b[0m\u001b[0;34m\u001b[0m\u001b[0m\n",
      "\u001b[0;32m/usr/local/Caskroom/miniconda/base/envs/LOC_transcribe/lib/python3.7/site-packages/pandas/core/apply.py\u001b[0m in \u001b[0;36mseries_generator\u001b[0;34m(self)\u001b[0m\n\u001b[1;32m    394\u001b[0m         \u001b[0;31m# We create one Series object, and will swap out the data inside\u001b[0m\u001b[0;34m\u001b[0m\u001b[0;34m\u001b[0m\u001b[0;34m\u001b[0m\u001b[0m\n\u001b[1;32m    395\u001b[0m         \u001b[0;31m#  of it.  Kids: don't do this at home.\u001b[0m\u001b[0;34m\u001b[0m\u001b[0;34m\u001b[0m\u001b[0;34m\u001b[0m\u001b[0m\n\u001b[0;32m--> 396\u001b[0;31m         \u001b[0mser\u001b[0m \u001b[0;34m=\u001b[0m \u001b[0mself\u001b[0m\u001b[0;34m.\u001b[0m\u001b[0mobj\u001b[0m\u001b[0;34m.\u001b[0m\u001b[0m_ixs\u001b[0m\u001b[0;34m(\u001b[0m\u001b[0;36m0\u001b[0m\u001b[0;34m,\u001b[0m \u001b[0maxis\u001b[0m\u001b[0;34m=\u001b[0m\u001b[0;36m0\u001b[0m\u001b[0;34m)\u001b[0m\u001b[0;34m\u001b[0m\u001b[0;34m\u001b[0m\u001b[0m\n\u001b[0m\u001b[1;32m    397\u001b[0m         \u001b[0mmgr\u001b[0m \u001b[0;34m=\u001b[0m \u001b[0mser\u001b[0m\u001b[0;34m.\u001b[0m\u001b[0m_mgr\u001b[0m\u001b[0;34m\u001b[0m\u001b[0;34m\u001b[0m\u001b[0m\n\u001b[1;32m    398\u001b[0m         \u001b[0mblk\u001b[0m \u001b[0;34m=\u001b[0m \u001b[0mmgr\u001b[0m\u001b[0;34m.\u001b[0m\u001b[0mblocks\u001b[0m\u001b[0;34m[\u001b[0m\u001b[0;36m0\u001b[0m\u001b[0;34m]\u001b[0m\u001b[0;34m\u001b[0m\u001b[0;34m\u001b[0m\u001b[0m\n",
      "\u001b[0;32m/usr/local/Caskroom/miniconda/base/envs/LOC_transcribe/lib/python3.7/site-packages/pandas/core/frame.py\u001b[0m in \u001b[0;36m_ixs\u001b[0;34m(self, i, axis)\u001b[0m\n\u001b[1;32m   2945\u001b[0m         \u001b[0;31m# irow\u001b[0m\u001b[0;34m\u001b[0m\u001b[0;34m\u001b[0m\u001b[0;34m\u001b[0m\u001b[0m\n\u001b[1;32m   2946\u001b[0m         \u001b[0;32mif\u001b[0m \u001b[0maxis\u001b[0m \u001b[0;34m==\u001b[0m \u001b[0;36m0\u001b[0m\u001b[0;34m:\u001b[0m\u001b[0;34m\u001b[0m\u001b[0;34m\u001b[0m\u001b[0m\n\u001b[0;32m-> 2947\u001b[0;31m             \u001b[0mnew_values\u001b[0m \u001b[0;34m=\u001b[0m \u001b[0mself\u001b[0m\u001b[0;34m.\u001b[0m\u001b[0m_mgr\u001b[0m\u001b[0;34m.\u001b[0m\u001b[0mfast_xs\u001b[0m\u001b[0;34m(\u001b[0m\u001b[0mi\u001b[0m\u001b[0;34m)\u001b[0m\u001b[0;34m\u001b[0m\u001b[0;34m\u001b[0m\u001b[0m\n\u001b[0m\u001b[1;32m   2948\u001b[0m \u001b[0;34m\u001b[0m\u001b[0m\n\u001b[1;32m   2949\u001b[0m             \u001b[0;31m# if we are a copy, mark as such\u001b[0m\u001b[0;34m\u001b[0m\u001b[0;34m\u001b[0m\u001b[0;34m\u001b[0m\u001b[0m\n",
      "\u001b[0;32m/usr/local/Caskroom/miniconda/base/envs/LOC_transcribe/lib/python3.7/site-packages/pandas/core/internals/managers.py\u001b[0m in \u001b[0;36mfast_xs\u001b[0;34m(self, loc)\u001b[0m\n\u001b[1;32m    953\u001b[0m             \u001b[0;32mreturn\u001b[0m \u001b[0mself\u001b[0m\u001b[0;34m.\u001b[0m\u001b[0mblocks\u001b[0m\u001b[0;34m[\u001b[0m\u001b[0;36m0\u001b[0m\u001b[0;34m]\u001b[0m\u001b[0;34m.\u001b[0m\u001b[0miget\u001b[0m\u001b[0;34m(\u001b[0m\u001b[0;34m(\u001b[0m\u001b[0mslice\u001b[0m\u001b[0;34m(\u001b[0m\u001b[0;32mNone\u001b[0m\u001b[0;34m)\u001b[0m\u001b[0;34m,\u001b[0m \u001b[0mloc\u001b[0m\u001b[0;34m)\u001b[0m\u001b[0;34m)\u001b[0m\u001b[0;34m\u001b[0m\u001b[0;34m\u001b[0m\u001b[0m\n\u001b[1;32m    954\u001b[0m \u001b[0;34m\u001b[0m\u001b[0m\n\u001b[0;32m--> 955\u001b[0;31m         \u001b[0mdtype\u001b[0m \u001b[0;34m=\u001b[0m \u001b[0m_interleaved_dtype\u001b[0m\u001b[0;34m(\u001b[0m\u001b[0mself\u001b[0m\u001b[0;34m.\u001b[0m\u001b[0mblocks\u001b[0m\u001b[0;34m)\u001b[0m\u001b[0;34m\u001b[0m\u001b[0;34m\u001b[0m\u001b[0m\n\u001b[0m\u001b[1;32m    956\u001b[0m \u001b[0;34m\u001b[0m\u001b[0m\n\u001b[1;32m    957\u001b[0m         \u001b[0mn\u001b[0m \u001b[0;34m=\u001b[0m \u001b[0mlen\u001b[0m\u001b[0;34m(\u001b[0m\u001b[0mself\u001b[0m\u001b[0;34m)\u001b[0m\u001b[0;34m\u001b[0m\u001b[0;34m\u001b[0m\u001b[0m\n",
      "\u001b[0;32m/usr/local/Caskroom/miniconda/base/envs/LOC_transcribe/lib/python3.7/site-packages/pandas/core/internals/managers.py\u001b[0m in \u001b[0;36m_interleaved_dtype\u001b[0;34m(blocks)\u001b[0m\n\u001b[1;32m   1901\u001b[0m         \u001b[0;32mreturn\u001b[0m \u001b[0;32mNone\u001b[0m\u001b[0;34m\u001b[0m\u001b[0;34m\u001b[0m\u001b[0m\n\u001b[1;32m   1902\u001b[0m \u001b[0;34m\u001b[0m\u001b[0m\n\u001b[0;32m-> 1903\u001b[0;31m     \u001b[0;32mreturn\u001b[0m \u001b[0mfind_common_type\u001b[0m\u001b[0;34m(\u001b[0m\u001b[0;34m[\u001b[0m\u001b[0mb\u001b[0m\u001b[0;34m.\u001b[0m\u001b[0mdtype\u001b[0m \u001b[0;32mfor\u001b[0m \u001b[0mb\u001b[0m \u001b[0;32min\u001b[0m \u001b[0mblocks\u001b[0m\u001b[0;34m]\u001b[0m\u001b[0;34m)\u001b[0m\u001b[0;34m\u001b[0m\u001b[0;34m\u001b[0m\u001b[0m\n\u001b[0m\u001b[1;32m   1904\u001b[0m \u001b[0;34m\u001b[0m\u001b[0m\n\u001b[1;32m   1905\u001b[0m \u001b[0;34m\u001b[0m\u001b[0m\n",
      "\u001b[0;32m/usr/local/Caskroom/miniconda/base/envs/LOC_transcribe/lib/python3.7/site-packages/pandas/core/dtypes/cast.py\u001b[0m in \u001b[0;36mfind_common_type\u001b[0;34m(types)\u001b[0m\n\u001b[1;32m   1567\u001b[0m                 \u001b[0;32mreturn\u001b[0m \u001b[0mnp\u001b[0m\u001b[0;34m.\u001b[0m\u001b[0mdtype\u001b[0m\u001b[0;34m(\u001b[0m\u001b[0;34m\"object\"\u001b[0m\u001b[0;34m)\u001b[0m\u001b[0;34m\u001b[0m\u001b[0;34m\u001b[0m\u001b[0m\n\u001b[1;32m   1568\u001b[0m \u001b[0;34m\u001b[0m\u001b[0m\n\u001b[0;32m-> 1569\u001b[0;31m     \u001b[0;32mreturn\u001b[0m \u001b[0mnp\u001b[0m\u001b[0;34m.\u001b[0m\u001b[0mfind_common_type\u001b[0m\u001b[0;34m(\u001b[0m\u001b[0mtypes\u001b[0m\u001b[0;34m,\u001b[0m \u001b[0;34m[\u001b[0m\u001b[0;34m]\u001b[0m\u001b[0;34m)\u001b[0m\u001b[0;34m\u001b[0m\u001b[0;34m\u001b[0m\u001b[0m\n\u001b[0m\u001b[1;32m   1570\u001b[0m \u001b[0;34m\u001b[0m\u001b[0m\n\u001b[1;32m   1571\u001b[0m \u001b[0;34m\u001b[0m\u001b[0m\n",
      "\u001b[0;32m/usr/local/Caskroom/miniconda/base/envs/LOC_transcribe/lib/python3.7/site-packages/numpy/core/numerictypes.py\u001b[0m in \u001b[0;36mfind_common_type\u001b[0;34m(array_types, scalar_types)\u001b[0m\n\u001b[1;32m    623\u001b[0m \u001b[0;34m\u001b[0m\u001b[0m\n\u001b[1;32m    624\u001b[0m     \u001b[0mmaxa\u001b[0m \u001b[0;34m=\u001b[0m \u001b[0m_can_coerce_all\u001b[0m\u001b[0;34m(\u001b[0m\u001b[0marray_types\u001b[0m\u001b[0;34m)\u001b[0m\u001b[0;34m\u001b[0m\u001b[0;34m\u001b[0m\u001b[0m\n\u001b[0;32m--> 625\u001b[0;31m     \u001b[0mmaxsc\u001b[0m \u001b[0;34m=\u001b[0m \u001b[0m_can_coerce_all\u001b[0m\u001b[0;34m(\u001b[0m\u001b[0mscalar_types\u001b[0m\u001b[0;34m)\u001b[0m\u001b[0;34m\u001b[0m\u001b[0;34m\u001b[0m\u001b[0m\n\u001b[0m\u001b[1;32m    626\u001b[0m \u001b[0;34m\u001b[0m\u001b[0m\n\u001b[1;32m    627\u001b[0m     \u001b[0;32mif\u001b[0m \u001b[0mmaxa\u001b[0m \u001b[0;32mis\u001b[0m \u001b[0;32mNone\u001b[0m\u001b[0;34m:\u001b[0m\u001b[0;34m\u001b[0m\u001b[0;34m\u001b[0m\u001b[0m\n",
      "\u001b[0;32m/usr/local/Caskroom/miniconda/base/envs/LOC_transcribe/lib/python3.7/site-packages/numpy/core/numerictypes.py\u001b[0m in \u001b[0;36m_can_coerce_all\u001b[0;34m(dtypelist, start)\u001b[0m\n\u001b[1;32m    544\u001b[0m \u001b[0;31m# Find a data-type that all data-types in a list can be coerced to\u001b[0m\u001b[0;34m\u001b[0m\u001b[0;34m\u001b[0m\u001b[0;34m\u001b[0m\u001b[0m\n\u001b[1;32m    545\u001b[0m \u001b[0;32mdef\u001b[0m \u001b[0m_can_coerce_all\u001b[0m\u001b[0;34m(\u001b[0m\u001b[0mdtypelist\u001b[0m\u001b[0;34m,\u001b[0m \u001b[0mstart\u001b[0m\u001b[0;34m=\u001b[0m\u001b[0;36m0\u001b[0m\u001b[0;34m)\u001b[0m\u001b[0;34m:\u001b[0m\u001b[0;34m\u001b[0m\u001b[0;34m\u001b[0m\u001b[0m\n\u001b[0;32m--> 546\u001b[0;31m     \u001b[0mN\u001b[0m \u001b[0;34m=\u001b[0m \u001b[0mlen\u001b[0m\u001b[0;34m(\u001b[0m\u001b[0mdtypelist\u001b[0m\u001b[0;34m)\u001b[0m\u001b[0;34m\u001b[0m\u001b[0;34m\u001b[0m\u001b[0m\n\u001b[0m\u001b[1;32m    547\u001b[0m     \u001b[0;32mif\u001b[0m \u001b[0mN\u001b[0m \u001b[0;34m==\u001b[0m \u001b[0;36m0\u001b[0m\u001b[0;34m:\u001b[0m\u001b[0;34m\u001b[0m\u001b[0;34m\u001b[0m\u001b[0m\n\u001b[1;32m    548\u001b[0m         \u001b[0;32mreturn\u001b[0m \u001b[0;32mNone\u001b[0m\u001b[0;34m\u001b[0m\u001b[0;34m\u001b[0m\u001b[0m\n",
      "\u001b[0;31mKeyboardInterrupt\u001b[0m: "
     ]
    }
   ],
   "source": [
    "e = Sent2Sent(dev,rules_morph,'rules-morph')\n",
    "e.calculate_word2word()\n"
   ]
  },
  {
   "cell_type": "code",
   "execution_count": 22,
   "metadata": {},
   "outputs": [
    {
     "output_type": "execute_result",
     "data": {
      "text/plain": [
       "       sentID                                                rom  \\\n",
       "0           0                            Rāfiʻī, ʻAbd al-Raḥmān.   \n",
       "1           1           Muqaddimāt thawrat 23 Yūlyū sanat 1952 :   \n",
       "2           2  al-kifāḥ fī al-qitāl, ḥarīq al-Qāhirah, wazārā...   \n",
       "3           3                 bi-qalam ʻAbd al-Raḥmān al-Rifāʻī.   \n",
       "4           4  Muqaddimāt thawrat thalāthah wa-ʻishrīn Yūlyū ...   \n",
       "...       ...                                                ...   \n",
       "59968  599510     Muʼassasat al-Yarmūk lil-Thaqāfah wa-al-Iʻlām,   \n",
       "59969  599556                    al-Qānūn al-asāsī lil-ṣihāfah /   \n",
       "59970  599557                    taʻrīb ʻAbd al-Qādir al-Mīlādī.   \n",
       "59971  599558  al-Jumhūrīyah al-Islāmīyah al-Mūrītānīyah, al-...   \n",
       "59972  599559                             Mīlādī, ʻAbd al-Qādir.   \n",
       "\n",
       "                                                      ar  \\\n",
       "0                                     رافعي، عبد الرحمن.   \n",
       "1                       مقدمات ثورة 23 يوليوا سنة 1952 :   \n",
       "2      الكفاح في القتال، حريق القاهرة، وزارات الموظفي...   \n",
       "3                               بقلم عبد الرحمن الرفاعي.   \n",
       "4               مقدمات ثورة ثلاثة وعشرين يوليوا سنة 1952   \n",
       "...                                                  ...   \n",
       "59968                    مؤسسة اليرموك للثقافة والاعلام،   \n",
       "59969                          القانون الاساسي للصحافة /   \n",
       "59970                         تعريب عبد القادر الميلادي.   \n",
       "59971  الجمهورية الاسلامية الموريتانية، المدرسة الوطن...   \n",
       "59972                                ميلادي، عبد القادر.   \n",
       "\n",
       "                                                 rom_raw  \\\n",
       "0                                Rāfiʻī, ʻAbd al-Raḥmān.   \n",
       "1               Muqaddimāt thawrat 23 Yūlyū sanat 1952 :   \n",
       "2      al-kifāḥ fī al-qitāl, ḥarīq al-Qāhirah, wazārā...   \n",
       "3                     bi-qalam ʻAbd al-Raḥmān al-Rifāʻī.   \n",
       "4      Muqaddimāt thawrat thalāthah wa-ʻishrīn Yūlyū ...   \n",
       "...                                                  ...   \n",
       "59968  Muʼassasat al-Yarmūk lil-Thaqāfah wa-al-Iʻlām,   \n",
       "59969              al-Qānūn al-asāsī lil-ṣihāfah /   \n",
       "59970               taʻrīb ʻAbd al-Qādir al-Mīlādī.   \n",
       "59971  al-Jumhūrīyah al-Islāmīyah al-Mūrītānī...   \n",
       "59972                         Mīlādī, ʻAbd al-Qādir.   \n",
       "\n",
       "                                                  ar_raw comb.tag      recID  \\\n",
       "0                                     رافعي، عبد الرحمن.     100a    umich-1   \n",
       "1                       مقدمات ثورة 23 يوليوا سنة 1952 :     245a    umich-1   \n",
       "2      الكفاح في القتال، حريق القاهرة، وزارات الموظفي...     245b    umich-1   \n",
       "3                               بقلم عبد الرحمن الرفاعي.     245c    umich-1   \n",
       "4               مقدمات ثورة ثلاثة وعشرين يوليوا سنة 1952     246a    umich-1   \n",
       "...                                                  ...      ...        ...   \n",
       "59968                    مؤسسة اليرموك للثقافة والاعلام،     260b  loc-90065   \n",
       "59969                          القانون الاساسي للصحافة /     245a  loc-90075   \n",
       "59970                         تعريب عبد القادر الميلادي.     245c  loc-90075   \n",
       "59971  الجمهورية الاسلامية الموريتانية، المدرسة الوطن...     260b  loc-90075   \n",
       "59972                                ميلادي، عبد القادر.     700a  loc-90075   \n",
       "\n",
       "      subtag  tag  link source splits  \n",
       "0          a  100     0  umich    dev  \n",
       "1          a  245     4  umich    dev  \n",
       "2          b  245     4  umich    dev  \n",
       "3          c  245     4  umich    dev  \n",
       "4          a  246     4  umich    dev  \n",
       "...      ...  ...   ...    ...    ...  \n",
       "59968      b  260     6    loc    dev  \n",
       "59969      a  245     4    loc    dev  \n",
       "59970      c  245     4    loc    dev  \n",
       "59971      b  260     6    loc    dev  \n",
       "59972      a  700     0    loc    dev  \n",
       "\n",
       "[59973 rows x 12 columns]"
      ],
      "text/html": "<div>\n<style scoped>\n    .dataframe tbody tr th:only-of-type {\n        vertical-align: middle;\n    }\n\n    .dataframe tbody tr th {\n        vertical-align: top;\n    }\n\n    .dataframe thead th {\n        text-align: right;\n    }\n</style>\n<table border=\"1\" class=\"dataframe\">\n  <thead>\n    <tr style=\"text-align: right;\">\n      <th></th>\n      <th>sentID</th>\n      <th>rom</th>\n      <th>ar</th>\n      <th>rom_raw</th>\n      <th>ar_raw</th>\n      <th>comb.tag</th>\n      <th>recID</th>\n      <th>subtag</th>\n      <th>tag</th>\n      <th>link</th>\n      <th>source</th>\n      <th>splits</th>\n    </tr>\n  </thead>\n  <tbody>\n    <tr>\n      <th>0</th>\n      <td>0</td>\n      <td>Rāfiʻī, ʻAbd al-Raḥmān.</td>\n      <td>رافعي، عبد الرحمن.</td>\n      <td>Rāfiʻī, ʻAbd al-Raḥmān.</td>\n      <td>رافعي، عبد الرحمن.</td>\n      <td>100a</td>\n      <td>umich-1</td>\n      <td>a</td>\n      <td>100</td>\n      <td>0</td>\n      <td>umich</td>\n      <td>dev</td>\n    </tr>\n    <tr>\n      <th>1</th>\n      <td>1</td>\n      <td>Muqaddimāt thawrat 23 Yūlyū sanat 1952 :</td>\n      <td>مقدمات ثورة 23 يوليوا سنة 1952 :</td>\n      <td>Muqaddimāt thawrat 23 Yūlyū sanat 1952 :</td>\n      <td>مقدمات ثورة 23 يوليوا سنة 1952 :</td>\n      <td>245a</td>\n      <td>umich-1</td>\n      <td>a</td>\n      <td>245</td>\n      <td>4</td>\n      <td>umich</td>\n      <td>dev</td>\n    </tr>\n    <tr>\n      <th>2</th>\n      <td>2</td>\n      <td>al-kifāḥ fī al-qitāl, ḥarīq al-Qāhirah, wazārā...</td>\n      <td>الكفاح في القتال، حريق القاهرة، وزارات الموظفي...</td>\n      <td>al-kifāḥ fī al-qitāl, ḥarīq al-Qāhirah, wazārā...</td>\n      <td>الكفاح في القتال، حريق القاهرة، وزارات الموظفي...</td>\n      <td>245b</td>\n      <td>umich-1</td>\n      <td>b</td>\n      <td>245</td>\n      <td>4</td>\n      <td>umich</td>\n      <td>dev</td>\n    </tr>\n    <tr>\n      <th>3</th>\n      <td>3</td>\n      <td>bi-qalam ʻAbd al-Raḥmān al-Rifāʻī.</td>\n      <td>بقلم عبد الرحمن الرفاعي.</td>\n      <td>bi-qalam ʻAbd al-Raḥmān al-Rifāʻī.</td>\n      <td>بقلم عبد الرحمن الرفاعي.</td>\n      <td>245c</td>\n      <td>umich-1</td>\n      <td>c</td>\n      <td>245</td>\n      <td>4</td>\n      <td>umich</td>\n      <td>dev</td>\n    </tr>\n    <tr>\n      <th>4</th>\n      <td>4</td>\n      <td>Muqaddimāt thawrat thalāthah wa-ʻishrīn Yūlyū ...</td>\n      <td>مقدمات ثورة ثلاثة وعشرين يوليوا سنة 1952</td>\n      <td>Muqaddimāt thawrat thalāthah wa-ʻishrīn Yūlyū ...</td>\n      <td>مقدمات ثورة ثلاثة وعشرين يوليوا سنة 1952</td>\n      <td>246a</td>\n      <td>umich-1</td>\n      <td>a</td>\n      <td>246</td>\n      <td>4</td>\n      <td>umich</td>\n      <td>dev</td>\n    </tr>\n    <tr>\n      <th>...</th>\n      <td>...</td>\n      <td>...</td>\n      <td>...</td>\n      <td>...</td>\n      <td>...</td>\n      <td>...</td>\n      <td>...</td>\n      <td>...</td>\n      <td>...</td>\n      <td>...</td>\n      <td>...</td>\n      <td>...</td>\n    </tr>\n    <tr>\n      <th>59968</th>\n      <td>599510</td>\n      <td>Muʼassasat al-Yarmūk lil-Thaqāfah wa-al-Iʻlām,</td>\n      <td>مؤسسة اليرموك للثقافة والاعلام،</td>\n      <td>Muʼassasat al-Yarmūk lil-Thaqāfah wa-al-Iʻlām,</td>\n      <td>مؤسسة اليرموك للثقافة والاعلام،</td>\n      <td>260b</td>\n      <td>loc-90065</td>\n      <td>b</td>\n      <td>260</td>\n      <td>6</td>\n      <td>loc</td>\n      <td>dev</td>\n    </tr>\n    <tr>\n      <th>59969</th>\n      <td>599556</td>\n      <td>al-Qānūn al-asāsī lil-ṣihāfah /</td>\n      <td>القانون الاساسي للصحافة /</td>\n      <td>al-Qānūn al-asāsī lil-ṣihāfah /</td>\n      <td>القانون الاساسي للصحافة /</td>\n      <td>245a</td>\n      <td>loc-90075</td>\n      <td>a</td>\n      <td>245</td>\n      <td>4</td>\n      <td>loc</td>\n      <td>dev</td>\n    </tr>\n    <tr>\n      <th>59970</th>\n      <td>599557</td>\n      <td>taʻrīb ʻAbd al-Qādir al-Mīlādī.</td>\n      <td>تعريب عبد القادر الميلادي.</td>\n      <td>taʻrīb ʻAbd al-Qādir al-Mīlādī.</td>\n      <td>تعريب عبد القادر الميلادي.</td>\n      <td>245c</td>\n      <td>loc-90075</td>\n      <td>c</td>\n      <td>245</td>\n      <td>4</td>\n      <td>loc</td>\n      <td>dev</td>\n    </tr>\n    <tr>\n      <th>59971</th>\n      <td>599558</td>\n      <td>al-Jumhūrīyah al-Islāmīyah al-Mūrītānīyah, al-...</td>\n      <td>الجمهورية الاسلامية الموريتانية، المدرسة الوطن...</td>\n      <td>al-Jumhūrīyah al-Islāmīyah al-Mūrītānī...</td>\n      <td>الجمهورية الاسلامية الموريتانية، المدرسة الوطن...</td>\n      <td>260b</td>\n      <td>loc-90075</td>\n      <td>b</td>\n      <td>260</td>\n      <td>6</td>\n      <td>loc</td>\n      <td>dev</td>\n    </tr>\n    <tr>\n      <th>59972</th>\n      <td>599559</td>\n      <td>Mīlādī, ʻAbd al-Qādir.</td>\n      <td>ميلادي، عبد القادر.</td>\n      <td>Mīlādī, ʻAbd al-Qādir.</td>\n      <td>ميلادي، عبد القادر.</td>\n      <td>700a</td>\n      <td>loc-90075</td>\n      <td>a</td>\n      <td>700</td>\n      <td>0</td>\n      <td>loc</td>\n      <td>dev</td>\n    </tr>\n  </tbody>\n</table>\n<p>59973 rows × 12 columns</p>\n</div>"
     },
     "metadata": {},
     "execution_count": 22
    }
   ],
   "source": [
    "dev"
   ]
  },
  {
   "cell_type": "code",
   "execution_count": 13,
   "metadata": {},
   "outputs": [],
   "source": [
    "ext = pd.read_csv(home.joinpath('data/extracted_lines/extracted_lines.tsv'),delimiter='\\t')"
   ]
  },
  {
   "cell_type": "code",
   "execution_count": 16,
   "metadata": {},
   "outputs": [],
   "source": [
    "ext['comb.tag'] = ext.apply(lambda x: f\"{x['tag']}{x['subtag']}\",axis=1)\n"
   ]
  },
  {
   "cell_type": "code",
   "execution_count": 20,
   "metadata": {},
   "outputs": [
    {
     "output_type": "execute_result",
     "data": {
      "text/plain": [
       "245a    107666\n",
       "245c    101408\n",
       "100a     94566\n",
       "260b     87652\n",
       "260a     86905\n",
       "         ...  \n",
       "240p        24\n",
       "700l        23\n",
       "810b        22\n",
       "1100        22\n",
       "710c        21\n",
       "Name: comb.tag, Length: 159, dtype: int64"
      ]
     },
     "metadata": {},
     "execution_count": 20
    }
   ],
   "source": [
    "ext['comb.tag'].value_counts()[ext['comb.tag'].value_counts()>20]"
   ]
  },
  {
   "cell_type": "code",
   "execution_count": null,
   "metadata": {},
   "outputs": [],
   "source": [
    "e.get_sent([20388,20389])"
   ]
  },
  {
   "cell_type": "code",
   "execution_count": 35,
   "metadata": {},
   "outputs": [
    {
     "output_type": "error",
     "ename": "SyntaxError",
     "evalue": "can't use starred expression here (<ipython-input-35-a3f6cc391049>, line 7)",
     "traceback": [
      "\u001b[0;36m  File \u001b[0;32m\"<ipython-input-35-a3f6cc391049>\"\u001b[0;36m, line \u001b[0;32m7\u001b[0m\n\u001b[0;31mSyntaxError\u001b[0m\u001b[0;31m:\u001b[0m can't use starred expression here\n"
     ]
    }
   ],
   "source": []
  },
  {
   "cell_type": "code",
   "execution_count": 220,
   "metadata": {},
   "outputs": [
    {
     "output_type": "execute_result",
     "data": {
      "text/plain": [
       "['eval-mle-translit_simple-size0.5.tsv',\n",
       " 'eval-mle-translit_morph-size1.0.tsv',\n",
       " 'eval-rules-morph.tsv',\n",
       " 'eval-mle-translit_simple-size0.015625.tsv',\n",
       " 'eval-line2line-dev.out',\n",
       " 'eval-mle-translit_simple-size1.0.tsv',\n",
       " 'eval-mle-translit_simple-size0.125.tsv',\n",
       " 'eval-mle-translit_simple-size0.0625.tsv',\n",
       " 'eval-mle-translit_simple-size0.25.tsv',\n",
       " 'eval-rules-simple.tsv',\n",
       " 'eval-mle-translit_simple-size0.03125.tsv']"
      ]
     },
     "metadata": {},
     "execution_count": 220
    }
   ],
   "source": [
    "os.listdir(home.parent.joinpath('evaluation/dev'))"
   ]
  },
  {
   "cell_type": "code",
   "execution_count": 11,
   "metadata": {},
   "outputs": [
    {
     "output_type": "execute_result",
     "data": {
      "text/plain": [
       "array([], shape=(0, 12), dtype=object)"
      ]
     },
     "metadata": {},
     "execution_count": 11
    }
   ],
   "source": [
    "dev[dev['sentID']==58543].values"
   ]
  },
  {
   "cell_type": "code",
   "execution_count": 10,
   "metadata": {},
   "outputs": [],
   "source": [
    "e = 'eval-rules-morph.tsv'\n",
    "edf = pd.read_csv(home.parent.joinpath(f'evaluation/dev/{e}'),delimiter='\\t')"
   ]
  },
  {
   "cell_type": "code",
   "execution_count": 35,
   "metadata": {},
   "outputs": [
    {
     "output_type": "execute_result",
     "data": {
      "text/plain": [
       "       sentID comb.tag  gold_tok source_tok prediction_tok  \\\n",
       "7833    20753     100a  Ḥashwah,      حشوة،       Ḥashwat,   \n",
       "7844    20756     245c   Ḥashwah       حشوه      ḥashshūhu   \n",
       "35190   79683     100a  Ḥashwah,      حشوة،       Ḥashwat,   \n",
       "\n",
       "       aligned_source/gold  aligned_source/prediction  \\\n",
       "7833                  True                       True   \n",
       "7844                  True                       True   \n",
       "35190                 True                       True   \n",
       "\n",
       "       aligned_gold/prediction  match  match_ignore_case  \\\n",
       "7833                      True  False              False   \n",
       "7844                      True  False              False   \n",
       "35190                     True  False              False   \n",
       "\n",
       "       match_ignore_case_punc  match_ignore_case_punc_keep_hyphen  \n",
       "7833                    False                               False  \n",
       "7844                    False                               False  \n",
       "35190                   False                               False  "
      ],
      "text/html": "<div>\n<style scoped>\n    .dataframe tbody tr th:only-of-type {\n        vertical-align: middle;\n    }\n\n    .dataframe tbody tr th {\n        vertical-align: top;\n    }\n\n    .dataframe thead th {\n        text-align: right;\n    }\n</style>\n<table border=\"1\" class=\"dataframe\">\n  <thead>\n    <tr style=\"text-align: right;\">\n      <th></th>\n      <th>sentID</th>\n      <th>comb.tag</th>\n      <th>gold_tok</th>\n      <th>source_tok</th>\n      <th>prediction_tok</th>\n      <th>aligned_source/gold</th>\n      <th>aligned_source/prediction</th>\n      <th>aligned_gold/prediction</th>\n      <th>match</th>\n      <th>match_ignore_case</th>\n      <th>match_ignore_case_punc</th>\n      <th>match_ignore_case_punc_keep_hyphen</th>\n    </tr>\n  </thead>\n  <tbody>\n    <tr>\n      <th>7833</th>\n      <td>20753</td>\n      <td>100a</td>\n      <td>Ḥashwah,</td>\n      <td>حشوة،</td>\n      <td>Ḥashwat,</td>\n      <td>True</td>\n      <td>True</td>\n      <td>True</td>\n      <td>False</td>\n      <td>False</td>\n      <td>False</td>\n      <td>False</td>\n    </tr>\n    <tr>\n      <th>7844</th>\n      <td>20756</td>\n      <td>245c</td>\n      <td>Ḥashwah</td>\n      <td>حشوه</td>\n      <td>ḥashshūhu</td>\n      <td>True</td>\n      <td>True</td>\n      <td>True</td>\n      <td>False</td>\n      <td>False</td>\n      <td>False</td>\n      <td>False</td>\n    </tr>\n    <tr>\n      <th>35190</th>\n      <td>79683</td>\n      <td>100a</td>\n      <td>Ḥashwah,</td>\n      <td>حشوة،</td>\n      <td>Ḥashwat,</td>\n      <td>True</td>\n      <td>True</td>\n      <td>True</td>\n      <td>False</td>\n      <td>False</td>\n      <td>False</td>\n      <td>False</td>\n    </tr>\n  </tbody>\n</table>\n</div>"
     },
     "metadata": {},
     "execution_count": 35
    }
   ],
   "source": [
    "# c1 = edf['prediction_tok'].apply(lambda x: 'ayy' in x)\n",
    "c1 = edf['source_tok'].apply(lambda x: 'حشو' in str(x))\n",
    "# c2 = edf['match_ignore_case_punc']==False \n",
    "edf[c1]#[120:180] #.value_counts('match_ignore_case')"
   ]
  },
  {
   "cell_type": "code",
   "execution_count": 25,
   "metadata": {},
   "outputs": [
    {
     "output_type": "execute_result",
     "data": {
      "text/plain": [
       "array([[19849, 'Tashkīl al-maʻná al-shiʻrī :', 'تشكيل المعنى الشعري :',\n",
       "        'Tashkīl al-maʻná al-shiʻrī :', 'تشكيل المعنى الشعري :', '245a',\n",
       "        'umich-4013', 'a', 245, 4, 'umich', 'test'],\n",
       "       [115743, 'Maʻná, ʻAbd al-Razzāq al-Sanūsī,',\n",
       "        'معنى، عبد الرزاق السنوسي.',\n",
       "        'Maʻná, ʻAbd al-Razzāq al-Sanūsī,',\n",
       "        'معنى، عبد الرزاق السنوسي.', '100a', 'loc-3564', 'a', 100, 0,\n",
       "        'loc', 'test'],\n",
       "       [115746, 'ʻAbd al-Razzāq al-Sanūsī Maʻná.',\n",
       "        'عبد الرزاق السنوسي معنى.',\n",
       "        'ʻAbd al-Razzāq al-Sanūsī Maʻná.',\n",
       "        'عبد الرزاق السنوسي معنى.', '245c', 'loc-3564', 'c', 245, 4,\n",
       "        'loc', 'test'],\n",
       "       [180684,\n",
       "        'al-Maʻná wa-al-iʻrāb ʻinda al-naḥwīyīn wa-naẓarīyat al-ʻāmil /',\n",
       "        'المعنى والاعراب عند النحويين ونظرية العامل /',\n",
       "        'al-Maʻná wa-al-iʻrāb ʻinda al-naḥwīyīn wa-naẓarīyat al-ʻāmil /',\n",
       "        'المعنى والاعراب عند النحويين ونظرية العامل /', '245a',\n",
       "        'loc-14958', 'a', 245, 4, 'loc', 'test'],\n",
       "       [197865, 'al-Sard al-riwāʼī wa-tajribat al-maʻná /',\n",
       "        'السرد الروائي وتجربة المعنى /',\n",
       "        'al-Sard al-riwāʼī wa-tajribat al-maʻná /',\n",
       "        'السرد الروائي وتجربة المعنى /\\u200f', '245a', 'loc-18049', 'a',\n",
       "        245, 4, 'loc', 'test'],\n",
       "       [244615,\n",
       "        'Bayna al-ṣināʻah al-naḥwīyah wa-al-maʻná ʻinda al-Samīn al-Ḥalabī fī kitābihi al-Durr al-maṣūn fī ʻulūm al-kitāb al-maknūn /',\n",
       "        'بين الصناعة النحوية والمعنى عند السمين الحلبي في كتابه الدر المصون في علوم الكتاب المكنون /',\n",
       "        'Bayna al-ṣināʻah al-naḥwīyah wa-al-maʻná ʻinda al-Samīn al-Ḥalabī fī kitābihi al-Durr al-maṣūn fī ʻulūm al-kitāb al-maknūn /',\n",
       "        '\\u200fبين الصناعة النحوية والمعنى عند السمين الحلبي في كتابه الدر المصون في علوم الكتاب المكنون /\\u200f',\n",
       "        '245a', 'loc-26099', 'a', 245, 4, 'loc', 'test'],\n",
       "       [249524, 'Maʻná, ʻAbd al-Razzāq al-Sanūsī.',\n",
       "        'معنى، عبد الرزاق السنوسي.',\n",
       "        'Maʻná, ʻAbd al-Razzāq al-Sanūsī.',\n",
       "        '\\u200fمعنى، عبد الرزاق السنوسي.', '100a', 'loc-26949', 'a', 100,\n",
       "        0, 'loc', 'test'],\n",
       "       [249526, 'ʻAbd al-Razzāq al-Sanūsī Maʻná.',\n",
       "        'عبد الرزاق السنوسي معنى.',\n",
       "        'ʻAbd al-Razzāq al-Sanūsī Maʻná.',\n",
       "        '\\u200fعبد الرزاق السنوسي معنى.', '245c', 'loc-26949', 'c', 245,\n",
       "        4, 'loc', 'test'],\n",
       "       [250378, 'tansīq Muḥammad al-Sanūsī Maʻná, Muḥammad al-Asʻad.',\n",
       "        'تنسيق محمد السنوسي معنى، محمد الأسعد.',\n",
       "        'tansīq Muḥammad al-Sanūsī Maʻná, Muḥammad al-Asʻad.',\n",
       "        '\\u200fتنسيق محمد السنوسي معنى، محمد الأسعد.', '245c',\n",
       "        'loc-27089', 'c', 245, 4, 'loc', 'test'],\n",
       "       [257671, 'Falsafat al-qirāʼah wa-ishkālīyāt al-maʻná :',\n",
       "        'فلسفة القراءة وإشكاليات المعنى :',\n",
       "        'Falsafat al-qirāʼah wa-ishkālīyāt al-maʻná :',\n",
       "        'فلسفة القراءة وإشكاليات المعنى :', '245a', 'loc-28400', 'a',\n",
       "        245, 4, 'loc', 'test'],\n",
       "       [269203, 'al-Maʻná al-ḍāmir :', 'المعنى الضامر :',\n",
       "        'al-Maʻná al-ḍāmir :', 'المعنى الضامر :', '245a', 'loc-30481',\n",
       "        'a', 245, 4, 'loc', 'test'],\n",
       "       [305680, 'masāʼil fī al-maʻná /', 'مسائل في المعنى /',\n",
       "        'masāʼil fī al-maʻná /', '\\u200fمسائل في المعنى /\\u200f',\n",
       "        '245b', 'loc-37154', 'b', 245, 4, 'loc', 'test'],\n",
       "       [316760, 'sīmīyāʼ al-dāll wa-luʻbat al-maʻná /',\n",
       "        'سيمياء الدال ولعبة المعنى /',\n",
       "        'sīmīyāʼ al-dāll wa-luʻbat al-maʻná /',\n",
       "        '\\u200fسيمياء الدال ولعبة المعنى /\\u200f', '245b', 'loc-39044',\n",
       "        'b', 245, 4, 'loc', 'test'],\n",
       "       [330561,\n",
       "        'Riḥlat al-maʻná fī al-shiʻr al-ʻArabī min sulṭat al-shakl ilá musāʼalat al-sulṭah :',\n",
       "        'رحلة المعنى في الشعر العربي من سلطة الشكل الى مساءلة السلطة :',\n",
       "        'Riḥlat al-maʻná fī al-shiʻr al-ʻArabī min sulṭat al-shakl ilá musāʼalat al-sulṭah :',\n",
       "        'رحلة المعنى في الشعر العربي من سلطة الشكل الى مساءلة السلطة :',\n",
       "        '245a', 'loc-41454', 'a', 245, 4, 'loc', 'test'],\n",
       "       [330562, 'dirāsah fī tashkīl al-maʻná wa-āliyāt al-qirāʼah /',\n",
       "        'دراسة في تشكيل المعنى وآليات القراءة /',\n",
       "        'dirāsah fī tashkīl al-maʻná wa-āliyāt al-qirāʼah /',\n",
       "        'دراسة في تشكيل المعنى وآليات القراءة /', '245b', 'loc-41454',\n",
       "        'b', 245, 4, 'loc', 'test'],\n",
       "       [411144, 'Furjah jadīdah, bi-ayy maʻná? :',\n",
       "        'فرجة جديدة، بأي معنى؟ :', 'Furjah jadīdah, bi-ayy maʻná? :',\n",
       "        '\\u200fفرجة جديدة، بأي معنى؟ :\\u200f', '245a', 'loc-56545', 'a',\n",
       "        245, 4, 'loc', 'test']], dtype=object)"
      ]
     },
     "metadata": {},
     "execution_count": 25
    }
   ],
   "source": [
    "test[test['ar'].apply(lambda x: 'معنى' in str(x))].values"
   ]
  },
  {
   "cell_type": "code",
   "execution_count": null,
   "metadata": {},
   "outputs": [],
   "source": []
  }
 ]
}