{
 "metadata": {
  "language_info": {
   "codemirror_mode": {
    "name": "ipython",
    "version": 3
   },
   "file_extension": ".py",
   "mimetype": "text/x-python",
   "name": "python",
   "nbconvert_exporter": "python",
   "pygments_lexer": "ipython3",
   "version": "3.7.9-final"
  },
  "orig_nbformat": 2,
  "kernelspec": {
   "name": "python3",
   "display_name": "Python 3",
   "language": "python"
  }
 },
 "nbformat": 4,
 "nbformat_minor": 2,
 "cells": [
  {
   "cell_type": "code",
   "execution_count": 1,
   "metadata": {},
   "outputs": [],
   "source": [
    "%load_ext autoreload\n",
    "%autoreload 2\n",
    "import pandas as pd\n",
    "import os\n",
    "from pathlib import Path\n",
    "sys.path.insert(0,\"..\")\n",
    "from src.evaluation.evaluate import match,match_ignore_case,match_ignore_case_punc,match_ignore_case_punc_keep_hyphen, evaluate_df\n",
    "from src import alignment\n",
    "from src.data.make_dataset import depunc, tokenize_skiphyph, recompose\n",
    "import numpy as np\n",
    "import re\n"
   ]
  },
  {
   "cell_type": "code",
   "execution_count": 236,
   "metadata": {},
   "outputs": [],
   "source": [
    "def match_invariable_order(gold,prediction):\n",
    "    ''' only penalizes predictions missing from gold, but does not if prediction has more tokens'''\n",
    "    s1 =str(gold).lower()\n",
    "    s2 =str(prediction).lower()\n",
    "    s1 = depunc(s1)\n",
    "    s2 = depunc(s2)\n",
    "    s1 = s1.split()\n",
    "    s2 = s2.split()\n",
    "    \n",
    "    l1 = len(s1)\n",
    "    l2 = len(s2)\n",
    "    # if gold is just a punc\n",
    "    if l1 == 0:\n",
    "       return {'score':1,'len':0,'found':0}\n",
    "    \n",
    "    d1 = {}\n",
    "    d2 = {}\n",
    "    for t1 in s1:\n",
    "        if t1 in d1:\n",
    "            d1[t1] += 1\n",
    "        else:\n",
    "            d1[t1] = 1\n",
    "\n",
    "    for t2 in s2:\n",
    "        if t2 in d2:\n",
    "            d2[t2] -= 1\n",
    "        else:\n",
    "            d2[t2] = -1\n",
    "\n",
    "    for t,c in d2.items():\n",
    "        if t in d1:\n",
    "            d1[t] -= 1 \n",
    "    mismatches = sum([x for x in d1.values() if x>0])\n",
    "    \n",
    "    return {'score':(l1-mismatches)/l1,'len':l1,'found':l1-mismatches}\n",
    " \n",
    "    \n"
   ]
  },
  {
   "cell_type": "code",
   "execution_count": 237,
   "metadata": {},
   "outputs": [
    {
     "output_type": "execute_result",
     "data": {
      "text/plain": [
       "{'score': 0.3333333333333333, 'len': 6, 'found': 2}"
      ]
     },
     "metadata": {},
     "execution_count": 237
    }
   ],
   "source": [
    "match_invariable_order(dev[dev['sentID']==1]['rom'].values[0],dev[dev['sentID']==1]['p'].values[0])"
   ]
  },
  {
   "cell_type": "code",
   "execution_count": 2,
   "metadata": {},
   "outputs": [],
   "source": [
    "home = Path(os.getcwd()).parent\n",
    "dev = pd.read_csv(f'{home}/data/processed/dev.tsv',delimiter='\\t')\n"
   ]
  },
  {
   "cell_type": "code",
   "execution_count": 179,
   "metadata": {},
   "outputs": [],
   "source": [
    "def evaluate_sentences(golddf,gold_column='rom',source_column='ar',predict_series={},extra_columns=['sentID','comb.tag',],eval_funcs=[match,match_ignore_case,match_ignore_case_punc,match_ignore_case_punc_keep_hyphen,match_invariable_order]):\n",
    "    evaldf = golddf.copy()\n",
    "    extra_columns.extend([gold_column,source_column])\n",
    "    evaldf = evaldf[extra_columns]\n",
    "    for p in predict_series:\n",
    "        evaldf[p] = predict_series[p]\n",
    "        \n",
    "    \n",
    "    for func in eval_funcs:\n",
    "        for p in predict_series:\n",
    "            evaldf[func.__name__] = evaldf.apply(lambda x: func( str(x[p]), str(x[gold_column]) ) ,axis=1)\n",
    "\n",
    "    return evaldf"
   ]
  },
  {
   "cell_type": "code",
   "execution_count": 180,
   "metadata": {},
   "outputs": [
    {
     "output_type": "execute_result",
     "data": {
      "text/plain": [
       "['rules-simple.tsv',\n",
       " 'rules-morph.tsv',\n",
       " 'mle-translit_simple-size1.0.tsv',\n",
       " 'mle-translit_simple-size0.5.tsv',\n",
       " 'mle-translit_simple-size0.25.tsv',\n",
       " 'mle-translit_simple-size0.125.tsv',\n",
       " 'mle-translit_simple-size0.0625.tsv',\n",
       " 'mle-translit_simple-size0.03125.tsv',\n",
       " 'mle-translit_simple-size0.015625.tsv',\n",
       " 'mle-translit_morph-size1.0.tsv',\n",
       " 'mle-translit_morph-size0.5.tsv',\n",
       " 'mle-translit_morph-size0.25.tsv',\n",
       " 'mle-translit_morph-size0.125.tsv',\n",
       " 'mle-translit_morph-size0.0625.tsv',\n",
       " 'mle-translit_morph-size0.03125.tsv',\n",
       " 'mle-translit_morph-size0.015625.tsv',\n",
       " 'mle-OOV-size1.0.tsv',\n",
       " 'mle-OOV-size0.5.tsv',\n",
       " 'mle-OOV-size0.25.tsv',\n",
       " 'mle-OOV-size0.125.tsv',\n",
       " 'mle-OOV-size0.0625.tsv',\n",
       " 'mle-OOV-size0.03125.tsv',\n",
       " 'mle-OOV-size0.015625.tsv',\n",
       " 'line2line-dev.out']"
      ]
     },
     "metadata": {},
     "execution_count": 180
    }
   ],
   "source": [
    "home = Path(os.getcwd()).parent.joinpath('predictions_out')\n",
    "predictions_list = []\n",
    "for dirpath, dirnames, filenames in os.walk(home):\n",
    "    for name in filenames:\n",
    "        if name.endswith('.out') or name.endswith('.tsv'):\n",
    "            predictions_list.append(name)\n",
    "sorted(predictions_list,reverse=True)"
   ]
  },
  {
   "cell_type": "code",
   "execution_count": 239,
   "metadata": {},
   "outputs": [],
   "source": [
    "predictions_list = [\n",
    "#  'rules-simple.tsv',\n",
    "#  'rules-morph.tsv',\n",
    " \n",
    " 'line2line-dev.out',\n",
    "\n",
    "#  'mle-translit_simple-size1.0.tsv',\n",
    "#  'mle-translit_simple-size0.5.tsv',\n",
    "#  'mle-translit_simple-size0.25.tsv',\n",
    "#  'mle-translit_simple-size0.125.tsv',\n",
    "#  'mle-translit_simple-size0.0625.tsv',\n",
    "#  'mle-translit_simple-size0.03125.tsv',\n",
    "#  'mle-translit_simple-size0.015625.tsv',\n",
    "\n",
    "#  'mle-translit_morph-size1.0.tsv',\n",
    "#  'mle-translit_morph-size0.5.tsv',\n",
    "#  'mle-translit_morph-size0.25.tsv',\n",
    "#  'mle-translit_morph-size0.125.tsv',\n",
    "#  'mle-translit_morph-size0.0625.tsv',\n",
    "#  'mle-translit_morph-size0.03125.tsv',\n",
    "#  'mle-translit_morph-size0.015625.tsv',\n",
    "\n",
    "#  'mle-OOV-size1.0.tsv',\n",
    "#  'mle-OOV-size0.5.tsv',\n",
    "#  'mle-OOV-size0.25.tsv',\n",
    "#  'mle-OOV-size0.125.tsv',\n",
    "#  'mle-OOV-size0.0625.tsv',\n",
    "#  'mle-OOV-size0.03125.tsv',\n",
    "#  'mle-OOV-size0.015625.tsv'\n",
    " ]"
   ]
  },
  {
   "cell_type": "code",
   "execution_count": 240,
   "metadata": {},
   "outputs": [],
   "source": [
    "predictions = {}\n",
    "\n",
    "for dirpath, dirnames, filenames in os.walk(home):\n",
    "    for name in filenames:\n",
    "        if name in predictions_list:\n",
    "            with open (f'{dirpath}/{name}','r') as p:\n",
    "                lines = [x.strip() for x in p.readlines()]\n",
    "                name = name.replace('.tsv','').replace('line2line-dev.out','seq2seq')\n",
    "                predictions[name] = pd.Series(lines)\n"
   ]
  },
  {
   "cell_type": "code",
   "execution_count": 244,
   "metadata": {},
   "outputs": [
    {
     "output_type": "execute_result",
     "data": {
      "text/plain": [
       "array([['Muqaddimāt thawrat 23 Yūlyū sanat 1952 :',\n",
       "        'Muqaddimāt thawrat 23 Yūlīyū sanat 1952 :',\n",
       "        {'score': 0.8333333333333334, 'len': 6, 'found': 5}],\n",
       "       ['al-kifāḥ fī al-qitāl, ḥarīq al-Qāhirah, wazārāt al-muwaẓaffīn, asbāb al-thawrah, Fārūq yumahhid lil-thawrah /',\n",
       "        'al-Kifāḥ fī al-qitāl, ḥarīq al-Qāhirah, wazārāt al-muwaẓẓafīn, asbāb al-thawrah, fārūq yamhud lil-thawrah /',\n",
       "        {'score': 0.8333333333333334, 'len': 12, 'found': 10}],\n",
       "       ['Muqaddimāt thawrat thalāthah wa-ʻishrīn Yūlyū sanat 1952',\n",
       "        'Muqaddimāt thawrat thalāthah wa-ʻishrīn Yūlīya sanat 1952',\n",
       "        {'score': 0.8571428571428571, 'len': 7, 'found': 6}],\n",
       "       ['Maktabat al-Nahḍah al-Misrīyah,',\n",
       "        'Maktabat al-Nahḍah al-Miṣrīyah,',\n",
       "        {'score': 0.6666666666666666, 'len': 3, 'found': 2}],\n",
       "       ['Manshūrāt al-Īsīskū,', 'Mansūrāt al-Īsīskū,',\n",
       "        {'score': 0.5, 'len': 2, 'found': 1}],\n",
       "       ['Bin Muḥammad, ʻAlī.', 'ʻAlī ibn Muḥammad,',\n",
       "        {'score': 0.6666666666666666, 'len': 3, 'found': 2}],\n",
       "       ['ʻAlī Bin Muḥammad.', 'ʻAlī ibn Muḥammad,',\n",
       "        {'score': 0.6666666666666666, 'len': 3, 'found': 2}],\n",
       "       ['ʻUraybī, ʻAlī.', 'ʻAlī al-ʻUraybī.',\n",
       "        {'score': 0.5, 'len': 2, 'found': 1}],\n",
       "       ['waqāʼiʻ wa-ẓurūf al-ghazū al-Ṣihyūnī li-Lubnān, ʻām 1982 /',\n",
       "        'waqāʼiʻ wa-ẓurūf al-ghazw al-Ṣihyūnī li-Lubnān, ʻām 1982 /',\n",
       "        {'score': 0.8571428571428571, 'len': 7, 'found': 6}],\n",
       "       ['Khirshāf, Idrīs.', 'Idrīs al-Kharshāf.',\n",
       "        {'score': 0.5, 'len': 2, 'found': 1}]], dtype=object)"
      ]
     },
     "metadata": {},
     "execution_count": 244
    }
   ],
   "source": [
    "dev[dev['match_invariable_order'].apply(lambda x: x['score']<1)][:10][['rom','p','match_invariable_order']].values"
   ]
  },
  {
   "cell_type": "code",
   "execution_count": 242,
   "metadata": {
    "tags": []
   },
   "outputs": [
    {
     "output_type": "stream",
     "name": "stdout",
     "text": [
      "seq2seq\t90.02\n"
     ]
    }
   ],
   "source": [
    "for p in predictions_list:\n",
    "    p = p.replace('.tsv','').replace('line2line-dev.out','seq2seq')\n",
    "    dev['p'] = predictions[p]\n",
    "\n",
    "    dev['match_invariable_order'] = dev.apply(lambda x: match_invariable_order(x['rom'],x['p']),axis=1)\n",
    "    print(p,end='\\t')\n",
    "    score = dev['match_invariable_order'].apply(lambda x: x['found']).sum()/senteval['match_invariable_order'].apply(lambda x: x['len']).sum()\n",
    "    print(round(score*100,2))"
   ]
  },
  {
   "cell_type": "code",
   "execution_count": 245,
   "metadata": {},
   "outputs": [
    {
     "output_type": "execute_result",
     "data": {
      "text/plain": [
       "array([['Rāfiʻī, ʻAbd al-Raḥmān.', 'Rāfiʻī, ʻAbd al-Raḥmān.',\n",
       "        {'score': 1.0, 'len': 3, 'found': 3}],\n",
       "       ['Muqaddimāt thawrat 23 Yūlyū sanat 1952 :',\n",
       "        'Muqaddimāt thawrat 23 Yūlīyū sanat 1952 :',\n",
       "        {'score': 0.8333333333333334, 'len': 6, 'found': 5}],\n",
       "       ['al-kifāḥ fī al-qitāl, ḥarīq al-Qāhirah, wazārāt al-muwaẓaffīn, asbāb al-thawrah, Fārūq yumahhid lil-thawrah /',\n",
       "        'al-Kifāḥ fī al-qitāl, ḥarīq al-Qāhirah, wazārāt al-muwaẓẓafīn, asbāb al-thawrah, fārūq yamhud lil-thawrah /',\n",
       "        {'score': 0.8333333333333334, 'len': 12, 'found': 10}],\n",
       "       ['bi-qalam ʻAbd al-Raḥmān al-Rifāʻī.',\n",
       "        'bi-qalam ʻAbd al-Raḥmān al-Rifāʻī.',\n",
       "        {'score': 1.0, 'len': 4, 'found': 4}],\n",
       "       ['Muqaddimāt thawrat thalāthah wa-ʻishrīn Yūlyū sanat 1952',\n",
       "        'Muqaddimāt thawrat thalāthah wa-ʻishrīn Yūlīya sanat 1952',\n",
       "        {'score': 0.8571428571428571, 'len': 7, 'found': 6}],\n",
       "       ['al-Ṭabʻah 2.', 'al-Ṭabʻah 2.',\n",
       "        {'score': 1.0, 'len': 2, 'found': 2}],\n",
       "       ['Maktabat al-Nahḍah al-Misrīyah,',\n",
       "        'Maktabat al-Nahḍah al-Miṣrīyah,',\n",
       "        {'score': 0.6666666666666666, 'len': 3, 'found': 2}],\n",
       "       ['Madkūr, ʻAlī Aḥmad.', 'ʻAlī Aḥmad Madkūr.',\n",
       "        {'score': 1.0, 'len': 3, 'found': 3}],\n",
       "       ['Taqwīm barāmij iʻdād muʻallimī al-lughah al-ʻArabīyah li-ghayr al-nāṭiqīn bihā /',\n",
       "        'Taqwīm barāmij iʻdād muʻallimī al-lughah al-ʻArabīyah li-ghayr al-nāṭiqīn bihā /',\n",
       "        {'score': 1.0, 'len': 9, 'found': 9}],\n",
       "       ['taʼlīf ʻAlī Aḥmad Madkūr.', 'taʼlīf ʻAlī Aḥmad Madkūr.',\n",
       "        {'score': 1.0, 'len': 4, 'found': 4}]], dtype=object)"
      ]
     },
     "metadata": {},
     "execution_count": 245
    }
   ],
   "source": [
    "dev[['rom','p','match_invariable_order']][:10].values"
   ]
  },
  {
   "cell_type": "code",
   "execution_count": 246,
   "metadata": {},
   "outputs": [
    {
     "output_type": "execute_result",
     "data": {
      "text/plain": [
       "['/Users/fae211/ba3sasah/LOC_transcribe/evaluation/dev/rules-simple.tsv',\n",
       " '/Users/fae211/ba3sasah/LOC_transcribe/evaluation/dev/rules-morph.tsv',\n",
       " '/Users/fae211/ba3sasah/LOC_transcribe/evaluation/dev/mle-translit_simple-size1.0.tsv',\n",
       " '/Users/fae211/ba3sasah/LOC_transcribe/evaluation/dev/mle-translit_simple-size0.5.tsv',\n",
       " '/Users/fae211/ba3sasah/LOC_transcribe/evaluation/dev/mle-translit_simple-size0.25.tsv',\n",
       " '/Users/fae211/ba3sasah/LOC_transcribe/evaluation/dev/mle-translit_simple-size0.125.tsv',\n",
       " '/Users/fae211/ba3sasah/LOC_transcribe/evaluation/dev/mle-translit_simple-size0.0625.tsv',\n",
       " '/Users/fae211/ba3sasah/LOC_transcribe/evaluation/dev/mle-translit_simple-size0.03125.tsv',\n",
       " '/Users/fae211/ba3sasah/LOC_transcribe/evaluation/dev/mle-translit_simple-size0.015625.tsv',\n",
       " '/Users/fae211/ba3sasah/LOC_transcribe/evaluation/dev/mle-translit_morph-size1.0.tsv',\n",
       " '/Users/fae211/ba3sasah/LOC_transcribe/evaluation/dev/mle-translit_morph-size0.5.tsv',\n",
       " '/Users/fae211/ba3sasah/LOC_transcribe/evaluation/dev/mle-translit_morph-size0.25.tsv',\n",
       " '/Users/fae211/ba3sasah/LOC_transcribe/evaluation/dev/mle-translit_morph-size0.125.tsv',\n",
       " '/Users/fae211/ba3sasah/LOC_transcribe/evaluation/dev/mle-translit_morph-size0.0625.tsv',\n",
       " '/Users/fae211/ba3sasah/LOC_transcribe/evaluation/dev/mle-translit_morph-size0.03125.tsv',\n",
       " '/Users/fae211/ba3sasah/LOC_transcribe/evaluation/dev/mle-translit_morph-size0.015625.tsv',\n",
       " '/Users/fae211/ba3sasah/LOC_transcribe/evaluation/dev/mle-OOV-size1.0.tsv',\n",
       " '/Users/fae211/ba3sasah/LOC_transcribe/evaluation/dev/mle-OOV-size0.5.tsv',\n",
       " '/Users/fae211/ba3sasah/LOC_transcribe/evaluation/dev/mle-OOV-size0.25.tsv',\n",
       " '/Users/fae211/ba3sasah/LOC_transcribe/evaluation/dev/mle-OOV-size0.125.tsv',\n",
       " '/Users/fae211/ba3sasah/LOC_transcribe/evaluation/dev/mle-OOV-size0.0625.tsv',\n",
       " '/Users/fae211/ba3sasah/LOC_transcribe/evaluation/dev/mle-OOV-size0.03125.tsv',\n",
       " '/Users/fae211/ba3sasah/LOC_transcribe/evaluation/dev/mle-OOV-size0.015625.tsv',\n",
       " '/Users/fae211/ba3sasah/LOC_transcribe/evaluation/dev/line2line-dev.out.tsv']"
      ]
     },
     "metadata": {},
     "execution_count": 246
    }
   ],
   "source": [
    "home = Path(os.getcwd()).parent.joinpath('evaluation/dev')\n",
    "home\n",
    "evals = [str(home)+'/'+path for path in os.listdir(home)]\n",
    "evals = sorted(evals,reverse=True)\n",
    "evals"
   ]
  },
  {
   "cell_type": "code",
   "execution_count": 247,
   "metadata": {},
   "outputs": [],
   "source": [
    "# select order\n",
    "evals = [\n",
    "    '/Users/fae211/ba3sasah/LOC_transcribe/evaluation/dev/line2line-dev.out.tsv',\n",
    "#  '/Users/fae211/ba3sasah/LOC_transcribe/evaluation/dev/rules-simple.tsv',\n",
    "#  '/Users/fae211/ba3sasah/LOC_transcribe/evaluation/dev/rules-morph.tsv',\n",
    "\n",
    "#  '/Users/fae211/ba3sasah/LOC_transcribe/evaluation/dev/mle-OOV-size1.0.tsv',\n",
    "#  '/Users/fae211/ba3sasah/LOC_transcribe/evaluation/dev/mle-OOV-size0.5.tsv',\n",
    "#  '/Users/fae211/ba3sasah/LOC_transcribe/evaluation/dev/mle-OOV-size0.25.tsv',\n",
    "#  '/Users/fae211/ba3sasah/LOC_transcribe/evaluation/dev/mle-OOV-size0.125.tsv',\n",
    "#  '/Users/fae211/ba3sasah/LOC_transcribe/evaluation/dev/mle-OOV-size0.0625.tsv',\n",
    "#  '/Users/fae211/ba3sasah/LOC_transcribe/evaluation/dev/mle-OOV-size0.03125.tsv',\n",
    "#  '/Users/fae211/ba3sasah/LOC_transcribe/evaluation/dev/mle-OOV-size0.015625.tsv',\n",
    "\n",
    "#  '/Users/fae211/ba3sasah/LOC_transcribe/evaluation/dev/mle-translit_simple-size1.0.tsv',\n",
    "#  '/Users/fae211/ba3sasah/LOC_transcribe/evaluation/dev/mle-translit_simple-size0.5.tsv',\n",
    "#  '/Users/fae211/ba3sasah/LOC_transcribe/evaluation/dev/mle-translit_simple-size0.25.tsv',\n",
    "#  '/Users/fae211/ba3sasah/LOC_transcribe/evaluation/dev/mle-translit_simple-size0.125.tsv',\n",
    "#  '/Users/fae211/ba3sasah/LOC_transcribe/evaluation/dev/mle-translit_simple-size0.0625.tsv',\n",
    "#  '/Users/fae211/ba3sasah/LOC_transcribe/evaluation/dev/mle-translit_simple-size0.03125.tsv',\n",
    "#  '/Users/fae211/ba3sasah/LOC_transcribe/evaluation/dev/mle-translit_simple-size0.015625.tsv',\n",
    "\n",
    "#  '/Users/fae211/ba3sasah/LOC_transcribe/evaluation/dev/mle-translit_morph-size1.0.tsv',\n",
    "# #  '/Users/fae211/ba3sasah/LOC_transcribe/evaluation/dev/mle-translit_morph-size0.5.tsv',\n",
    "#  '/Users/fae211/ba3sasah/LOC_transcribe/evaluation/dev/mle-translit_morph-size0.25.tsv',\n",
    "#  '/Users/fae211/ba3sasah/LOC_transcribe/evaluation/dev/mle-translit_morph-size0.125.tsv',\n",
    "#  '/Users/fae211/ba3sasah/LOC_transcribe/evaluation/dev/mle-translit_morph-size0.0625.tsv',\n",
    " ]"
   ]
  },
  {
   "cell_type": "code",
   "execution_count": null,
   "metadata": {},
   "outputs": [],
   "source": []
  },
  {
   "cell_type": "code",
   "execution_count": 253,
   "metadata": {},
   "outputs": [],
   "source": [
    "def score_match(matchcolumn,to_string=True):\n",
    "    if to_string:\n",
    "        score = matchcolumn.value_counts(normalize=True).to_string()\n",
    "        print(matchcolumn.name)\n",
    "        print(score)\n",
    "        # logging.info(f'score for: {matchcolumn.name}\\n{score}')\n",
    "    else:\n",
    "        return matchcolumn.value_counts(normalize=True)"
   ]
  },
  {
   "cell_type": "code",
   "execution_count": 254,
   "metadata": {},
   "outputs": [
    {
     "output_type": "stream",
     "name": "stdout",
     "text": [
      "match\nTrue     0.869846\nFalse    0.130154\n"
     ]
    }
   ],
   "source": [
    "score_match(teste['match'])"
   ]
  },
  {
   "cell_type": "code",
   "execution_count": null,
   "metadata": {},
   "outputs": [],
   "source": []
  },
  {
   "cell_type": "code",
   "execution_count": null,
   "metadata": {},
   "outputs": [],
   "source": [
    "def evaluate_df(df,predict_columns='all',extra_info_columns='all',eval_funcs='all', allow_misaligned=True):\n",
    "    ''' unless default all is passed, must pass a list of column names and functions'''\n",
    "    \n",
    "    if predict_columns == 'all':\n",
    "        predict_columns = [column for column in df.columns if column.startswith('predict_')]\n",
    "        \n",
    "\n",
    "    if extra_info_columns == 'all':\n",
    "        extra_info_columns = ['sentID','recID','comb.tag']\n",
    "    \n",
    "    if eval_funcs == 'all':\n",
    "        eval_funcs=[match,match_ignore_case,match_ignore_case_punc,match_ignore_case_punc_keep_hyphen]\n",
    "\n",
    "    \n",
    "    evaluation = df.apply(lambda row: evaluate_tokens(gold=row['rom'],source=row['ar'], predictions=dict(map(lambda x: (x,row[x]),predict_columns)), extra_info=dict(map(lambda x: (x,row[x]),extra_info_columns)), allow_misaligned=allow_misaligned)  ,axis=1)\n",
    "\n",
    "    return pd.concat(list(evaluation))\n"
   ]
  },
  {
   "cell_type": "code",
   "execution_count": 250,
   "metadata": {},
   "outputs": [
    {
     "output_type": "execute_result",
     "data": {
      "text/plain": [
       "True     0.908154\n",
       "False    0.091846\n",
       "Name: match_ignore_case_punc, dtype: float64"
      ]
     },
     "metadata": {},
     "execution_count": 250
    }
   ],
   "source": [
    "teste = pd.read_csv(evals[0],delimiter='\\t')\n",
    "# teste[teste['aligned_source/prediction']==False]\n",
    "teste['match_ignore_case_punc'].value_counts(normalize=True)"
   ]
  },
  {
   "cell_type": "code",
   "execution_count": 148,
   "metadata": {},
   "outputs": [],
   "source": [
    "def print_scores(evals,matches):\n",
    "    all = {}\n",
    "    for e in evals:\n",
    "        scores = {}\n",
    "        df = pd.read_csv(e,delimiter='\\t')\n",
    "        predict_column = [c for c in df.columns if c.startswith('predict')][0]\n",
    "        for m in matches:\n",
    "            score = evaluate.score_match(df[m],to_string=False)[True]\n",
    "            score = round(score*100,1)\n",
    "            scores[m] = score\n",
    "        all[predict_column] = scores\n",
    "    return pd.DataFrame(all).T"
   ]
  },
  {
   "cell_type": "code",
   "execution_count": 152,
   "metadata": {},
   "outputs": [
    {
     "output_type": "error",
     "ename": "KeyError",
     "evalue": "'match_ignore_case_punc'",
     "traceback": [
      "\u001b[0;31m---------------------------------------------------------------------------\u001b[0m",
      "\u001b[0;31mKeyError\u001b[0m                                  Traceback (most recent call last)",
      "\u001b[0;32m/usr/local/Caskroom/miniconda/base/envs/LOC_transcribe/lib/python3.7/site-packages/pandas/core/indexes/base.py\u001b[0m in \u001b[0;36mget_loc\u001b[0;34m(self, key, method, tolerance)\u001b[0m\n\u001b[1;32m   3079\u001b[0m             \u001b[0;32mtry\u001b[0m\u001b[0;34m:\u001b[0m\u001b[0;34m\u001b[0m\u001b[0;34m\u001b[0m\u001b[0m\n\u001b[0;32m-> 3080\u001b[0;31m                 \u001b[0;32mreturn\u001b[0m \u001b[0mself\u001b[0m\u001b[0;34m.\u001b[0m\u001b[0m_engine\u001b[0m\u001b[0;34m.\u001b[0m\u001b[0mget_loc\u001b[0m\u001b[0;34m(\u001b[0m\u001b[0mcasted_key\u001b[0m\u001b[0;34m)\u001b[0m\u001b[0;34m\u001b[0m\u001b[0;34m\u001b[0m\u001b[0m\n\u001b[0m\u001b[1;32m   3081\u001b[0m             \u001b[0;32mexcept\u001b[0m \u001b[0mKeyError\u001b[0m \u001b[0;32mas\u001b[0m \u001b[0merr\u001b[0m\u001b[0;34m:\u001b[0m\u001b[0;34m\u001b[0m\u001b[0;34m\u001b[0m\u001b[0m\n",
      "\u001b[0;32mpandas/_libs/index.pyx\u001b[0m in \u001b[0;36mpandas._libs.index.IndexEngine.get_loc\u001b[0;34m()\u001b[0m\n",
      "\u001b[0;32mpandas/_libs/index.pyx\u001b[0m in \u001b[0;36mpandas._libs.index.IndexEngine.get_loc\u001b[0;34m()\u001b[0m\n",
      "\u001b[0;32mpandas/_libs/hashtable_class_helper.pxi\u001b[0m in \u001b[0;36mpandas._libs.hashtable.PyObjectHashTable.get_item\u001b[0;34m()\u001b[0m\n",
      "\u001b[0;32mpandas/_libs/hashtable_class_helper.pxi\u001b[0m in \u001b[0;36mpandas._libs.hashtable.PyObjectHashTable.get_item\u001b[0;34m()\u001b[0m\n",
      "\u001b[0;31mKeyError\u001b[0m: 'match_ignore_case_punc'",
      "\nThe above exception was the direct cause of the following exception:\n",
      "\u001b[0;31mKeyError\u001b[0m                                  Traceback (most recent call last)",
      "\u001b[0;32m<ipython-input-152-fcb2634512b0>\u001b[0m in \u001b[0;36m<module>\u001b[0;34m\u001b[0m\n\u001b[0;32m----> 1\u001b[0;31m \u001b[0mscores\u001b[0m \u001b[0;34m=\u001b[0m \u001b[0mprint_scores\u001b[0m\u001b[0;34m(\u001b[0m\u001b[0mevals\u001b[0m\u001b[0;34m=\u001b[0m\u001b[0mevals\u001b[0m\u001b[0;34m,\u001b[0m\u001b[0mmatches\u001b[0m\u001b[0;34m=\u001b[0m\u001b[0;34m[\u001b[0m\u001b[0;34m'match'\u001b[0m\u001b[0;34m,\u001b[0m\u001b[0;34m'match_ignore_case'\u001b[0m\u001b[0;34m,\u001b[0m\u001b[0;34m'match_ignore_case_punc'\u001b[0m\u001b[0;34m]\u001b[0m\u001b[0;34m)\u001b[0m\u001b[0;34m\u001b[0m\u001b[0;34m\u001b[0m\u001b[0m\n\u001b[0m",
      "\u001b[0;32m<ipython-input-148-ab84c94d09aa>\u001b[0m in \u001b[0;36mprint_scores\u001b[0;34m(evals, matches)\u001b[0m\n\u001b[1;32m      6\u001b[0m         \u001b[0mpredict_column\u001b[0m \u001b[0;34m=\u001b[0m \u001b[0;34m[\u001b[0m\u001b[0mc\u001b[0m \u001b[0;32mfor\u001b[0m \u001b[0mc\u001b[0m \u001b[0;32min\u001b[0m \u001b[0mdf\u001b[0m\u001b[0;34m.\u001b[0m\u001b[0mcolumns\u001b[0m \u001b[0;32mif\u001b[0m \u001b[0mc\u001b[0m\u001b[0;34m.\u001b[0m\u001b[0mstartswith\u001b[0m\u001b[0;34m(\u001b[0m\u001b[0;34m'predict'\u001b[0m\u001b[0;34m)\u001b[0m\u001b[0;34m]\u001b[0m\u001b[0;34m[\u001b[0m\u001b[0;36m0\u001b[0m\u001b[0;34m]\u001b[0m\u001b[0;34m\u001b[0m\u001b[0;34m\u001b[0m\u001b[0m\n\u001b[1;32m      7\u001b[0m         \u001b[0;32mfor\u001b[0m \u001b[0mm\u001b[0m \u001b[0;32min\u001b[0m \u001b[0mmatches\u001b[0m\u001b[0;34m:\u001b[0m\u001b[0;34m\u001b[0m\u001b[0;34m\u001b[0m\u001b[0m\n\u001b[0;32m----> 8\u001b[0;31m             \u001b[0mscore\u001b[0m \u001b[0;34m=\u001b[0m \u001b[0mevaluate\u001b[0m\u001b[0;34m.\u001b[0m\u001b[0mscore_match\u001b[0m\u001b[0;34m(\u001b[0m\u001b[0mdf\u001b[0m\u001b[0;34m[\u001b[0m\u001b[0mm\u001b[0m\u001b[0;34m]\u001b[0m\u001b[0;34m,\u001b[0m\u001b[0mto_string\u001b[0m\u001b[0;34m=\u001b[0m\u001b[0;32mFalse\u001b[0m\u001b[0;34m)\u001b[0m\u001b[0;34m[\u001b[0m\u001b[0;32mTrue\u001b[0m\u001b[0;34m]\u001b[0m\u001b[0;34m\u001b[0m\u001b[0;34m\u001b[0m\u001b[0m\n\u001b[0m\u001b[1;32m      9\u001b[0m             \u001b[0mscore\u001b[0m \u001b[0;34m=\u001b[0m \u001b[0mround\u001b[0m\u001b[0;34m(\u001b[0m\u001b[0mscore\u001b[0m\u001b[0;34m*\u001b[0m\u001b[0;36m100\u001b[0m\u001b[0;34m,\u001b[0m\u001b[0;36m1\u001b[0m\u001b[0;34m)\u001b[0m\u001b[0;34m\u001b[0m\u001b[0;34m\u001b[0m\u001b[0m\n\u001b[1;32m     10\u001b[0m             \u001b[0mscores\u001b[0m\u001b[0;34m[\u001b[0m\u001b[0mm\u001b[0m\u001b[0;34m]\u001b[0m \u001b[0;34m=\u001b[0m \u001b[0mscore\u001b[0m\u001b[0;34m\u001b[0m\u001b[0;34m\u001b[0m\u001b[0m\n",
      "\u001b[0;32m/usr/local/Caskroom/miniconda/base/envs/LOC_transcribe/lib/python3.7/site-packages/pandas/core/frame.py\u001b[0m in \u001b[0;36m__getitem__\u001b[0;34m(self, key)\u001b[0m\n\u001b[1;32m   3022\u001b[0m             \u001b[0;32mif\u001b[0m \u001b[0mself\u001b[0m\u001b[0;34m.\u001b[0m\u001b[0mcolumns\u001b[0m\u001b[0;34m.\u001b[0m\u001b[0mnlevels\u001b[0m \u001b[0;34m>\u001b[0m \u001b[0;36m1\u001b[0m\u001b[0;34m:\u001b[0m\u001b[0;34m\u001b[0m\u001b[0;34m\u001b[0m\u001b[0m\n\u001b[1;32m   3023\u001b[0m                 \u001b[0;32mreturn\u001b[0m \u001b[0mself\u001b[0m\u001b[0;34m.\u001b[0m\u001b[0m_getitem_multilevel\u001b[0m\u001b[0;34m(\u001b[0m\u001b[0mkey\u001b[0m\u001b[0;34m)\u001b[0m\u001b[0;34m\u001b[0m\u001b[0;34m\u001b[0m\u001b[0m\n\u001b[0;32m-> 3024\u001b[0;31m             \u001b[0mindexer\u001b[0m \u001b[0;34m=\u001b[0m \u001b[0mself\u001b[0m\u001b[0;34m.\u001b[0m\u001b[0mcolumns\u001b[0m\u001b[0;34m.\u001b[0m\u001b[0mget_loc\u001b[0m\u001b[0;34m(\u001b[0m\u001b[0mkey\u001b[0m\u001b[0;34m)\u001b[0m\u001b[0;34m\u001b[0m\u001b[0;34m\u001b[0m\u001b[0m\n\u001b[0m\u001b[1;32m   3025\u001b[0m             \u001b[0;32mif\u001b[0m \u001b[0mis_integer\u001b[0m\u001b[0;34m(\u001b[0m\u001b[0mindexer\u001b[0m\u001b[0;34m)\u001b[0m\u001b[0;34m:\u001b[0m\u001b[0;34m\u001b[0m\u001b[0;34m\u001b[0m\u001b[0m\n\u001b[1;32m   3026\u001b[0m                 \u001b[0mindexer\u001b[0m \u001b[0;34m=\u001b[0m \u001b[0;34m[\u001b[0m\u001b[0mindexer\u001b[0m\u001b[0;34m]\u001b[0m\u001b[0;34m\u001b[0m\u001b[0;34m\u001b[0m\u001b[0m\n",
      "\u001b[0;32m/usr/local/Caskroom/miniconda/base/envs/LOC_transcribe/lib/python3.7/site-packages/pandas/core/indexes/base.py\u001b[0m in \u001b[0;36mget_loc\u001b[0;34m(self, key, method, tolerance)\u001b[0m\n\u001b[1;32m   3080\u001b[0m                 \u001b[0;32mreturn\u001b[0m \u001b[0mself\u001b[0m\u001b[0;34m.\u001b[0m\u001b[0m_engine\u001b[0m\u001b[0;34m.\u001b[0m\u001b[0mget_loc\u001b[0m\u001b[0;34m(\u001b[0m\u001b[0mcasted_key\u001b[0m\u001b[0;34m)\u001b[0m\u001b[0;34m\u001b[0m\u001b[0;34m\u001b[0m\u001b[0m\n\u001b[1;32m   3081\u001b[0m             \u001b[0;32mexcept\u001b[0m \u001b[0mKeyError\u001b[0m \u001b[0;32mas\u001b[0m \u001b[0merr\u001b[0m\u001b[0;34m:\u001b[0m\u001b[0;34m\u001b[0m\u001b[0;34m\u001b[0m\u001b[0m\n\u001b[0;32m-> 3082\u001b[0;31m                 \u001b[0;32mraise\u001b[0m \u001b[0mKeyError\u001b[0m\u001b[0;34m(\u001b[0m\u001b[0mkey\u001b[0m\u001b[0;34m)\u001b[0m \u001b[0;32mfrom\u001b[0m \u001b[0merr\u001b[0m\u001b[0;34m\u001b[0m\u001b[0;34m\u001b[0m\u001b[0m\n\u001b[0m\u001b[1;32m   3083\u001b[0m \u001b[0;34m\u001b[0m\u001b[0m\n\u001b[1;32m   3084\u001b[0m         \u001b[0;32mif\u001b[0m \u001b[0mtolerance\u001b[0m \u001b[0;32mis\u001b[0m \u001b[0;32mnot\u001b[0m \u001b[0;32mNone\u001b[0m\u001b[0;34m:\u001b[0m\u001b[0;34m\u001b[0m\u001b[0;34m\u001b[0m\u001b[0m\n",
      "\u001b[0;31mKeyError\u001b[0m: 'match_ignore_case_punc'"
     ]
    }
   ],
   "source": [
    "scores = print_scores(evals=evals,matches=['match','match_ignore_case','match_ignore_case_punc'])"
   ]
  },
  {
   "cell_type": "code",
   "execution_count": 150,
   "metadata": {},
   "outputs": [
    {
     "output_type": "execute_result",
     "data": {
      "text/plain": [
       "                                              match  match_ignore_case\n",
       "predict_rules-simple_tok                       16.2               17.3\n",
       "predict_rules-morph_tok                        67.9               84.3\n",
       "predict_mle-translit_simple-size1.0_tok        84.5               91.5\n",
       "predict_mle-translit_simple-size0.5_tok        83.2               90.3\n",
       "predict_mle-translit_simple-size0.25_tok       80.8               88.1\n",
       "predict_mle-translit_simple-size0.125_tok      76.0               83.6\n",
       "predict_mle-translit_simple-size0.0625_tok     73.4               80.9\n",
       "predict_mle-translit_simple-size0.03125_tok    69.2               76.2\n",
       "predict_mle-translit_simple-size0.015625_tok   64.5               71.3\n",
       "predict_mle-translit_morph-size1.0_tok         85.3               92.4"
      ],
      "text/html": "<div>\n<style scoped>\n    .dataframe tbody tr th:only-of-type {\n        vertical-align: middle;\n    }\n\n    .dataframe tbody tr th {\n        vertical-align: top;\n    }\n\n    .dataframe thead th {\n        text-align: right;\n    }\n</style>\n<table border=\"1\" class=\"dataframe\">\n  <thead>\n    <tr style=\"text-align: right;\">\n      <th></th>\n      <th>match</th>\n      <th>match_ignore_case</th>\n    </tr>\n  </thead>\n  <tbody>\n    <tr>\n      <th>predict_rules-simple_tok</th>\n      <td>16.2</td>\n      <td>17.3</td>\n    </tr>\n    <tr>\n      <th>predict_rules-morph_tok</th>\n      <td>67.9</td>\n      <td>84.3</td>\n    </tr>\n    <tr>\n      <th>predict_mle-translit_simple-size1.0_tok</th>\n      <td>84.5</td>\n      <td>91.5</td>\n    </tr>\n    <tr>\n      <th>predict_mle-translit_simple-size0.5_tok</th>\n      <td>83.2</td>\n      <td>90.3</td>\n    </tr>\n    <tr>\n      <th>predict_mle-translit_simple-size0.25_tok</th>\n      <td>80.8</td>\n      <td>88.1</td>\n    </tr>\n    <tr>\n      <th>predict_mle-translit_simple-size0.125_tok</th>\n      <td>76.0</td>\n      <td>83.6</td>\n    </tr>\n    <tr>\n      <th>predict_mle-translit_simple-size0.0625_tok</th>\n      <td>73.4</td>\n      <td>80.9</td>\n    </tr>\n    <tr>\n      <th>predict_mle-translit_simple-size0.03125_tok</th>\n      <td>69.2</td>\n      <td>76.2</td>\n    </tr>\n    <tr>\n      <th>predict_mle-translit_simple-size0.015625_tok</th>\n      <td>64.5</td>\n      <td>71.3</td>\n    </tr>\n    <tr>\n      <th>predict_mle-translit_morph-size1.0_tok</th>\n      <td>85.3</td>\n      <td>92.4</td>\n    </tr>\n  </tbody>\n</table>\n</div>"
     },
     "metadata": {},
     "execution_count": 150
    }
   ],
   "source": [
    "scores"
   ]
  },
  {
   "cell_type": "code",
   "execution_count": 151,
   "metadata": {},
   "outputs": [],
   "source": [
    "scores.to_clipboard()"
   ]
  },
  {
   "cell_type": "code",
   "execution_count": 37,
   "metadata": {},
   "outputs": [
    {
     "output_type": "execute_result",
     "data": {
      "text/plain": [
       "PosixPath('/Users/fae211/ba3sasah/LOC_transcribe')"
      ]
     },
     "metadata": {},
     "execution_count": 37
    }
   ],
   "source": []
  },
  {
   "cell_type": "code",
   "execution_count": 38,
   "metadata": {},
   "outputs": [],
   "source": [
    "seq = pd.read_csv(home.joinpath('evaluation/dev/eval-line2line-dev.out'),delimiter='\\t')\n",
    "mlemorph = pd.read_csv(home.joinpath('evaluation/dev/eval-mle-translit_morph-size1.0.tsv'),delimiter='\\t')\n",
    "rulesmorph = pd.read_csv(home.joinpath('evaluation/dev/eval-rules-morph.tsv'),delimiter='\\t')"
   ]
  },
  {
   "cell_type": "code",
   "execution_count": 5,
   "metadata": {},
   "outputs": [
    {
     "output_type": "execute_result",
     "data": {
      "text/plain": [
       "Index(['sentID', 'comb.tag', 'gold_tok', 'source_tok', 'prediction_tok',\n",
       "       'aligned_source/gold', 'aligned_source/prediction',\n",
       "       'aligned_gold/prediction', 'match', 'match_ignore_case',\n",
       "       'match_ignore_case_punc', 'match_ignore_case_punc_keep_hyphen'],\n",
       "      dtype='object')"
      ]
     },
     "metadata": {},
     "execution_count": 5
    }
   ],
   "source": [
    "mlemorph.columns"
   ]
  },
  {
   "cell_type": "code",
   "execution_count": 29,
   "metadata": {},
   "outputs": [],
   "source": [
    "error_analysis = rulesmorph[rulesmorph['match_ignore_case_punc_keep_hyphen']==False]"
   ]
  },
  {
   "cell_type": "code",
   "execution_count": 6,
   "metadata": {},
   "outputs": [],
   "source": [
    "error_analysis_mle = mlemorph[mlemorph['match_ignore_case_punc_keep_hyphen']==False]"
   ]
  },
  {
   "cell_type": "code",
   "execution_count": 30,
   "metadata": {},
   "outputs": [
    {
     "output_type": "execute_result",
     "data": {
      "text/plain": [
       "3              1\n",
       "15             2\n",
       "27             4\n",
       "38             6\n",
       "39            48\n",
       "           ...  \n",
       "249777    599415\n",
       "249804    599456\n",
       "249815    599457\n",
       "249819    599508\n",
       "249830    599556\n",
       "Name: sentID, Length: 25419, dtype: int64"
      ]
     },
     "metadata": {},
     "execution_count": 30
    }
   ],
   "source": [
    "error_analysis[error_analysis['aligned_source/gold']==True]['sentID'].drop_duplicates()"
   ]
  },
  {
   "cell_type": "code",
   "execution_count": null,
   "metadata": {},
   "outputs": [],
   "source": [
    "rulesmorph[rulesmorph['']]"
   ]
  },
  {
   "cell_type": "code",
   "execution_count": 31,
   "metadata": {},
   "outputs": [],
   "source": [
    "dev = pd.read_csv(home.joinpath('data/processed/dev.tsv'),delimiter='\\t')#.set_index('sentID')\n",
    "dev = dev.set_index('sentID')"
   ]
  },
  {
   "cell_type": "code",
   "execution_count": 32,
   "metadata": {},
   "outputs": [],
   "source": [
    "error_analysis['source_sent'] = error_analysis['sentID'].apply(lambda x: dev.loc[x]['ar'])\n",
    "error_analysis['gold_sent'] = error_analysis['sentID'].apply(lambda x: dev.loc[x]['rom'])"
   ]
  },
  {
   "cell_type": "code",
   "execution_count": 25,
   "metadata": {},
   "outputs": [],
   "source": [
    "random_sample = error_analysis.sample(100)"
   ]
  },
  {
   "cell_type": "code",
   "execution_count": 26,
   "metadata": {},
   "outputs": [],
   "source": [
    "random_sample.to_clipboard()"
   ]
  },
  {
   "cell_type": "code",
   "execution_count": 33,
   "metadata": {},
   "outputs": [],
   "source": [
    "error_analysis[:100].to_clipboard()"
   ]
  },
  {
   "cell_type": "code",
   "execution_count": 34,
   "metadata": {},
   "outputs": [
    {
     "output_type": "execute_result",
     "data": {
      "text/plain": [
       "rom         ʻAlī al-ʻUraybī.\n",
       "ar              علي العريبي.\n",
       "rom_raw     ʻAlī al-ʻUraybī.\n",
       "ar_raw          علي العريبي.\n",
       "comb.tag                245c\n",
       "recID               umich-41\n",
       "subtag                     c\n",
       "tag                      245\n",
       "link                       4\n",
       "source                 umich\n",
       "splits                   dev\n",
       "Name: 227, dtype: object"
      ]
     },
     "metadata": {},
     "execution_count": 34
    }
   ],
   "source": [
    "dev.loc[227]"
   ]
  },
  {
   "cell_type": "code",
   "execution_count": 65,
   "metadata": {},
   "outputs": [],
   "source": [
    "extracted_lines = pd.read_csv(home.joinpath('data/extracted_lines/extracted_lines.tsv'),delimiter='\\t')"
   ]
  },
  {
   "cell_type": "code",
   "execution_count": 74,
   "metadata": {},
   "outputs": [],
   "source": [
    "extracted_lines[extracted_lines['recID']=='aco-1163'].to_clipboard()"
   ]
  },
  {
   "cell_type": "code",
   "execution_count": 75,
   "metadata": {},
   "outputs": [
    {
     "output_type": "execute_result",
     "data": {
      "text/plain": [
       "Empty DataFrame\n",
       "Columns: [rom, ar, rom_raw, ar_raw, comb.tag, recID, subtag, tag, link, source, splits]\n",
       "Index: []"
      ],
      "text/html": "<div>\n<style scoped>\n    .dataframe tbody tr th:only-of-type {\n        vertical-align: middle;\n    }\n\n    .dataframe tbody tr th {\n        vertical-align: top;\n    }\n\n    .dataframe thead th {\n        text-align: right;\n    }\n</style>\n<table border=\"1\" class=\"dataframe\">\n  <thead>\n    <tr style=\"text-align: right;\">\n      <th></th>\n      <th>rom</th>\n      <th>ar</th>\n      <th>rom_raw</th>\n      <th>ar_raw</th>\n      <th>comb.tag</th>\n      <th>recID</th>\n      <th>subtag</th>\n      <th>tag</th>\n      <th>link</th>\n      <th>source</th>\n      <th>splits</th>\n    </tr>\n    <tr>\n      <th>sentID</th>\n      <th></th>\n      <th></th>\n      <th></th>\n      <th></th>\n      <th></th>\n      <th></th>\n      <th></th>\n      <th></th>\n      <th></th>\n      <th></th>\n      <th></th>\n    </tr>\n  </thead>\n  <tbody>\n  </tbody>\n</table>\n</div>"
     },
     "metadata": {},
     "execution_count": 75
    }
   ],
   "source": [
    "dev[dev['recID']=='aco-1163']#.index"
   ]
  },
  {
   "cell_type": "code",
   "execution_count": 53,
   "metadata": {},
   "outputs": [
    {
     "output_type": "execute_result",
     "data": {
      "text/plain": [
       "                                                      rom  \\\n",
       "sentID                                                      \n",
       "191649                           Akwaʻ, Ismāʻīl ibn ʻAlī.   \n",
       "191652                  taʼlīf Ismāʻīl ibn ʻAlī al-Akwaʻ.   \n",
       "349612  li-Abī Nuʻaym al-Aṣbahānī ; taḥqīq wa-atakhrīj...   \n",
       "399097                          Akwaʻ, Muḥammad ibn ʻAlī.   \n",
       "399099                        Muḥammad ibn ʻAlī al-Akwaʻ.   \n",
       "399100  ʻAmīd Muḥammad ibn ʻAlī al-Akwaʻ -- yatadhakka...   \n",
       "440489          [jamʻ wa-iʻdād] Maḥmūd Muḥammad al-Nākūʻ.   \n",
       "\n",
       "                                                       ar  \\\n",
       "sentID                                                      \n",
       "191649                              أكوع، إسماعيل بن علي.   \n",
       "191652                       تأليف إسماعيل بن علي الأكوع.   \n",
       "349612  لأبي نعيم الأصبهاني ؛ تحقيق وتخريج طارق محمد س...   \n",
       "399097                                 أكوع، محمد بن علي.   \n",
       "399099                                محمد بن علي الأكوع.   \n",
       "399100  عميد محمد بن علي الأكوع ... يتذكر أحداث ثورة ١...   \n",
       "440489                   [جمع وإعداد] محمود محمد الناكوع.   \n",
       "\n",
       "                                                  rom_raw  \\\n",
       "sentID                                                      \n",
       "191649                        Akwaʻ, Ismāʻīl ibn ʻAlī.   \n",
       "191652              taʼlīf Ismāʻīl ibn ʻAlī al-Akwaʻ.   \n",
       "349612  li-Abī Nuʻaym al-Aṣbahānī ; taḥqīq wa-at...   \n",
       "399097                        Akwaʻ, Muḥammad ibn ʻAlī.   \n",
       "399099                      Muḥammad ibn ʻAlī al-Akwaʻ.   \n",
       "399100  ʻAmīd Muḥammad ibn ʻAlī al-Akwaʻ-- yatadhak...   \n",
       "440489    [jamʻ wa-iʻdād] Maḥmūd Muḥammad al-Nākūʻ.   \n",
       "\n",
       "                                                   ar_raw comb.tag      recID  \\\n",
       "sentID                                                                          \n",
       "191649                             ‏أكوع، إسماعيل بن علي.     100a  loc-16930   \n",
       "191652                      ‏تأليف إسماعيل بن علي الأكوع.     245c  loc-16930   \n",
       "349612  لأبي نعيم الأصبهاني ؛ تحقيق وتخريج طارق محمد س...     245c  loc-45036   \n",
       "399097                                ‏أكوع، محمد بن علي.     100a  loc-54336   \n",
       "399099                               ‏محمد بن علي الأكوع.     245c  loc-54336   \n",
       "399100  ‏عميد محمد بن علي الأكوع ... يتذكر أحداث ثورة ...     246a  loc-54336   \n",
       "440489                   [جمع وإعداد] محمود محمد الناكوع.     245c  loc-61607   \n",
       "\n",
       "       subtag  tag  link source splits  \n",
       "sentID                                  \n",
       "191649      a  100     0    loc    dev  \n",
       "191652      c  245     4    loc    dev  \n",
       "349612      c  245     4    loc    dev  \n",
       "399097      a  100     0    loc    dev  \n",
       "399099      c  245     4    loc    dev  \n",
       "399100      a  246     4    loc    dev  \n",
       "440489      c  245     4    loc    dev  "
      ],
      "text/html": "<div>\n<style scoped>\n    .dataframe tbody tr th:only-of-type {\n        vertical-align: middle;\n    }\n\n    .dataframe tbody tr th {\n        vertical-align: top;\n    }\n\n    .dataframe thead th {\n        text-align: right;\n    }\n</style>\n<table border=\"1\" class=\"dataframe\">\n  <thead>\n    <tr style=\"text-align: right;\">\n      <th></th>\n      <th>rom</th>\n      <th>ar</th>\n      <th>rom_raw</th>\n      <th>ar_raw</th>\n      <th>comb.tag</th>\n      <th>recID</th>\n      <th>subtag</th>\n      <th>tag</th>\n      <th>link</th>\n      <th>source</th>\n      <th>splits</th>\n    </tr>\n    <tr>\n      <th>sentID</th>\n      <th></th>\n      <th></th>\n      <th></th>\n      <th></th>\n      <th></th>\n      <th></th>\n      <th></th>\n      <th></th>\n      <th></th>\n      <th></th>\n      <th></th>\n    </tr>\n  </thead>\n  <tbody>\n    <tr>\n      <th>191649</th>\n      <td>Akwaʻ, Ismāʻīl ibn ʻAlī.</td>\n      <td>أكوع، إسماعيل بن علي.</td>\n      <td>Akwaʻ, Ismāʻīl ibn ʻAlī.</td>\n      <td>‏أكوع، إسماعيل بن علي.</td>\n      <td>100a</td>\n      <td>loc-16930</td>\n      <td>a</td>\n      <td>100</td>\n      <td>0</td>\n      <td>loc</td>\n      <td>dev</td>\n    </tr>\n    <tr>\n      <th>191652</th>\n      <td>taʼlīf Ismāʻīl ibn ʻAlī al-Akwaʻ.</td>\n      <td>تأليف إسماعيل بن علي الأكوع.</td>\n      <td>taʼlīf Ismāʻīl ibn ʻAlī al-Akwaʻ.</td>\n      <td>‏تأليف إسماعيل بن علي الأكوع.</td>\n      <td>245c</td>\n      <td>loc-16930</td>\n      <td>c</td>\n      <td>245</td>\n      <td>4</td>\n      <td>loc</td>\n      <td>dev</td>\n    </tr>\n    <tr>\n      <th>349612</th>\n      <td>li-Abī Nuʻaym al-Aṣbahānī ; taḥqīq wa-atakhrīj...</td>\n      <td>لأبي نعيم الأصبهاني ؛ تحقيق وتخريج طارق محمد س...</td>\n      <td>li-Abī Nuʻaym al-Aṣbahānī ; taḥqīq wa-at...</td>\n      <td>لأبي نعيم الأصبهاني ؛ تحقيق وتخريج طارق محمد س...</td>\n      <td>245c</td>\n      <td>loc-45036</td>\n      <td>c</td>\n      <td>245</td>\n      <td>4</td>\n      <td>loc</td>\n      <td>dev</td>\n    </tr>\n    <tr>\n      <th>399097</th>\n      <td>Akwaʻ, Muḥammad ibn ʻAlī.</td>\n      <td>أكوع، محمد بن علي.</td>\n      <td>Akwaʻ, Muḥammad ibn ʻAlī.</td>\n      <td>‏أكوع، محمد بن علي.</td>\n      <td>100a</td>\n      <td>loc-54336</td>\n      <td>a</td>\n      <td>100</td>\n      <td>0</td>\n      <td>loc</td>\n      <td>dev</td>\n    </tr>\n    <tr>\n      <th>399099</th>\n      <td>Muḥammad ibn ʻAlī al-Akwaʻ.</td>\n      <td>محمد بن علي الأكوع.</td>\n      <td>Muḥammad ibn ʻAlī al-Akwaʻ.</td>\n      <td>‏محمد بن علي الأكوع.</td>\n      <td>245c</td>\n      <td>loc-54336</td>\n      <td>c</td>\n      <td>245</td>\n      <td>4</td>\n      <td>loc</td>\n      <td>dev</td>\n    </tr>\n    <tr>\n      <th>399100</th>\n      <td>ʻAmīd Muḥammad ibn ʻAlī al-Akwaʻ -- yatadhakka...</td>\n      <td>عميد محمد بن علي الأكوع ... يتذكر أحداث ثورة ١...</td>\n      <td>ʻAmīd Muḥammad ibn ʻAlī al-Akwaʻ-- yatadhak...</td>\n      <td>‏عميد محمد بن علي الأكوع ... يتذكر أحداث ثورة ...</td>\n      <td>246a</td>\n      <td>loc-54336</td>\n      <td>a</td>\n      <td>246</td>\n      <td>4</td>\n      <td>loc</td>\n      <td>dev</td>\n    </tr>\n    <tr>\n      <th>440489</th>\n      <td>[jamʻ wa-iʻdād] Maḥmūd Muḥammad al-Nākūʻ.</td>\n      <td>[جمع وإعداد] محمود محمد الناكوع.</td>\n      <td>[jamʻ wa-iʻdād] Maḥmūd Muḥammad al-Nākūʻ.</td>\n      <td>[جمع وإعداد] محمود محمد الناكوع.</td>\n      <td>245c</td>\n      <td>loc-61607</td>\n      <td>c</td>\n      <td>245</td>\n      <td>4</td>\n      <td>loc</td>\n      <td>dev</td>\n    </tr>\n  </tbody>\n</table>\n</div>"
     },
     "metadata": {},
     "execution_count": 53
    }
   ],
   "source": [
    "dev[dev['ar'].apply(lambda x: 'كوع' in str(x))]"
   ]
  },
  {
   "cell_type": "code",
   "execution_count": 39,
   "metadata": {},
   "outputs": [
    {
     "output_type": "execute_result",
     "data": {
      "text/plain": [
       "    sentID comb.tag  gold_tok source_tok prediction_tok  aligned_source/gold  \\\n",
       "98     224     100a  ʻUraybī,        علي           ʻAlī                 True   \n",
       "99     224     100a     ʻAlī.   العريبي.    al-ʻUraybī.                 True   \n",
       "\n",
       "    aligned_source/prediction  aligned_gold/prediction  match  \\\n",
       "98                       True                     True  False   \n",
       "99                       True                     True  False   \n",
       "\n",
       "    match_ignore_case  match_ignore_case_punc  \\\n",
       "98              False                   False   \n",
       "99              False                   False   \n",
       "\n",
       "    match_ignore_case_punc_keep_hyphen  \n",
       "98                               False  \n",
       "99                               False  "
      ],
      "text/html": "<div>\n<style scoped>\n    .dataframe tbody tr th:only-of-type {\n        vertical-align: middle;\n    }\n\n    .dataframe tbody tr th {\n        vertical-align: top;\n    }\n\n    .dataframe thead th {\n        text-align: right;\n    }\n</style>\n<table border=\"1\" class=\"dataframe\">\n  <thead>\n    <tr style=\"text-align: right;\">\n      <th></th>\n      <th>sentID</th>\n      <th>comb.tag</th>\n      <th>gold_tok</th>\n      <th>source_tok</th>\n      <th>prediction_tok</th>\n      <th>aligned_source/gold</th>\n      <th>aligned_source/prediction</th>\n      <th>aligned_gold/prediction</th>\n      <th>match</th>\n      <th>match_ignore_case</th>\n      <th>match_ignore_case_punc</th>\n      <th>match_ignore_case_punc_keep_hyphen</th>\n    </tr>\n  </thead>\n  <tbody>\n    <tr>\n      <th>98</th>\n      <td>224</td>\n      <td>100a</td>\n      <td>ʻUraybī,</td>\n      <td>علي</td>\n      <td>ʻAlī</td>\n      <td>True</td>\n      <td>True</td>\n      <td>True</td>\n      <td>False</td>\n      <td>False</td>\n      <td>False</td>\n      <td>False</td>\n    </tr>\n    <tr>\n      <th>99</th>\n      <td>224</td>\n      <td>100a</td>\n      <td>ʻAlī.</td>\n      <td>العريبي.</td>\n      <td>al-ʻUraybī.</td>\n      <td>True</td>\n      <td>True</td>\n      <td>True</td>\n      <td>False</td>\n      <td>False</td>\n      <td>False</td>\n      <td>False</td>\n    </tr>\n  </tbody>\n</table>\n</div>"
     },
     "metadata": {},
     "execution_count": 39
    }
   ],
   "source": [
    "seq[seq['sentID']==224]"
   ]
  },
  {
   "cell_type": "code",
   "execution_count": 178,
   "metadata": {},
   "outputs": [],
   "source": [
    "predictions = pd.read_table(home.parents[1].joinpath('predictions_out/mle-backoff_translit_morph/dev/mle-translit_morph-size1.0.tsv'),header=None)"
   ]
  },
  {
   "cell_type": "code",
   "execution_count": 193,
   "metadata": {},
   "outputs": [
    {
     "output_type": "execute_result",
     "data": {
      "text/plain": [
       "'taʼlīf Abī Jaʻfar ibn Muḥammad ibn Ismāʻīl al-Naḥḥās ; dirāsah wa-taḥqīq Sulaymān ibn Ibrāhīm ibn ʻAbd Allāh al-Lāḥim.'"
      ]
     },
     "metadata": {},
     "execution_count": 193
    }
   ],
   "source": [
    "testpredict = predictions.loc[41][0]"
   ]
  },
  {
   "cell_type": "code",
   "execution_count": 197,
   "metadata": {},
   "outputs": [
    {
     "output_type": "execute_result",
     "data": {
      "text/plain": [
       "            0          1  2         3\n",
       "0      taʼlīf     taʼlīf  n         0\n",
       "1         Abī        Abī  n         0\n",
       "2      Jaʻfar     Jaʻfar  n         0\n",
       "3           _      Aḥmad  i         1\n",
       "4         ibn        ibn  n         1\n",
       "5    Muḥammad   Muḥammad  n         1\n",
       "6         ibn        ibn  n         1\n",
       "7     Ismāʻīl    Ismāʻīl  n         1\n",
       "8   al-Naḥḥās  al-Naḥḥās  n         1\n",
       "9           ;          ;  n         1\n",
       "10    dirāsah    dirāsat  e  1.285714\n",
       "11  wa-taḥqīq  wa-taḥqīq  n  1.285714\n",
       "12   Sulaymān   Sulaymān  n  1.285714\n",
       "13        ibn        ibn  n  1.285714\n",
       "14    Ibrāhīm    Ibrāhīm  n  1.285714\n",
       "15        ibn        ibn  n  1.285714\n",
       "16       ʻAbd       ʻAbd  n  1.285714\n",
       "17      Allāh      Allāh  n  1.285714\n",
       "18  al-Lāḥim.  al-Lāḥim.  n  1.285714"
      ],
      "text/html": "<div>\n<style scoped>\n    .dataframe tbody tr th:only-of-type {\n        vertical-align: middle;\n    }\n\n    .dataframe tbody tr th {\n        vertical-align: top;\n    }\n\n    .dataframe thead th {\n        text-align: right;\n    }\n</style>\n<table border=\"1\" class=\"dataframe\">\n  <thead>\n    <tr style=\"text-align: right;\">\n      <th></th>\n      <th>0</th>\n      <th>1</th>\n      <th>2</th>\n      <th>3</th>\n    </tr>\n  </thead>\n  <tbody>\n    <tr>\n      <th>0</th>\n      <td>taʼlīf</td>\n      <td>taʼlīf</td>\n      <td>n</td>\n      <td>0</td>\n    </tr>\n    <tr>\n      <th>1</th>\n      <td>Abī</td>\n      <td>Abī</td>\n      <td>n</td>\n      <td>0</td>\n    </tr>\n    <tr>\n      <th>2</th>\n      <td>Jaʻfar</td>\n      <td>Jaʻfar</td>\n      <td>n</td>\n      <td>0</td>\n    </tr>\n    <tr>\n      <th>3</th>\n      <td>_</td>\n      <td>Aḥmad</td>\n      <td>i</td>\n      <td>1</td>\n    </tr>\n    <tr>\n      <th>4</th>\n      <td>ibn</td>\n      <td>ibn</td>\n      <td>n</td>\n      <td>1</td>\n    </tr>\n    <tr>\n      <th>5</th>\n      <td>Muḥammad</td>\n      <td>Muḥammad</td>\n      <td>n</td>\n      <td>1</td>\n    </tr>\n    <tr>\n      <th>6</th>\n      <td>ibn</td>\n      <td>ibn</td>\n      <td>n</td>\n      <td>1</td>\n    </tr>\n    <tr>\n      <th>7</th>\n      <td>Ismāʻīl</td>\n      <td>Ismāʻīl</td>\n      <td>n</td>\n      <td>1</td>\n    </tr>\n    <tr>\n      <th>8</th>\n      <td>al-Naḥḥās</td>\n      <td>al-Naḥḥās</td>\n      <td>n</td>\n      <td>1</td>\n    </tr>\n    <tr>\n      <th>9</th>\n      <td>;</td>\n      <td>;</td>\n      <td>n</td>\n      <td>1</td>\n    </tr>\n    <tr>\n      <th>10</th>\n      <td>dirāsah</td>\n      <td>dirāsat</td>\n      <td>e</td>\n      <td>1.285714</td>\n    </tr>\n    <tr>\n      <th>11</th>\n      <td>wa-taḥqīq</td>\n      <td>wa-taḥqīq</td>\n      <td>n</td>\n      <td>1.285714</td>\n    </tr>\n    <tr>\n      <th>12</th>\n      <td>Sulaymān</td>\n      <td>Sulaymān</td>\n      <td>n</td>\n      <td>1.285714</td>\n    </tr>\n    <tr>\n      <th>13</th>\n      <td>ibn</td>\n      <td>ibn</td>\n      <td>n</td>\n      <td>1.285714</td>\n    </tr>\n    <tr>\n      <th>14</th>\n      <td>Ibrāhīm</td>\n      <td>Ibrāhīm</td>\n      <td>n</td>\n      <td>1.285714</td>\n    </tr>\n    <tr>\n      <th>15</th>\n      <td>ibn</td>\n      <td>ibn</td>\n      <td>n</td>\n      <td>1.285714</td>\n    </tr>\n    <tr>\n      <th>16</th>\n      <td>ʻAbd</td>\n      <td>ʻAbd</td>\n      <td>n</td>\n      <td>1.285714</td>\n    </tr>\n    <tr>\n      <th>17</th>\n      <td>Allāh</td>\n      <td>Allāh</td>\n      <td>n</td>\n      <td>1.285714</td>\n    </tr>\n    <tr>\n      <th>18</th>\n      <td>al-Lāḥim.</td>\n      <td>al-Lāḥim.</td>\n      <td>n</td>\n      <td>1.285714</td>\n    </tr>\n  </tbody>\n</table>\n</div>"
     },
     "metadata": {},
     "execution_count": 197
    }
   ],
   "source": [
    "alignment.align_wordsDF(predictions.loc[41][0],dev.loc[41]['rom'],bckf=False)"
   ]
  },
  {
   "cell_type": "code",
   "execution_count": 194,
   "metadata": {},
   "outputs": [
    {
     "output_type": "execute_result",
     "data": {
      "text/plain": [
       "163    تأليف أبي جعفر بن محمد بن إسماعيل النحاس ؛ درا...\n",
       "164    تأليف أبي جعفر بن محمد بن إسماعيل النحاس ؛ درا...\n",
       "165    تأليف أبي جعفر بن محمد بن إسماعيل النحاس ؛ درا...\n",
       "166    تأليف أبي جعفر بن محمد بن إسماعيل النحاس ؛ درا...\n",
       "167    تأليف أبي جعفر بن محمد بن إسماعيل النحاس ؛ درا...\n",
       "168    تأليف أبي جعفر بن محمد بن إسماعيل النحاس ؛ درا...\n",
       "169    تأليف أبي جعفر بن محمد بن إسماعيل النحاس ؛ درا...\n",
       "170    تأليف أبي جعفر بن محمد بن إسماعيل النحاس ؛ درا...\n",
       "171    تأليف أبي جعفر بن محمد بن إسماعيل النحاس ؛ درا...\n",
       "172    تأليف أبي جعفر بن محمد بن إسماعيل النحاس ؛ درا...\n",
       "173    تأليف أبي جعفر بن محمد بن إسماعيل النحاس ؛ درا...\n",
       "174    تأليف أبي جعفر بن محمد بن إسماعيل النحاس ؛ درا...\n",
       "175    تأليف أبي جعفر بن محمد بن إسماعيل النحاس ؛ درا...\n",
       "176    تأليف أبي جعفر بن محمد بن إسماعيل النحاس ؛ درا...\n",
       "177    تأليف أبي جعفر بن محمد بن إسماعيل النحاس ؛ درا...\n",
       "178    تأليف أبي جعفر بن محمد بن إسماعيل النحاس ؛ درا...\n",
       "Name: source_sent, dtype: object"
      ]
     },
     "metadata": {},
     "execution_count": 194
    }
   ],
   "source": [
    "error_analysis[error_analysis['sentID']==572]['source_sent'].drop_duplicates()"
   ]
  },
  {
   "cell_type": "code",
   "execution_count": 165,
   "metadata": {},
   "outputs": [
    {
     "output_type": "execute_result",
     "data": {
      "text/plain": [
       "      gold_tok source_tok  aligned_source/gold  \\\n",
       "160     taʼlīf      تأليف                False   \n",
       "161        Abī        أبي                False   \n",
       "162     Jaʻfar       جعفر                False   \n",
       "163      Aḥmad         بن                False   \n",
       "164        ibn       محمد                False   \n",
       "165   Muḥammad         بن                False   \n",
       "166        ibn    إسماعيل                False   \n",
       "167    Ismāʻīl     النحاس                False   \n",
       "168  al-Naḥḥās          ؛                False   \n",
       "169          ;      دراسة                False   \n",
       "170    dirāsat     وتحقيق                False   \n",
       "171  wa-taḥqīq     سليمان                False   \n",
       "172   Sulaymān         بن                False   \n",
       "173        ibn    ابراهيم                False   \n",
       "174    Ibrāhīm         بن                False   \n",
       "175        ibn        عبد                False   \n",
       "176       ʻAbd       الله                False   \n",
       "177      Allāh    اللاحم.                False   \n",
       "178  al-Lāḥim.        NaN                False   \n",
       "\n",
       "    predict_mle-translit_morph-size1.0_tok  sentID     recID comb.tag  \\\n",
       "160                                 taʼlīf     572  umich-71     245c   \n",
       "161                                    Abī     572  umich-71     245c   \n",
       "162                                 Jaʻfar     572  umich-71     245c   \n",
       "163                                    ibn     572  umich-71     245c   \n",
       "164                               Muḥammad     572  umich-71     245c   \n",
       "165                                    ibn     572  umich-71     245c   \n",
       "166                                Ismāʻīl     572  umich-71     245c   \n",
       "167                              al-Naḥḥās     572  umich-71     245c   \n",
       "168                                      ;     572  umich-71     245c   \n",
       "169                                dirāsah     572  umich-71     245c   \n",
       "170                              wa-taḥqīq     572  umich-71     245c   \n",
       "171                               Sulaymān     572  umich-71     245c   \n",
       "172                                    ibn     572  umich-71     245c   \n",
       "173                                Ibrāhīm     572  umich-71     245c   \n",
       "174                                    ibn     572  umich-71     245c   \n",
       "175                                   ʻAbd     572  umich-71     245c   \n",
       "176                                  Allāh     572  umich-71     245c   \n",
       "177                              al-Lāḥim.     572  umich-71     245c   \n",
       "178                                    NaN     572  umich-71     245c   \n",
       "\n",
       "     aligned_source/prediction  match  match_ignore_case  \n",
       "160                       True   True               True  \n",
       "161                       True   True               True  \n",
       "162                       True   True               True  \n",
       "163                       True  False              False  \n",
       "164                       True  False              False  \n",
       "165                       True  False              False  \n",
       "166                       True  False              False  \n",
       "167                       True  False              False  \n",
       "168                       True  False              False  \n",
       "169                       True  False              False  \n",
       "170                       True  False              False  \n",
       "171                       True  False              False  \n",
       "172                       True  False              False  \n",
       "173                       True  False              False  \n",
       "174                       True  False              False  \n",
       "175                       True  False              False  \n",
       "176                       True  False              False  \n",
       "177                       True  False              False  \n",
       "178                       True  False              False  "
      ],
      "text/html": "<div>\n<style scoped>\n    .dataframe tbody tr th:only-of-type {\n        vertical-align: middle;\n    }\n\n    .dataframe tbody tr th {\n        vertical-align: top;\n    }\n\n    .dataframe thead th {\n        text-align: right;\n    }\n</style>\n<table border=\"1\" class=\"dataframe\">\n  <thead>\n    <tr style=\"text-align: right;\">\n      <th></th>\n      <th>gold_tok</th>\n      <th>source_tok</th>\n      <th>aligned_source/gold</th>\n      <th>predict_mle-translit_morph-size1.0_tok</th>\n      <th>sentID</th>\n      <th>recID</th>\n      <th>comb.tag</th>\n      <th>aligned_source/prediction</th>\n      <th>match</th>\n      <th>match_ignore_case</th>\n    </tr>\n  </thead>\n  <tbody>\n    <tr>\n      <th>160</th>\n      <td>taʼlīf</td>\n      <td>تأليف</td>\n      <td>False</td>\n      <td>taʼlīf</td>\n      <td>572</td>\n      <td>umich-71</td>\n      <td>245c</td>\n      <td>True</td>\n      <td>True</td>\n      <td>True</td>\n    </tr>\n    <tr>\n      <th>161</th>\n      <td>Abī</td>\n      <td>أبي</td>\n      <td>False</td>\n      <td>Abī</td>\n      <td>572</td>\n      <td>umich-71</td>\n      <td>245c</td>\n      <td>True</td>\n      <td>True</td>\n      <td>True</td>\n    </tr>\n    <tr>\n      <th>162</th>\n      <td>Jaʻfar</td>\n      <td>جعفر</td>\n      <td>False</td>\n      <td>Jaʻfar</td>\n      <td>572</td>\n      <td>umich-71</td>\n      <td>245c</td>\n      <td>True</td>\n      <td>True</td>\n      <td>True</td>\n    </tr>\n    <tr>\n      <th>163</th>\n      <td>Aḥmad</td>\n      <td>بن</td>\n      <td>False</td>\n      <td>ibn</td>\n      <td>572</td>\n      <td>umich-71</td>\n      <td>245c</td>\n      <td>True</td>\n      <td>False</td>\n      <td>False</td>\n    </tr>\n    <tr>\n      <th>164</th>\n      <td>ibn</td>\n      <td>محمد</td>\n      <td>False</td>\n      <td>Muḥammad</td>\n      <td>572</td>\n      <td>umich-71</td>\n      <td>245c</td>\n      <td>True</td>\n      <td>False</td>\n      <td>False</td>\n    </tr>\n    <tr>\n      <th>165</th>\n      <td>Muḥammad</td>\n      <td>بن</td>\n      <td>False</td>\n      <td>ibn</td>\n      <td>572</td>\n      <td>umich-71</td>\n      <td>245c</td>\n      <td>True</td>\n      <td>False</td>\n      <td>False</td>\n    </tr>\n    <tr>\n      <th>166</th>\n      <td>ibn</td>\n      <td>إسماعيل</td>\n      <td>False</td>\n      <td>Ismāʻīl</td>\n      <td>572</td>\n      <td>umich-71</td>\n      <td>245c</td>\n      <td>True</td>\n      <td>False</td>\n      <td>False</td>\n    </tr>\n    <tr>\n      <th>167</th>\n      <td>Ismāʻīl</td>\n      <td>النحاس</td>\n      <td>False</td>\n      <td>al-Naḥḥās</td>\n      <td>572</td>\n      <td>umich-71</td>\n      <td>245c</td>\n      <td>True</td>\n      <td>False</td>\n      <td>False</td>\n    </tr>\n    <tr>\n      <th>168</th>\n      <td>al-Naḥḥās</td>\n      <td>؛</td>\n      <td>False</td>\n      <td>;</td>\n      <td>572</td>\n      <td>umich-71</td>\n      <td>245c</td>\n      <td>True</td>\n      <td>False</td>\n      <td>False</td>\n    </tr>\n    <tr>\n      <th>169</th>\n      <td>;</td>\n      <td>دراسة</td>\n      <td>False</td>\n      <td>dirāsah</td>\n      <td>572</td>\n      <td>umich-71</td>\n      <td>245c</td>\n      <td>True</td>\n      <td>False</td>\n      <td>False</td>\n    </tr>\n    <tr>\n      <th>170</th>\n      <td>dirāsat</td>\n      <td>وتحقيق</td>\n      <td>False</td>\n      <td>wa-taḥqīq</td>\n      <td>572</td>\n      <td>umich-71</td>\n      <td>245c</td>\n      <td>True</td>\n      <td>False</td>\n      <td>False</td>\n    </tr>\n    <tr>\n      <th>171</th>\n      <td>wa-taḥqīq</td>\n      <td>سليمان</td>\n      <td>False</td>\n      <td>Sulaymān</td>\n      <td>572</td>\n      <td>umich-71</td>\n      <td>245c</td>\n      <td>True</td>\n      <td>False</td>\n      <td>False</td>\n    </tr>\n    <tr>\n      <th>172</th>\n      <td>Sulaymān</td>\n      <td>بن</td>\n      <td>False</td>\n      <td>ibn</td>\n      <td>572</td>\n      <td>umich-71</td>\n      <td>245c</td>\n      <td>True</td>\n      <td>False</td>\n      <td>False</td>\n    </tr>\n    <tr>\n      <th>173</th>\n      <td>ibn</td>\n      <td>ابراهيم</td>\n      <td>False</td>\n      <td>Ibrāhīm</td>\n      <td>572</td>\n      <td>umich-71</td>\n      <td>245c</td>\n      <td>True</td>\n      <td>False</td>\n      <td>False</td>\n    </tr>\n    <tr>\n      <th>174</th>\n      <td>Ibrāhīm</td>\n      <td>بن</td>\n      <td>False</td>\n      <td>ibn</td>\n      <td>572</td>\n      <td>umich-71</td>\n      <td>245c</td>\n      <td>True</td>\n      <td>False</td>\n      <td>False</td>\n    </tr>\n    <tr>\n      <th>175</th>\n      <td>ibn</td>\n      <td>عبد</td>\n      <td>False</td>\n      <td>ʻAbd</td>\n      <td>572</td>\n      <td>umich-71</td>\n      <td>245c</td>\n      <td>True</td>\n      <td>False</td>\n      <td>False</td>\n    </tr>\n    <tr>\n      <th>176</th>\n      <td>ʻAbd</td>\n      <td>الله</td>\n      <td>False</td>\n      <td>Allāh</td>\n      <td>572</td>\n      <td>umich-71</td>\n      <td>245c</td>\n      <td>True</td>\n      <td>False</td>\n      <td>False</td>\n    </tr>\n    <tr>\n      <th>177</th>\n      <td>Allāh</td>\n      <td>اللاحم.</td>\n      <td>False</td>\n      <td>al-Lāḥim.</td>\n      <td>572</td>\n      <td>umich-71</td>\n      <td>245c</td>\n      <td>True</td>\n      <td>False</td>\n      <td>False</td>\n    </tr>\n    <tr>\n      <th>178</th>\n      <td>al-Lāḥim.</td>\n      <td>NaN</td>\n      <td>False</td>\n      <td>NaN</td>\n      <td>572</td>\n      <td>umich-71</td>\n      <td>245c</td>\n      <td>True</td>\n      <td>False</td>\n      <td>False</td>\n    </tr>\n  </tbody>\n</table>\n</div>"
     },
     "metadata": {},
     "execution_count": 165
    }
   ],
   "source": [
    "testeval = mlemorph[mlemorph['sentID']==572]\n",
    "testeval"
   ]
  },
  {
   "cell_type": "code",
   "execution_count": 198,
   "metadata": {},
   "outputs": [
    {
     "output_type": "execute_result",
     "data": {
      "text/plain": [
       "           gold_tok source_tok  aligned_source/gold  \\\n",
       "6             Yūlyū     يوليوا                 True   \n",
       "15          wazārāt     وزارات                 True   \n",
       "16   al-muwaẓaffīn,  الموظفين،                 True   \n",
       "29        thalāthah      ثلاثة                 True   \n",
       "31            Yūlyū     يوليوا                 True   \n",
       "..              ...        ...                  ...   \n",
       "454         Ibrāhīm       محمد                 True   \n",
       "455       Muḥammad.    سلقيني.                 True   \n",
       "472         Jabbūr,     جبرايل                 True   \n",
       "473        Jibrāʼīl     سليمان                 True   \n",
       "474       Sulaymān.      جبور.                 True   \n",
       "\n",
       "    predict_mle-translit_morph-size1.0_tok  sentID      recID comb.tag  \\\n",
       "6                                   Ywlywā       1    umich-1     245a   \n",
       "15                                 wizārāt       2    umich-1     245b   \n",
       "16                          al-muwaẓẓafīn,       2    umich-1     245b   \n",
       "29                               thalāthat       4    umich-1     246a   \n",
       "31                                  Ywlywā       4    umich-1     246a   \n",
       "..                                     ...     ...        ...      ...   \n",
       "454                               Muḥammad    1690  umich-201     100a   \n",
       "455                               Salqīnī.    1690  umich-201     100a   \n",
       "472                                 Jbrāyl    1770  umich-211     100a   \n",
       "473                               Sulaymān    1770  umich-211     100a   \n",
       "474                                Jabbūr.    1770  umich-211     100a   \n",
       "\n",
       "     aligned_source/prediction  match  match_ignore_case  \\\n",
       "6                         True  False              False   \n",
       "15                        True  False              False   \n",
       "16                        True  False              False   \n",
       "29                        True  False              False   \n",
       "31                        True  False              False   \n",
       "..                         ...    ...                ...   \n",
       "454                       True  False              False   \n",
       "455                       True  False              False   \n",
       "472                       True  False              False   \n",
       "473                       True  False              False   \n",
       "474                       True  False              False   \n",
       "\n",
       "                                           source_sent  \\\n",
       "6                     مقدمات ثورة 23 يوليوا سنة 1952 :   \n",
       "15   الكفاح في القتال، حريق القاهرة، وزارات الموظفي...   \n",
       "16   الكفاح في القتال، حريق القاهرة، وزارات الموظفي...   \n",
       "29            مقدمات ثورة ثلاثة وعشرين يوليوا سنة 1952   \n",
       "31            مقدمات ثورة ثلاثة وعشرين يوليوا سنة 1952   \n",
       "..                                                 ...   \n",
       "454                               إبراهيم محمد سلقيني.   \n",
       "455                               إبراهيم محمد سلقيني.   \n",
       "472                                جبرايل سليمان جبور.   \n",
       "473                                جبرايل سليمان جبور.   \n",
       "474                                جبرايل سليمان جبور.   \n",
       "\n",
       "                                             gold_sent  \n",
       "6             Muqaddimāt thawrat 23 Yūlyū sanat 1952 :  \n",
       "15   al-kifāḥ fī al-qitāl, ḥarīq al-Qāhirah, wazārā...  \n",
       "16   al-kifāḥ fī al-qitāl, ḥarīq al-Qāhirah, wazārā...  \n",
       "29   Muqaddimāt thawrat thalāthah wa-ʻishrīn Yūlyū ...  \n",
       "31   Muqaddimāt thawrat thalāthah wa-ʻishrīn Yūlyū ...  \n",
       "..                                                 ...  \n",
       "454                         Salqīnī, Ibrāhīm Muḥammad.  \n",
       "455                         Salqīnī, Ibrāhīm Muḥammad.  \n",
       "472                         Jabbūr, Jibrāʼīl Sulaymān.  \n",
       "473                         Jabbūr, Jibrāʼīl Sulaymān.  \n",
       "474                         Jabbūr, Jibrāʼīl Sulaymān.  \n",
       "\n",
       "[120 rows x 12 columns]"
      ],
      "text/html": "<div>\n<style scoped>\n    .dataframe tbody tr th:only-of-type {\n        vertical-align: middle;\n    }\n\n    .dataframe tbody tr th {\n        vertical-align: top;\n    }\n\n    .dataframe thead th {\n        text-align: right;\n    }\n</style>\n<table border=\"1\" class=\"dataframe\">\n  <thead>\n    <tr style=\"text-align: right;\">\n      <th></th>\n      <th>gold_tok</th>\n      <th>source_tok</th>\n      <th>aligned_source/gold</th>\n      <th>predict_mle-translit_morph-size1.0_tok</th>\n      <th>sentID</th>\n      <th>recID</th>\n      <th>comb.tag</th>\n      <th>aligned_source/prediction</th>\n      <th>match</th>\n      <th>match_ignore_case</th>\n      <th>source_sent</th>\n      <th>gold_sent</th>\n    </tr>\n  </thead>\n  <tbody>\n    <tr>\n      <th>6</th>\n      <td>Yūlyū</td>\n      <td>يوليوا</td>\n      <td>True</td>\n      <td>Ywlywā</td>\n      <td>1</td>\n      <td>umich-1</td>\n      <td>245a</td>\n      <td>True</td>\n      <td>False</td>\n      <td>False</td>\n      <td>مقدمات ثورة 23 يوليوا سنة 1952 :</td>\n      <td>Muqaddimāt thawrat 23 Yūlyū sanat 1952 :</td>\n    </tr>\n    <tr>\n      <th>15</th>\n      <td>wazārāt</td>\n      <td>وزارات</td>\n      <td>True</td>\n      <td>wizārāt</td>\n      <td>2</td>\n      <td>umich-1</td>\n      <td>245b</td>\n      <td>True</td>\n      <td>False</td>\n      <td>False</td>\n      <td>الكفاح في القتال، حريق القاهرة، وزارات الموظفي...</td>\n      <td>al-kifāḥ fī al-qitāl, ḥarīq al-Qāhirah, wazārā...</td>\n    </tr>\n    <tr>\n      <th>16</th>\n      <td>al-muwaẓaffīn,</td>\n      <td>الموظفين،</td>\n      <td>True</td>\n      <td>al-muwaẓẓafīn,</td>\n      <td>2</td>\n      <td>umich-1</td>\n      <td>245b</td>\n      <td>True</td>\n      <td>False</td>\n      <td>False</td>\n      <td>الكفاح في القتال، حريق القاهرة، وزارات الموظفي...</td>\n      <td>al-kifāḥ fī al-qitāl, ḥarīq al-Qāhirah, wazārā...</td>\n    </tr>\n    <tr>\n      <th>29</th>\n      <td>thalāthah</td>\n      <td>ثلاثة</td>\n      <td>True</td>\n      <td>thalāthat</td>\n      <td>4</td>\n      <td>umich-1</td>\n      <td>246a</td>\n      <td>True</td>\n      <td>False</td>\n      <td>False</td>\n      <td>مقدمات ثورة ثلاثة وعشرين يوليوا سنة 1952</td>\n      <td>Muqaddimāt thawrat thalāthah wa-ʻishrīn Yūlyū ...</td>\n    </tr>\n    <tr>\n      <th>31</th>\n      <td>Yūlyū</td>\n      <td>يوليوا</td>\n      <td>True</td>\n      <td>Ywlywā</td>\n      <td>4</td>\n      <td>umich-1</td>\n      <td>246a</td>\n      <td>True</td>\n      <td>False</td>\n      <td>False</td>\n      <td>مقدمات ثورة ثلاثة وعشرين يوليوا سنة 1952</td>\n      <td>Muqaddimāt thawrat thalāthah wa-ʻishrīn Yūlyū ...</td>\n    </tr>\n    <tr>\n      <th>...</th>\n      <td>...</td>\n      <td>...</td>\n      <td>...</td>\n      <td>...</td>\n      <td>...</td>\n      <td>...</td>\n      <td>...</td>\n      <td>...</td>\n      <td>...</td>\n      <td>...</td>\n      <td>...</td>\n      <td>...</td>\n    </tr>\n    <tr>\n      <th>454</th>\n      <td>Ibrāhīm</td>\n      <td>محمد</td>\n      <td>True</td>\n      <td>Muḥammad</td>\n      <td>1690</td>\n      <td>umich-201</td>\n      <td>100a</td>\n      <td>True</td>\n      <td>False</td>\n      <td>False</td>\n      <td>إبراهيم محمد سلقيني.</td>\n      <td>Salqīnī, Ibrāhīm Muḥammad.</td>\n    </tr>\n    <tr>\n      <th>455</th>\n      <td>Muḥammad.</td>\n      <td>سلقيني.</td>\n      <td>True</td>\n      <td>Salqīnī.</td>\n      <td>1690</td>\n      <td>umich-201</td>\n      <td>100a</td>\n      <td>True</td>\n      <td>False</td>\n      <td>False</td>\n      <td>إبراهيم محمد سلقيني.</td>\n      <td>Salqīnī, Ibrāhīm Muḥammad.</td>\n    </tr>\n    <tr>\n      <th>472</th>\n      <td>Jabbūr,</td>\n      <td>جبرايل</td>\n      <td>True</td>\n      <td>Jbrāyl</td>\n      <td>1770</td>\n      <td>umich-211</td>\n      <td>100a</td>\n      <td>True</td>\n      <td>False</td>\n      <td>False</td>\n      <td>جبرايل سليمان جبور.</td>\n      <td>Jabbūr, Jibrāʼīl Sulaymān.</td>\n    </tr>\n    <tr>\n      <th>473</th>\n      <td>Jibrāʼīl</td>\n      <td>سليمان</td>\n      <td>True</td>\n      <td>Sulaymān</td>\n      <td>1770</td>\n      <td>umich-211</td>\n      <td>100a</td>\n      <td>True</td>\n      <td>False</td>\n      <td>False</td>\n      <td>جبرايل سليمان جبور.</td>\n      <td>Jabbūr, Jibrāʼīl Sulaymān.</td>\n    </tr>\n    <tr>\n      <th>474</th>\n      <td>Sulaymān.</td>\n      <td>جبور.</td>\n      <td>True</td>\n      <td>Jabbūr.</td>\n      <td>1770</td>\n      <td>umich-211</td>\n      <td>100a</td>\n      <td>True</td>\n      <td>False</td>\n      <td>False</td>\n      <td>جبرايل سليمان جبور.</td>\n      <td>Jabbūr, Jibrāʼīl Sulaymān.</td>\n    </tr>\n  </tbody>\n</table>\n<p>120 rows × 12 columns</p>\n</div>"
     },
     "metadata": {},
     "execution_count": 198
    }
   ],
   "source": [
    "error_analysis"
   ]
  },
  {
   "cell_type": "code",
   "execution_count": 304,
   "metadata": {},
   "outputs": [],
   "source": []
  },
  {
   "cell_type": "code",
   "execution_count": 305,
   "metadata": {},
   "outputs": [
    {
     "output_type": "execute_result",
     "data": {
      "text/plain": [
       "['-baba', '-latguuls']"
      ]
     },
     "metadata": {},
     "execution_count": 305
    }
   ],
   "source": [
    "score_invariable_order('ya mama guli lisalaam','ya baba latguuls lisalaam')"
   ]
  },
  {
   "cell_type": "code",
   "execution_count": 282,
   "metadata": {},
   "outputs": [
    {
     "output_type": "error",
     "ename": "SyntaxError",
     "evalue": "invalid syntax (<ipython-input-282-969f8b478aa1>, line 1)",
     "traceback": [
      "\u001b[0;36m  File \u001b[0;32m\"<ipython-input-282-969f8b478aa1>\"\u001b[0;36m, line \u001b[0;32m1\u001b[0m\n\u001b[0;31m    abd abd true\u001b[0m\n\u001b[0m          ^\u001b[0m\n\u001b[0;31mSyntaxError\u001b[0m\u001b[0;31m:\u001b[0m invalid syntax\n"
     ]
    }
   ],
   "source": [
    "abd ini true\n",
    "hij ini true\n",
    "ini lmo true\n",
    "ini hij true"
   ]
  },
  {
   "cell_type": "code",
   "execution_count": 283,
   "metadata": {},
   "outputs": [
    {
     "output_type": "execute_result",
     "data": {
      "text/plain": [
       "1.0"
      ]
     },
     "metadata": {},
     "execution_count": 283
    }
   ],
   "source": [
    "3/4"
   ]
  },
  {
   "cell_type": "code",
   "execution_count": null,
   "metadata": {},
   "outputs": [],
   "source": []
  }
 ]
}