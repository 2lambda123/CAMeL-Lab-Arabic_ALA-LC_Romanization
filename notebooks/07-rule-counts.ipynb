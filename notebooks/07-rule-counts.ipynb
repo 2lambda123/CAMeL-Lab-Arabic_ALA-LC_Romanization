{
 "metadata": {
  "language_info": {
   "codemirror_mode": {
    "name": "ipython",
    "version": 3
   },
   "file_extension": ".py",
   "mimetype": "text/x-python",
   "name": "python",
   "nbconvert_exporter": "python",
   "pygments_lexer": "ipython3",
   "version": "3.7.9-final"
  },
  "orig_nbformat": 2,
  "kernelspec": {
   "name": "python3",
   "display_name": "Python 3",
   "language": "python"
  }
 },
 "nbformat": 4,
 "nbformat_minor": 2,
 "cells": [
  {
   "cell_type": "code",
   "execution_count": 1,
   "metadata": {},
   "outputs": [],
   "source": [
    "import pandas as pd\n",
    "from pathlib import Path"
   ]
  },
  {
   "cell_type": "code",
   "execution_count": 2,
   "metadata": {},
   "outputs": [],
   "source": [
    "home = Path(os.getcwd()).parent\n",
    "rules = pd.read_csv(f'{home}/reports/translit_rules_freq-dev_morph.tsv',delimiter='\\t')"
   ]
  },
  {
   "cell_type": "code",
   "execution_count": 7,
   "metadata": {},
   "outputs": [],
   "source": [
    "clean = rules[rules['from']!='NOMAP']"
   ]
  },
  {
   "cell_type": "code",
   "execution_count": 15,
   "metadata": {},
   "outputs": [],
   "source": [
    "clean['dups'] = clean['from'].duplicated()"
   ]
  },
  {
   "cell_type": "code",
   "execution_count": 22,
   "metadata": {},
   "outputs": [
    {
     "output_type": "execute_result",
     "data": {
      "text/plain": [
       "True"
      ]
     },
     "metadata": {},
     "execution_count": 22
    }
   ],
   "source": [
    "set(clean[clean['dups']]['from'])=={'ّ'} # dups are all shadda"
   ]
  },
  {
   "cell_type": "code",
   "execution_count": 25,
   "metadata": {},
   "outputs": [],
   "source": [
    "nomap = rules[rules['from']=='NOMAP']"
   ]
  },
  {
   "cell_type": "code",
   "execution_count": 27,
   "metadata": {},
   "outputs": [
    {
     "output_type": "execute_result",
     "data": {
      "text/plain": [
       "      from          to    freq\n",
       "4    NOMAP           -  103170\n",
       "19   NOMAP           .   30912\n",
       "37   NOMAP           /    9970\n",
       "42   NOMAP           :    7548\n",
       "49   NOMAP           1    5154\n",
       "67   NOMAP           ]    1064\n",
       "70   NOMAP           [     980\n",
       "80   NOMAP           ,     455\n",
       "81   NOMAP           )     446\n",
       "91   NOMAP           \"     276\n",
       "95   NOMAP           2     241\n",
       "96   NOMAP           (     231\n",
       "102  NOMAP           n     206\n",
       "103  NOMAP           s     206\n",
       "108  NOMAP          et     168\n",
       "111  NOMAP          al     155\n",
       "114  NOMAP           =     123\n",
       "115  NOMAP          --     122\n",
       "117  NOMAP           ک      76\n",
       "118  NOMAP       Cairo      71\n",
       "119  NOMAP           !      70\n",
       "121  NOMAP           3      61\n",
       "122  NOMAP           ?      60\n",
       "123  NOMAP          of      57\n",
       "124  NOMAP           ;      55\n",
       "126  NOMAP         the      49\n",
       "127  NOMAP         and      42\n",
       "130  NOMAP         not      34\n",
       "131  NOMAP  identified      33\n",
       "133  NOMAP           4      33\n",
       "135  NOMAP   publisher      32\n",
       "136  NOMAP           ھ      32\n",
       "137  NOMAP           5      29\n",
       "138  NOMAP          de      29\n",
       "139  NOMAP           ٳ      29\n",
       "142  NOMAP          in      23\n",
       "143  NOMAP         The      22\n",
       "144  NOMAP          At      21\n",
       "145  NOMAP       title      21\n",
       "146  NOMAP          25      21\n",
       "149  NOMAP        head      20\n",
       "150  NOMAP       Rabat      19\n",
       "151  NOMAP    Khartoum      18\n",
       "152  NOMAP           6      18\n",
       "153  NOMAP           e      17\n",
       "154  NOMAP        2010      16\n",
       "155  NOMAP        2005      15\n",
       "156  NOMAP          by      15\n",
       "157  NOMAP        2007      15\n",
       "158  NOMAP        2008      15\n",
       "159  NOMAP          11      14\n",
       "160  NOMAP           ʼ      14\n",
       "161  NOMAP           7      14\n",
       "162  NOMAP        2006      14\n",
       "164  NOMAP       Tunis      13\n",
       "165  NOMAP        1999      12\n",
       "166  NOMAP       Egypt      12\n",
       "167  NOMAP           i      12\n",
       "168  NOMAP           a      12\n",
       "169  NOMAP           &      11"
      ],
      "text/html": "<div>\n<style scoped>\n    .dataframe tbody tr th:only-of-type {\n        vertical-align: middle;\n    }\n\n    .dataframe tbody tr th {\n        vertical-align: top;\n    }\n\n    .dataframe thead th {\n        text-align: right;\n    }\n</style>\n<table border=\"1\" class=\"dataframe\">\n  <thead>\n    <tr style=\"text-align: right;\">\n      <th></th>\n      <th>from</th>\n      <th>to</th>\n      <th>freq</th>\n    </tr>\n  </thead>\n  <tbody>\n    <tr>\n      <th>4</th>\n      <td>NOMAP</td>\n      <td>-</td>\n      <td>103170</td>\n    </tr>\n    <tr>\n      <th>19</th>\n      <td>NOMAP</td>\n      <td>.</td>\n      <td>30912</td>\n    </tr>\n    <tr>\n      <th>37</th>\n      <td>NOMAP</td>\n      <td>/</td>\n      <td>9970</td>\n    </tr>\n    <tr>\n      <th>42</th>\n      <td>NOMAP</td>\n      <td>:</td>\n      <td>7548</td>\n    </tr>\n    <tr>\n      <th>49</th>\n      <td>NOMAP</td>\n      <td>1</td>\n      <td>5154</td>\n    </tr>\n    <tr>\n      <th>67</th>\n      <td>NOMAP</td>\n      <td>]</td>\n      <td>1064</td>\n    </tr>\n    <tr>\n      <th>70</th>\n      <td>NOMAP</td>\n      <td>[</td>\n      <td>980</td>\n    </tr>\n    <tr>\n      <th>80</th>\n      <td>NOMAP</td>\n      <td>,</td>\n      <td>455</td>\n    </tr>\n    <tr>\n      <th>81</th>\n      <td>NOMAP</td>\n      <td>)</td>\n      <td>446</td>\n    </tr>\n    <tr>\n      <th>91</th>\n      <td>NOMAP</td>\n      <td>\"</td>\n      <td>276</td>\n    </tr>\n    <tr>\n      <th>95</th>\n      <td>NOMAP</td>\n      <td>2</td>\n      <td>241</td>\n    </tr>\n    <tr>\n      <th>96</th>\n      <td>NOMAP</td>\n      <td>(</td>\n      <td>231</td>\n    </tr>\n    <tr>\n      <th>102</th>\n      <td>NOMAP</td>\n      <td>n</td>\n      <td>206</td>\n    </tr>\n    <tr>\n      <th>103</th>\n      <td>NOMAP</td>\n      <td>s</td>\n      <td>206</td>\n    </tr>\n    <tr>\n      <th>108</th>\n      <td>NOMAP</td>\n      <td>et</td>\n      <td>168</td>\n    </tr>\n    <tr>\n      <th>111</th>\n      <td>NOMAP</td>\n      <td>al</td>\n      <td>155</td>\n    </tr>\n    <tr>\n      <th>114</th>\n      <td>NOMAP</td>\n      <td>=</td>\n      <td>123</td>\n    </tr>\n    <tr>\n      <th>115</th>\n      <td>NOMAP</td>\n      <td>--</td>\n      <td>122</td>\n    </tr>\n    <tr>\n      <th>117</th>\n      <td>NOMAP</td>\n      <td>ک</td>\n      <td>76</td>\n    </tr>\n    <tr>\n      <th>118</th>\n      <td>NOMAP</td>\n      <td>Cairo</td>\n      <td>71</td>\n    </tr>\n    <tr>\n      <th>119</th>\n      <td>NOMAP</td>\n      <td>!</td>\n      <td>70</td>\n    </tr>\n    <tr>\n      <th>121</th>\n      <td>NOMAP</td>\n      <td>3</td>\n      <td>61</td>\n    </tr>\n    <tr>\n      <th>122</th>\n      <td>NOMAP</td>\n      <td>?</td>\n      <td>60</td>\n    </tr>\n    <tr>\n      <th>123</th>\n      <td>NOMAP</td>\n      <td>of</td>\n      <td>57</td>\n    </tr>\n    <tr>\n      <th>124</th>\n      <td>NOMAP</td>\n      <td>;</td>\n      <td>55</td>\n    </tr>\n    <tr>\n      <th>126</th>\n      <td>NOMAP</td>\n      <td>the</td>\n      <td>49</td>\n    </tr>\n    <tr>\n      <th>127</th>\n      <td>NOMAP</td>\n      <td>and</td>\n      <td>42</td>\n    </tr>\n    <tr>\n      <th>130</th>\n      <td>NOMAP</td>\n      <td>not</td>\n      <td>34</td>\n    </tr>\n    <tr>\n      <th>131</th>\n      <td>NOMAP</td>\n      <td>identified</td>\n      <td>33</td>\n    </tr>\n    <tr>\n      <th>133</th>\n      <td>NOMAP</td>\n      <td>4</td>\n      <td>33</td>\n    </tr>\n    <tr>\n      <th>135</th>\n      <td>NOMAP</td>\n      <td>publisher</td>\n      <td>32</td>\n    </tr>\n    <tr>\n      <th>136</th>\n      <td>NOMAP</td>\n      <td>ھ</td>\n      <td>32</td>\n    </tr>\n    <tr>\n      <th>137</th>\n      <td>NOMAP</td>\n      <td>5</td>\n      <td>29</td>\n    </tr>\n    <tr>\n      <th>138</th>\n      <td>NOMAP</td>\n      <td>de</td>\n      <td>29</td>\n    </tr>\n    <tr>\n      <th>139</th>\n      <td>NOMAP</td>\n      <td>ٳ</td>\n      <td>29</td>\n    </tr>\n    <tr>\n      <th>142</th>\n      <td>NOMAP</td>\n      <td>in</td>\n      <td>23</td>\n    </tr>\n    <tr>\n      <th>143</th>\n      <td>NOMAP</td>\n      <td>The</td>\n      <td>22</td>\n    </tr>\n    <tr>\n      <th>144</th>\n      <td>NOMAP</td>\n      <td>At</td>\n      <td>21</td>\n    </tr>\n    <tr>\n      <th>145</th>\n      <td>NOMAP</td>\n      <td>title</td>\n      <td>21</td>\n    </tr>\n    <tr>\n      <th>146</th>\n      <td>NOMAP</td>\n      <td>25</td>\n      <td>21</td>\n    </tr>\n    <tr>\n      <th>149</th>\n      <td>NOMAP</td>\n      <td>head</td>\n      <td>20</td>\n    </tr>\n    <tr>\n      <th>150</th>\n      <td>NOMAP</td>\n      <td>Rabat</td>\n      <td>19</td>\n    </tr>\n    <tr>\n      <th>151</th>\n      <td>NOMAP</td>\n      <td>Khartoum</td>\n      <td>18</td>\n    </tr>\n    <tr>\n      <th>152</th>\n      <td>NOMAP</td>\n      <td>6</td>\n      <td>18</td>\n    </tr>\n    <tr>\n      <th>153</th>\n      <td>NOMAP</td>\n      <td>e</td>\n      <td>17</td>\n    </tr>\n    <tr>\n      <th>154</th>\n      <td>NOMAP</td>\n      <td>2010</td>\n      <td>16</td>\n    </tr>\n    <tr>\n      <th>155</th>\n      <td>NOMAP</td>\n      <td>2005</td>\n      <td>15</td>\n    </tr>\n    <tr>\n      <th>156</th>\n      <td>NOMAP</td>\n      <td>by</td>\n      <td>15</td>\n    </tr>\n    <tr>\n      <th>157</th>\n      <td>NOMAP</td>\n      <td>2007</td>\n      <td>15</td>\n    </tr>\n    <tr>\n      <th>158</th>\n      <td>NOMAP</td>\n      <td>2008</td>\n      <td>15</td>\n    </tr>\n    <tr>\n      <th>159</th>\n      <td>NOMAP</td>\n      <td>11</td>\n      <td>14</td>\n    </tr>\n    <tr>\n      <th>160</th>\n      <td>NOMAP</td>\n      <td>ʼ</td>\n      <td>14</td>\n    </tr>\n    <tr>\n      <th>161</th>\n      <td>NOMAP</td>\n      <td>7</td>\n      <td>14</td>\n    </tr>\n    <tr>\n      <th>162</th>\n      <td>NOMAP</td>\n      <td>2006</td>\n      <td>14</td>\n    </tr>\n    <tr>\n      <th>164</th>\n      <td>NOMAP</td>\n      <td>Tunis</td>\n      <td>13</td>\n    </tr>\n    <tr>\n      <th>165</th>\n      <td>NOMAP</td>\n      <td>1999</td>\n      <td>12</td>\n    </tr>\n    <tr>\n      <th>166</th>\n      <td>NOMAP</td>\n      <td>Egypt</td>\n      <td>12</td>\n    </tr>\n    <tr>\n      <th>167</th>\n      <td>NOMAP</td>\n      <td>i</td>\n      <td>12</td>\n    </tr>\n    <tr>\n      <th>168</th>\n      <td>NOMAP</td>\n      <td>a</td>\n      <td>12</td>\n    </tr>\n    <tr>\n      <th>169</th>\n      <td>NOMAP</td>\n      <td>&amp;</td>\n      <td>11</td>\n    </tr>\n  </tbody>\n</table>\n</div>"
     },
     "metadata": {},
     "execution_count": 27
    }
   ],
   "source": [
    "nomap[:60]"
   ]
  },
  {
   "cell_type": "code",
   "execution_count": null,
   "metadata": {},
   "outputs": [],
   "source": []
  }
 ]
}