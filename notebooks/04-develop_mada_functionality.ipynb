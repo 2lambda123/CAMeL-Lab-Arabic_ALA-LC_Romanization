{
 "metadata": {
  "language_info": {
   "codemirror_mode": {
    "name": "ipython",
    "version": 3
   },
   "file_extension": ".py",
   "mimetype": "text/x-python",
   "name": "python",
   "nbconvert_exporter": "python",
   "pygments_lexer": "ipython3",
   "version": "3.7.9-final"
  },
  "orig_nbformat": 2,
  "kernelspec": {
   "name": "python3",
   "display_name": "Python 3.7.9 64-bit ('LOC_transcribe': conda)",
   "metadata": {
    "interpreter": {
     "hash": "2b554815ca5965dde5dfe8ec0711c5f4c97a48313d39807652a44b35a45ea47c"
    }
   }
  }
 },
 "nbformat": 4,
 "nbformat_minor": 2,
 "cells": [
  {
   "cell_type": "code",
   "execution_count": 1,
   "metadata": {},
   "outputs": [],
   "source": [
    "%load_ext autoreload\n",
    "%autoreload 2\n",
    "import sys\n",
    "import os\n",
    "from pathlib import Path\n",
    "import pandas as pd\n",
    "import numpy as np\n",
    "import re\n",
    "import requests\n",
    "from io import BytesIO\n",
    "from lxml import etree\n",
    "sys.path.insert(0,\"..\")\n",
    "# from src.madamira.generate_config import generate_config, feats\n",
    "from src.madamira.analyse import analyse_standalone, analyse_server, write_xml, load_analysis, parse_analyser_output, generate_analyser_input\n",
    "from src.predict import translit_rules\n",
    "from data.make_dataset import recompose, tokenize_skiphyph\n"
   ]
  },
  {
   "cell_type": "code",
   "execution_count": null,
   "metadata": {},
   "outputs": [],
   "source": []
  },
  {
   "cell_type": "code",
   "execution_count": 2,
   "metadata": {},
   "outputs": [
    {
     "output_type": "execute_result",
     "data": {
      "text/plain": [
       "PosixPath('/Users/fae211/ba3sasah/LOC_transcribe')"
      ]
     },
     "metadata": {},
     "execution_count": 2
    }
   ],
   "source": [
    "home = Path(os.getcwd()).parent\n",
    "home"
   ]
  },
  {
   "cell_type": "code",
   "execution_count": 3,
   "metadata": {},
   "outputs": [],
   "source": [
    "dev = pd.read_csv(f'{home}/data/processed/dev.tsv',delimiter='\\t')\n",
    "# devsents = list(dev['ar'].values)[35742]"
   ]
  },
  {
   "cell_type": "code",
   "execution_count": 11,
   "metadata": {},
   "outputs": [
    {
     "output_type": "execute_result",
     "data": {
      "text/plain": [
       "array(['علاقبند، فاطمه.'], dtype=object)"
      ]
     },
     "metadata": {},
     "execution_count": 11
    }
   ],
   "source": [
    "dev[dev['sentID']==35742]['ar'].values"
   ]
  },
  {
   "cell_type": "code",
   "execution_count": null,
   "metadata": {},
   "outputs": [],
   "source": [
    "['علاقبند، فاطمه.']"
   ]
  },
  {
   "cell_type": "code",
   "execution_count": 2,
   "metadata": {},
   "outputs": [],
   "source": []
  },
  {
   "cell_type": "code",
   "execution_count": 12,
   "metadata": {},
   "outputs": [
    {
     "output_type": "execute_result",
     "data": {
      "text/plain": [
       "[#WORDS#: ['علاقبند', '،', 'فاطمه', '.']; #AN#: {'علاقبند': {'bw': 'ElAqbnd/NOUN_PROP', 'gloss': 'NO_ANALYSIS', 'diac': 'علاقبند', 'lemma': 'علاقبند_0', 'asp': 'na', 'cas': 'u', 'gen': 'm', 'mod': 'na', 'num': 's', 'per': 'na', 'stt': 'i', 'vox': 'na', 'pos': 'noun_prop', 'prc0': '0', 'prc1': '0', 'prc2': '0', 'prc3': '0', 'enc0': '0'}, '،': {'bw': '،/NOUN_PROP', 'gloss': 'NO_ANALYSIS', 'diac': '،', 'lemma': '،_0', 'asp': 'na', 'cas': 'u', 'gen': 'm', 'mod': 'na', 'num': 's', 'per': 'na', 'stt': 'i', 'vox': 'na', 'pos': 'noun_prop', 'prc0': '0', 'prc1': '0', 'prc2': '0', 'prc3': '0', 'enc0': '0'}, 'فاطمه': {'bw': 'fa/CONJ+>uTum/NOUN+a/CASE_DEF_ACC+hu/POSS_PRON_3MS', 'gloss': 'blockhouse;pillbox', 'diac': 'فَأُطُمَهُ', 'lemma': 'أُطُم_1', 'asp': 'na', 'cas': 'a', 'gen': 'm', 'mod': 'na', 'num': 's', 'per': 'na', 'stt': 'c', 'vox': 'na', 'pos': 'noun', 'prc0': '0', 'prc1': '0', 'prc2': 'fa_conj', 'prc3': '0', 'enc0': '3ms_poss'}, '.': {'bw': './PUNC', 'gloss': '.', 'diac': '.', 'lemma': '._0', 'asp': 'na', 'cas': 'na', 'gen': 'na', 'mod': 'na', 'num': 'na', 'per': 'na', 'stt': 'na', 'vox': 'na', 'pos': 'punc', 'prc0': 'na', 'prc1': 'na', 'prc2': 'na', 'prc3': 'na', 'enc0': 'na'}};  #TOKS#: ['علاقبند', '،', 'فَ+أُطُمَهُ', '.']]"
      ]
     },
     "metadata": {},
     "execution_count": 12
    }
   ],
   "source": [
    "testanalyses"
   ]
  },
  {
   "cell_type": "code",
   "execution_count": 39,
   "metadata": {},
   "outputs": [],
   "source": [
    "# testanalyses[0].analysis"
   ]
  },
  {
   "cell_type": "code",
   "execution_count": 6,
   "metadata": {},
   "outputs": [],
   "source": [
    "# testanalyses[0].analysis[testanalyses[0].words[2]]"
   ]
  },
  {
   "cell_type": "code",
   "execution_count": 7,
   "metadata": {},
   "outputs": [],
   "source": []
  },
  {
   "cell_type": "code",
   "execution_count": 15,
   "metadata": {},
   "outputs": [],
   "source": [
    "locmap = translit_rules.load_loc_mappings()\n",
    "exceptional = translit_rules.load_exceptional_spellings()\n",
    "# translit_rules.translit_simple(testanalyses[0].words[0],locmap,exceptional)"
   ]
  },
  {
   "cell_type": "code",
   "execution_count": 121,
   "metadata": {},
   "outputs": [],
   "source": [
    "# testsents = list(dev[dev['sentID']==27774]['ar'].values)\n",
    "testsents = ['رايت كلبة']\n",
    "testsents = [tokenize_skiphyph(sent) for sent in testsents]\n",
    "inputconfig = generate_analyser_input(testsents)\n",
    "outxml = analyse_server(inputconfig)\n",
    "testanalyses = list(parse_analyser_output(outxml))\n",
    "\n"
   ]
  },
  {
   "cell_type": "code",
   "execution_count": 120,
   "metadata": {},
   "outputs": [
    {
     "output_type": "execute_result",
     "data": {
      "text/plain": [
       "                             from           to  freq\n",
       "0                     case-ending      removed     3\n",
       "1              index-0 capitalize  capitalized     1\n",
       "2  adj/nounprop capitalized gloss  capitalized     1"
      ],
      "text/html": "<div>\n<style scoped>\n    .dataframe tbody tr th:only-of-type {\n        vertical-align: middle;\n    }\n\n    .dataframe tbody tr th {\n        vertical-align: top;\n    }\n\n    .dataframe thead th {\n        text-align: right;\n    }\n</style>\n<table border=\"1\" class=\"dataframe\">\n  <thead>\n    <tr style=\"text-align: right;\">\n      <th></th>\n      <th>from</th>\n      <th>to</th>\n      <th>freq</th>\n    </tr>\n  </thead>\n  <tbody>\n    <tr>\n      <th>0</th>\n      <td>case-ending</td>\n      <td>removed</td>\n      <td>3</td>\n    </tr>\n    <tr>\n      <th>1</th>\n      <td>index-0 capitalize</td>\n      <td>capitalized</td>\n      <td>1</td>\n    </tr>\n    <tr>\n      <th>2</th>\n      <td>adj/nounprop capitalized gloss</td>\n      <td>capitalized</td>\n      <td>1</td>\n    </tr>\n  </tbody>\n</table>\n</div>"
     },
     "metadata": {},
     "execution_count": 120
    }
   ],
   "source": [
    "pd.DataFrame([{'from':x[0],'to':x[1],'freq':y} for x,y in logger.morph_rules.items()]).sort_values('freq',ascending=False)"
   ]
  },
  {
   "cell_type": "code",
   "execution_count": 118,
   "metadata": {},
   "outputs": [
    {
     "output_type": "execute_result",
     "data": {
      "text/plain": [
       "{('الله', 'اللَاه±'): 1}"
      ]
     },
     "metadata": {},
     "execution_count": 118
    }
   ],
   "source": [
    "logger.exceptional_rules"
   ]
  },
  {
   "cell_type": "code",
   "execution_count": 122,
   "metadata": {},
   "outputs": [
    {
     "output_type": "execute_result",
     "data": {
      "text/plain": [
       "'Raʼayt kalbat'"
      ]
     },
     "metadata": {},
     "execution_count": 122
    }
   ],
   "source": [
    "logger = translit_rules.rules_logger\n",
    "translit_rules.translit_morph(testanalyses[0],locmap,exceptional,logger=logger)"
   ]
  },
  {
   "cell_type": "code",
   "execution_count": 56,
   "metadata": {},
   "outputs": [
    {
     "output_type": "execute_result",
     "data": {
      "text/plain": [
       "[{'keys': ('<<<<<', ''), 'values': 4},\n",
       " {'keys': ('NOMAP', \"['\"), 'values': 1},\n",
       " {'keys': ('ك', 'k'), 'values': 1},\n",
       " {'keys': ('ت', 't'), 'values': 3},\n",
       " {'keys': ('ا', 'ā'), 'values': 1},\n",
       " {'keys': ('ب', 'b'), 'values': 1},\n",
       " {'keys': ('>>>>>', ''), 'values': 7},\n",
       " {'keys': ('<<<<<ا', 'a'), 'values': 3},\n",
       " {'keys': ('ل', 'l'), 'values': 4},\n",
       " {'keys': ('د', 'd'), 'values': 1},\n",
       " {'keys': ('ر', 'r'), 'values': 1},\n",
       " {'keys': ('ن', 'n'), 'values': 1},\n",
       " {'keys': ('ظ', 'ẓ'), 'values': 1},\n",
       " {'keys': ('ي', 'y'), 'values': 4},\n",
       " {'keys': ('م', 'm'), 'values': 2},\n",
       " {'keys': ('ف', 'f'), 'values': 1},\n",
       " {'keys': ('س', 's'), 'values': 1},\n",
       " {'keys': ('ه', 'h'), 'values': 1},\n",
       " {'keys': ('ق', 'q'), 'values': 1},\n",
       " {'keys': ('و', 'w'), 'values': 1},\n",
       " {'keys': ('NOMAP', \":']\"), 'values': 1}]"
      ]
     },
     "metadata": {},
     "execution_count": 56
    }
   ],
   "source": [
    "[{'keys':x,'values':y} for x,y in logger.chunks.items()]"
   ]
  },
  {
   "cell_type": "code",
   "execution_count": 73,
   "metadata": {},
   "outputs": [
    {
     "output_type": "execute_result",
     "data": {
      "text/plain": [
       "      from   to  freq\n",
       "0    <<<<<          4\n",
       "1    NOMAP   ['     1\n",
       "2        ك    k     1\n",
       "3        ت    t     3\n",
       "4        ا    ā     1\n",
       "5        ب    b     1\n",
       "6    >>>>>          7\n",
       "7   <<<<<ا    a     3\n",
       "8        ل    l     4\n",
       "9        د    d     1\n",
       "10       ر    r     1\n",
       "11       ن    n     1\n",
       "12       ظ    ẓ     1\n",
       "13       ي    y     4\n",
       "14       م    m     2\n",
       "15       ف    f     1\n",
       "16       س    s     1\n",
       "17       ه    h     1\n",
       "18       ق    q     1\n",
       "19       و    w     1\n",
       "20   NOMAP  :']     1"
      ],
      "text/html": "<div>\n<style scoped>\n    .dataframe tbody tr th:only-of-type {\n        vertical-align: middle;\n    }\n\n    .dataframe tbody tr th {\n        vertical-align: top;\n    }\n\n    .dataframe thead th {\n        text-align: right;\n    }\n</style>\n<table border=\"1\" class=\"dataframe\">\n  <thead>\n    <tr style=\"text-align: right;\">\n      <th></th>\n      <th>from</th>\n      <th>to</th>\n      <th>freq</th>\n    </tr>\n  </thead>\n  <tbody>\n    <tr>\n      <th>0</th>\n      <td>&lt;&lt;&lt;&lt;&lt;</td>\n      <td></td>\n      <td>4</td>\n    </tr>\n    <tr>\n      <th>1</th>\n      <td>NOMAP</td>\n      <td>['</td>\n      <td>1</td>\n    </tr>\n    <tr>\n      <th>2</th>\n      <td>ك</td>\n      <td>k</td>\n      <td>1</td>\n    </tr>\n    <tr>\n      <th>3</th>\n      <td>ت</td>\n      <td>t</td>\n      <td>3</td>\n    </tr>\n    <tr>\n      <th>4</th>\n      <td>ا</td>\n      <td>ā</td>\n      <td>1</td>\n    </tr>\n    <tr>\n      <th>5</th>\n      <td>ب</td>\n      <td>b</td>\n      <td>1</td>\n    </tr>\n    <tr>\n      <th>6</th>\n      <td>&gt;&gt;&gt;&gt;&gt;</td>\n      <td></td>\n      <td>7</td>\n    </tr>\n    <tr>\n      <th>7</th>\n      <td>&lt;&lt;&lt;&lt;&lt;ا</td>\n      <td>a</td>\n      <td>3</td>\n    </tr>\n    <tr>\n      <th>8</th>\n      <td>ل</td>\n      <td>l</td>\n      <td>4</td>\n    </tr>\n    <tr>\n      <th>9</th>\n      <td>د</td>\n      <td>d</td>\n      <td>1</td>\n    </tr>\n    <tr>\n      <th>10</th>\n      <td>ر</td>\n      <td>r</td>\n      <td>1</td>\n    </tr>\n    <tr>\n      <th>11</th>\n      <td>ن</td>\n      <td>n</td>\n      <td>1</td>\n    </tr>\n    <tr>\n      <th>12</th>\n      <td>ظ</td>\n      <td>ẓ</td>\n      <td>1</td>\n    </tr>\n    <tr>\n      <th>13</th>\n      <td>ي</td>\n      <td>y</td>\n      <td>4</td>\n    </tr>\n    <tr>\n      <th>14</th>\n      <td>م</td>\n      <td>m</td>\n      <td>2</td>\n    </tr>\n    <tr>\n      <th>15</th>\n      <td>ف</td>\n      <td>f</td>\n      <td>1</td>\n    </tr>\n    <tr>\n      <th>16</th>\n      <td>س</td>\n      <td>s</td>\n      <td>1</td>\n    </tr>\n    <tr>\n      <th>17</th>\n      <td>ه</td>\n      <td>h</td>\n      <td>1</td>\n    </tr>\n    <tr>\n      <th>18</th>\n      <td>ق</td>\n      <td>q</td>\n      <td>1</td>\n    </tr>\n    <tr>\n      <th>19</th>\n      <td>و</td>\n      <td>w</td>\n      <td>1</td>\n    </tr>\n    <tr>\n      <th>20</th>\n      <td>NOMAP</td>\n      <td>:']</td>\n      <td>1</td>\n    </tr>\n  </tbody>\n</table>\n</div>"
     },
     "metadata": {},
     "execution_count": 73
    }
   ],
   "source": [
    "pd.DataFrame([{'from':x[0],'to':x[1],'freq':y} for x,y in logger.chunks.items()])"
   ]
  },
  {
   "cell_type": "code",
   "execution_count": 68,
   "metadata": {},
   "outputs": [
    {
     "output_type": "execute_result",
     "data": {
      "text/plain": [
       "[{'f': '<<<<<', 't': ''},\n",
       " {'f': 'NOMAP', 't': \"['\"},\n",
       " {'f': 'ك', 't': 'k'},\n",
       " {'f': 'ت', 't': 't'},\n",
       " {'f': 'ا', 't': 'ā'},\n",
       " {'f': 'ب', 't': 'b'},\n",
       " {'f': '>>>>>', 't': ''},\n",
       " {'f': '<<<<<ا', 't': 'a'},\n",
       " {'f': 'ل', 't': 'l'},\n",
       " {'f': 'د', 't': 'd'},\n",
       " {'f': 'ر', 't': 'r'},\n",
       " {'f': 'ن', 't': 'n'},\n",
       " {'f': 'ظ', 't': 'ẓ'},\n",
       " {'f': 'ي', 't': 'y'},\n",
       " {'f': 'م', 't': 'm'},\n",
       " {'f': 'ف', 't': 'f'},\n",
       " {'f': 'س', 't': 's'},\n",
       " {'f': 'ه', 't': 'h'},\n",
       " {'f': 'ق', 't': 'q'},\n",
       " {'f': 'و', 't': 'w'},\n",
       " {'f': 'NOMAP', 't': \":']\"}]"
      ]
     },
     "metadata": {},
     "execution_count": 68
    }
   ],
   "source": [
    "[{'f': f,'t':t} for f,t in logger.chunks.keys()]"
   ]
  },
  {
   "cell_type": "code",
   "execution_count": 14,
   "metadata": {},
   "outputs": [
    {
     "output_type": "execute_result",
     "data": {
      "text/plain": [
       "['كتاب', 'الدر', 'النظيم', 'في', 'تسهيل', 'التقويم', ':']"
      ]
     },
     "metadata": {},
     "execution_count": 14
    }
   ],
   "source": [
    "testanalyses[0].words\n"
   ]
  },
  {
   "cell_type": "code",
   "execution_count": 4,
   "metadata": {
    "tags": []
   },
   "outputs": [
    {
     "output_type": "execute_result",
     "data": {
      "text/plain": [
       "'Kitāb al-durr al-Nẓym fī tashīl al-taqwīm :'"
      ]
     },
     "metadata": {},
     "execution_count": 4
    }
   ],
   "source": [
    "\n",
    "translit_rules.translit_morph(testanalyses[0],locmap,exceptional)"
   ]
  },
  {
   "cell_type": "code",
   "execution_count": 37,
   "metadata": {},
   "outputs": [],
   "source": [
    "deveval = pd.read_csv(f'{home}/evaluation/dev/rules-morph.tsv',delimiter='\\t')\n",
    "\n",
    "# odd analysis for li prep\n",
    "#  'لنباتات': {'bw': 'la/PREP+nabAt/NOUN+At/NSUFF_FEM_PL+i/CASE_DEF_GEN',\n"
   ]
  },
  {
   "cell_type": "code",
   "execution_count": 25,
   "metadata": {},
   "outputs": [
    {
     "output_type": "execute_result",
     "data": {
      "text/plain": [
       "         gold_tok source_tok  aligned_source/gold predict_1_tok  sentID  \\\n",
       "2359          Ibn       لأبي                False            la    8915   \n",
       "2360      Qudāmah       محمد                False             -    8915   \n",
       "2361  al-Maqdisī,        عبد                False           Abī    8915   \n",
       "2362     Muḥammad       الله                False      Muḥammad    8915   \n",
       "2363          ibn         بن                False          ʻAbd    8915   \n",
       "2364       Aḥmad,       أحمد                False         Allāh    8915   \n",
       "2365          NaN         بن                False           ibn    8915   \n",
       "2366          NaN      قدامة                False         Aḥmad    8915   \n",
       "2367          NaN   المقدسي.                False           ibn    8915   \n",
       "2368          NaN        NaN                False     quddāmahu    8915   \n",
       "2369          NaN        NaN                False   al-maqdisī.    8915   \n",
       "\n",
       "           recID comb.tag  aligned_source/prediction  match  match_ignore_case  \n",
       "2359  umich-1141     100a                      False  False              False  \n",
       "2360  umich-1141     100a                      False  False              False  \n",
       "2361  umich-1141     100a                      False  False              False  \n",
       "2362  umich-1141     100a                      False   True               True  \n",
       "2363  umich-1141     100a                      False  False              False  \n",
       "2364  umich-1141     100a                      False  False              False  \n",
       "2365  umich-1141     100a                      False  False              False  \n",
       "2366  umich-1141     100a                      False  False              False  \n",
       "2367  umich-1141     100a                      False  False              False  \n",
       "2368  umich-1141     100a                      False  False              False  \n",
       "2369  umich-1141     100a                      False  False              False  "
      ],
      "text/html": "<div>\n<style scoped>\n    .dataframe tbody tr th:only-of-type {\n        vertical-align: middle;\n    }\n\n    .dataframe tbody tr th {\n        vertical-align: top;\n    }\n\n    .dataframe thead th {\n        text-align: right;\n    }\n</style>\n<table border=\"1\" class=\"dataframe\">\n  <thead>\n    <tr style=\"text-align: right;\">\n      <th></th>\n      <th>gold_tok</th>\n      <th>source_tok</th>\n      <th>aligned_source/gold</th>\n      <th>predict_1_tok</th>\n      <th>sentID</th>\n      <th>recID</th>\n      <th>comb.tag</th>\n      <th>aligned_source/prediction</th>\n      <th>match</th>\n      <th>match_ignore_case</th>\n    </tr>\n  </thead>\n  <tbody>\n    <tr>\n      <th>2359</th>\n      <td>Ibn</td>\n      <td>لأبي</td>\n      <td>False</td>\n      <td>la</td>\n      <td>8915</td>\n      <td>umich-1141</td>\n      <td>100a</td>\n      <td>False</td>\n      <td>False</td>\n      <td>False</td>\n    </tr>\n    <tr>\n      <th>2360</th>\n      <td>Qudāmah</td>\n      <td>محمد</td>\n      <td>False</td>\n      <td>-</td>\n      <td>8915</td>\n      <td>umich-1141</td>\n      <td>100a</td>\n      <td>False</td>\n      <td>False</td>\n      <td>False</td>\n    </tr>\n    <tr>\n      <th>2361</th>\n      <td>al-Maqdisī,</td>\n      <td>عبد</td>\n      <td>False</td>\n      <td>Abī</td>\n      <td>8915</td>\n      <td>umich-1141</td>\n      <td>100a</td>\n      <td>False</td>\n      <td>False</td>\n      <td>False</td>\n    </tr>\n    <tr>\n      <th>2362</th>\n      <td>Muḥammad</td>\n      <td>الله</td>\n      <td>False</td>\n      <td>Muḥammad</td>\n      <td>8915</td>\n      <td>umich-1141</td>\n      <td>100a</td>\n      <td>False</td>\n      <td>True</td>\n      <td>True</td>\n    </tr>\n    <tr>\n      <th>2363</th>\n      <td>ibn</td>\n      <td>بن</td>\n      <td>False</td>\n      <td>ʻAbd</td>\n      <td>8915</td>\n      <td>umich-1141</td>\n      <td>100a</td>\n      <td>False</td>\n      <td>False</td>\n      <td>False</td>\n    </tr>\n    <tr>\n      <th>2364</th>\n      <td>Aḥmad,</td>\n      <td>أحمد</td>\n      <td>False</td>\n      <td>Allāh</td>\n      <td>8915</td>\n      <td>umich-1141</td>\n      <td>100a</td>\n      <td>False</td>\n      <td>False</td>\n      <td>False</td>\n    </tr>\n    <tr>\n      <th>2365</th>\n      <td>NaN</td>\n      <td>بن</td>\n      <td>False</td>\n      <td>ibn</td>\n      <td>8915</td>\n      <td>umich-1141</td>\n      <td>100a</td>\n      <td>False</td>\n      <td>False</td>\n      <td>False</td>\n    </tr>\n    <tr>\n      <th>2366</th>\n      <td>NaN</td>\n      <td>قدامة</td>\n      <td>False</td>\n      <td>Aḥmad</td>\n      <td>8915</td>\n      <td>umich-1141</td>\n      <td>100a</td>\n      <td>False</td>\n      <td>False</td>\n      <td>False</td>\n    </tr>\n    <tr>\n      <th>2367</th>\n      <td>NaN</td>\n      <td>المقدسي.</td>\n      <td>False</td>\n      <td>ibn</td>\n      <td>8915</td>\n      <td>umich-1141</td>\n      <td>100a</td>\n      <td>False</td>\n      <td>False</td>\n      <td>False</td>\n    </tr>\n    <tr>\n      <th>2368</th>\n      <td>NaN</td>\n      <td>NaN</td>\n      <td>False</td>\n      <td>quddāmahu</td>\n      <td>8915</td>\n      <td>umich-1141</td>\n      <td>100a</td>\n      <td>False</td>\n      <td>False</td>\n      <td>False</td>\n    </tr>\n    <tr>\n      <th>2369</th>\n      <td>NaN</td>\n      <td>NaN</td>\n      <td>False</td>\n      <td>al-maqdisī.</td>\n      <td>8915</td>\n      <td>umich-1141</td>\n      <td>100a</td>\n      <td>False</td>\n      <td>False</td>\n      <td>False</td>\n    </tr>\n  </tbody>\n</table>\n</div>"
     },
     "metadata": {},
     "execution_count": 25
    }
   ],
   "source": [
    "deveval[deveval['sentID']==8915] "
   ]
  },
  {
   "cell_type": "code",
   "execution_count": 43,
   "metadata": {},
   "outputs": [
    {
     "output_type": "execute_result",
     "data": {
      "text/plain": [
       "         gold_tok source_tok  aligned_source/gold predict_rules-morph_tok  \\\n",
       "61792  Al-Juhani,    أل-جهن،                 True                    al--   \n",
       "61793       Hamdi        همد                 True                    jhn,   \n",
       "61794         bin         بن                 True                   hamad   \n",
       "61795      Hamza.       همز.                 True                     ibn   \n",
       "61796         NaN        NaN                 True                   Hamz.   \n",
       "\n",
       "       sentID     recID comb.tag  aligned_source/prediction  match  \\\n",
       "61792  237799  loc-6006     100a                      False  False   \n",
       "61793  237799  loc-6006     100a                      False  False   \n",
       "61794  237799  loc-6006     100a                      False  False   \n",
       "61795  237799  loc-6006     100a                      False  False   \n",
       "61796  237799  loc-6006     100a                      False  False   \n",
       "\n",
       "       match_ignore_case  \n",
       "61792              False  \n",
       "61793              False  \n",
       "61794              False  \n",
       "61795              False  \n",
       "61796              False  "
      ],
      "text/html": "<div>\n<style scoped>\n    .dataframe tbody tr th:only-of-type {\n        vertical-align: middle;\n    }\n\n    .dataframe tbody tr th {\n        vertical-align: top;\n    }\n\n    .dataframe thead th {\n        text-align: right;\n    }\n</style>\n<table border=\"1\" class=\"dataframe\">\n  <thead>\n    <tr style=\"text-align: right;\">\n      <th></th>\n      <th>gold_tok</th>\n      <th>source_tok</th>\n      <th>aligned_source/gold</th>\n      <th>predict_rules-morph_tok</th>\n      <th>sentID</th>\n      <th>recID</th>\n      <th>comb.tag</th>\n      <th>aligned_source/prediction</th>\n      <th>match</th>\n      <th>match_ignore_case</th>\n    </tr>\n  </thead>\n  <tbody>\n    <tr>\n      <th>61792</th>\n      <td>Al-Juhani,</td>\n      <td>أل-جهن،</td>\n      <td>True</td>\n      <td>al--</td>\n      <td>237799</td>\n      <td>loc-6006</td>\n      <td>100a</td>\n      <td>False</td>\n      <td>False</td>\n      <td>False</td>\n    </tr>\n    <tr>\n      <th>61793</th>\n      <td>Hamdi</td>\n      <td>همد</td>\n      <td>True</td>\n      <td>jhn,</td>\n      <td>237799</td>\n      <td>loc-6006</td>\n      <td>100a</td>\n      <td>False</td>\n      <td>False</td>\n      <td>False</td>\n    </tr>\n    <tr>\n      <th>61794</th>\n      <td>bin</td>\n      <td>بن</td>\n      <td>True</td>\n      <td>hamad</td>\n      <td>237799</td>\n      <td>loc-6006</td>\n      <td>100a</td>\n      <td>False</td>\n      <td>False</td>\n      <td>False</td>\n    </tr>\n    <tr>\n      <th>61795</th>\n      <td>Hamza.</td>\n      <td>همز.</td>\n      <td>True</td>\n      <td>ibn</td>\n      <td>237799</td>\n      <td>loc-6006</td>\n      <td>100a</td>\n      <td>False</td>\n      <td>False</td>\n      <td>False</td>\n    </tr>\n    <tr>\n      <th>61796</th>\n      <td>NaN</td>\n      <td>NaN</td>\n      <td>True</td>\n      <td>Hamz.</td>\n      <td>237799</td>\n      <td>loc-6006</td>\n      <td>100a</td>\n      <td>False</td>\n      <td>False</td>\n      <td>False</td>\n    </tr>\n  </tbody>\n</table>\n</div>"
     },
     "metadata": {},
     "execution_count": 43
    }
   ],
   "source": [
    "nonaligned = deveval[deveval['aligned_source/prediction']==False]['sentID'].drop_duplicates()\n",
    "deveval[deveval['sentID']==nonaligned.iloc[0]] "
   ]
  },
  {
   "cell_type": "code",
   "execution_count": null,
   "metadata": {},
   "outputs": [],
   "source": []
  }
 ]
}