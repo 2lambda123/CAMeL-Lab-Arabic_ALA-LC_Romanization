{
 "metadata": {
  "language_info": {
   "codemirror_mode": {
    "name": "ipython",
    "version": 3
   },
   "file_extension": ".py",
   "mimetype": "text/x-python",
   "name": "python",
   "nbconvert_exporter": "python",
   "pygments_lexer": "ipython3",
   "version": "3.7.9-final"
  },
  "orig_nbformat": 2,
  "kernelspec": {
   "name": "python3",
   "display_name": "Python 3",
   "language": "python"
  }
 },
 "nbformat": 4,
 "nbformat_minor": 2,
 "cells": [
  {
   "cell_type": "code",
   "execution_count": 18,
   "metadata": {},
   "outputs": [
    {
     "output_type": "stream",
     "name": "stdout",
     "text": [
      "The autoreload extension is already loaded. To reload it, use:\n  %reload_ext autoreload\n"
     ]
    }
   ],
   "source": [
    "%load_ext autoreload\n",
    "%autoreload 2\n",
    "import pandas as pd\n",
    "import os\n",
    "from pathlib import Path\n",
    "sys.path.insert(0,\"..\")\n",
    "from src.data import make_seq2seq_dataset\n",
    "from src.alignment import cross_align, align_wordsDF"
   ]
  },
  {
   "cell_type": "code",
   "execution_count": 3,
   "metadata": {},
   "outputs": [
    {
     "output_type": "execute_result",
     "data": {
      "text/plain": [
       "['__builtins__',\n",
       " '__cached__',\n",
       " '__doc__',\n",
       " '__file__',\n",
       " '__loader__',\n",
       " '__name__',\n",
       " '__package__',\n",
       " '__spec__',\n",
       " '_edit_distance',\n",
       " '_gen_alignments',\n",
       " '_print_table',\n",
       " 'align_words',\n",
       " 'align_wordsDF',\n",
       " 'case_aware_editdistance',\n",
       " 'cross_align',\n",
       " 'deque',\n",
       " 'editdistance',\n",
       " 'math',\n",
       " 'pd',\n",
       " 'sys']"
      ]
     },
     "metadata": {},
     "execution_count": 3
    }
   ],
   "source": [
    "dir(alignment)"
   ]
  },
  {
   "cell_type": "code",
   "execution_count": 75,
   "metadata": {},
   "outputs": [],
   "source": [
    "#dev\n",
    "# home = Path(os.getcwd()).parent\n",
    "# with open(home.joinpath('predictions_out/seq2seq/dev/line2line-dev.out'), 'r') as i:\n",
    "#     seq = [x.strip() for x in i.readlines()]\n",
    "# with open(home.joinpath('predictions_out/mle-backoff_translit_morph/dev/mle-translit_morph-size1.0.tsv'), 'r')  as i:\n",
    "#     mlemorph = [x.strip() for x in i.readlines()]\n",
    "# with open(home.joinpath('predictions_out/mle-backoff_translit_simple/dev/mle-translit_simple-size1.0.tsv'), 'r')  as i:\n",
    "#     mlesimple = [x.strip() for x in i.readlines()]\n",
    "\n",
    "# with open(home.joinpath('predictions_out/translit_morph/dev/rules-morph.tsv'), 'r')  as i:\n",
    "#     rulesmorph = [x.strip() for x in i.readlines()]\n",
    "\n"
   ]
  },
  {
   "cell_type": "code",
   "execution_count": 67,
   "metadata": {},
   "outputs": [],
   "source": [
    "dev = pd.read_csv(home.joinpath('data/processed/dev.tsv'),delimiter='\\t')"
   ]
  },
  {
   "cell_type": "code",
   "execution_count": 76,
   "metadata": {},
   "outputs": [],
   "source": [
    "seqrulesmorph = []\n",
    "for idx, line in enumerate(seq):\n",
    "    aligned_plus_backoff = cross_align(rulesmorph[idx],line,bckf=True)\n",
    "    seqrulesmorph.append(aligned_plus_backoff)"
   ]
  },
  {
   "cell_type": "code",
   "execution_count": 80,
   "metadata": {},
   "outputs": [],
   "source": [
    "with open(home.joinpath('predictions_out/seq2seq_aligned(rules_morph)/dev/line2line-dev_aligned_morph.out'), 'w') as o:\n",
    "    for line in seqrulesmorph:\n",
    "        o.write(f'{line}\\n')"
   ]
  },
  {
   "cell_type": "code",
   "execution_count": null,
   "metadata": {},
   "outputs": [],
   "source": [
    "dev1 = dev.iloc[0]['rom']\n",
    "dev1"
   ]
  },
  {
   "cell_type": "code",
   "execution_count": null,
   "metadata": {},
   "outputs": [],
   "source": [
    "seqeval = pd.read_csv(home.joinpath('evaluation/dev/eval-line2line-dev.out'),delimiter='\\t')"
   ]
  },
  {
   "cell_type": "code",
   "execution_count": 68,
   "metadata": {},
   "outputs": [],
   "source": [
    "seqmorphnobackoff = []\n",
    "for idx, line in enumerate(seq):\n",
    "    aligned_plus_backoff = cross_align(mlemorph[idx],line,bckf=False)\n",
    "    seqmorphnobackoff.append(aligned_plus_backoff)"
   ]
  },
  {
   "cell_type": "code",
   "execution_count": 79,
   "metadata": {},
   "outputs": [],
   "source": []
  },
  {
   "cell_type": "code",
   "execution_count": 73,
   "metadata": {},
   "outputs": [
    {
     "output_type": "execute_result",
     "data": {
      "text/plain": [
       "4411"
      ]
     },
     "metadata": {},
     "execution_count": 73
    }
   ],
   "source": [
    "# no _ in source so its safe to count missing words using _\n",
    "dev[dev['ar'].apply(lambda x: '_' in str(x))]\n",
    "\n",
    "sum(list(map(lambda x: x.count('_'),seqmorphnobackoff)))"
   ]
  },
  {
   "cell_type": "code",
   "execution_count": null,
   "metadata": {},
   "outputs": [],
   "source": [
    "seqmorph = []\n",
    "for idx, line in enumerate(seq):\n",
    "    aligned_plus_backoff = cross_align(mlemorph[idx],line,bckf=True)\n",
    "    seqmorph.append(aligned_plus_backoff)"
   ]
  },
  {
   "cell_type": "code",
   "execution_count": null,
   "metadata": {},
   "outputs": [],
   "source": [
    "seqsimple = []\n",
    "for idx, line in enumerate(seq):\n",
    "    aligned_plus_backoff = cross_align(mlesimple[idx],line,bckf=True)\n",
    "    seqmorph.append(aligned_plus_backoff)"
   ]
  },
  {
   "cell_type": "code",
   "execution_count": null,
   "metadata": {},
   "outputs": [],
   "source": [
    "with open(home.joinpath('predictions_out/seq2seq_aligned(mle_morph)/dev/line2line-dev_aligned_morph.out'), 'w') as o:\n",
    "    for line in seqmorph:\n",
    "        o.write(f'{line}\\n')"
   ]
  },
  {
   "cell_type": "code",
   "execution_count": null,
   "metadata": {},
   "outputs": [],
   "source": [
    "with open(home.joinpath('predictions_out/seq2seq_aligned(mle_simple)/dev/line2line-dev_aligned_simple.out'), 'w') as o:\n",
    "    for line in seqsimple:\n",
    "        o.write(f'{line}\\n')"
   ]
  },
  {
   "cell_type": "code",
   "execution_count": 96,
   "metadata": {},
   "outputs": [],
   "source": [
    "#test\n",
    "# home = Path(os.getcwd()).parent\n",
    "with open(home.joinpath('predictions_out/seq2seq/test/line2line-test.out'), 'r') as i:\n",
    "    seqtest = [x.strip() for x in i.readlines()]\n",
    "# with open(home.joinpath('predictions_out/mle-backoff_translit_morph/test/mle-translit_morph-size1.0.tsv'), 'r')  as i:\n",
    "#     mlemorphtest = [x.strip() for x in i.readlines()]\n",
    "with open(home.joinpath('predictions_out/mle-backoff_translit_simple/test/mle-translit_simple-size1.0.tsv'), 'r')  as i:\n",
    "    mlesimpletest = [x.strip() for x in i.readlines()]\n",
    "\n",
    "#test\n",
    "with open(home.joinpath('predictions_out/translit_morph/test/rules-morph.tsv'), 'r')  as i:\n",
    "    rulesmorphtest = [x.strip() for x in i.readlines()]"
   ]
  },
  {
   "cell_type": "code",
   "execution_count": 90,
   "metadata": {},
   "outputs": [],
   "source": [
    "test = pd.read_csv(home.joinpath('data/processed/test.tsv'),delimiter='\\t')"
   ]
  },
  {
   "cell_type": "code",
   "execution_count": 97,
   "metadata": {},
   "outputs": [],
   "source": [
    "seqsimplemletest = []\n",
    "for idx, line in enumerate(seqtest):\n",
    "    aligned_plus_backoff = cross_align(mlesimpletest[idx],line,bckf=True)\n",
    "    seqsimplemletest.append(aligned_plus_backoff)"
   ]
  },
  {
   "cell_type": "code",
   "execution_count": 98,
   "metadata": {},
   "outputs": [],
   "source": [
    "seqrulestest = []\n",
    "for idx, line in enumerate(seqtest):\n",
    "    aligned_plus_backoff = cross_align(rulesmorphtest[idx],line,bckf=True)\n",
    "    seqrulestest.append(aligned_plus_backoff)"
   ]
  },
  {
   "cell_type": "code",
   "execution_count": 99,
   "metadata": {},
   "outputs": [],
   "source": [
    "with open(home.joinpath('predictions_out/seq2seq_aligned(mle_simple)/test/line2line-test_aligned_mlesimple.out'), 'w') as o:\n",
    "    for line in seqsimplemletest:\n",
    "        o.write(f'{line}\\n')"
   ]
  },
  {
   "cell_type": "code",
   "execution_count": 100,
   "metadata": {},
   "outputs": [],
   "source": [
    "with open(home.joinpath('predictions_out/seq2seq_aligned(rules_morph)/test/line2line-test_aligned_rulesmorph.out'), 'w') as o:\n",
    "    for line in seqrulestest:\n",
    "        o.write(f'{line}\\n')"
   ]
  },
  {
   "cell_type": "code",
   "execution_count": 93,
   "metadata": {},
   "outputs": [],
   "source": [
    "with open(home.joinpath('predictions_out/seq2seq_aligned(rules_morph)/test/line2line-test_aligned_morph.out'),'r') as i:\n",
    "    seqalignedmorph = [x.strip() for x in i.readlines()]"
   ]
  },
  {
   "cell_type": "code",
   "execution_count": 94,
   "metadata": {},
   "outputs": [
    {
     "output_type": "error",
     "ename": "FileNotFoundError",
     "evalue": "[Errno 2] No such file or directory: '/Users/fae211/ba3sasah/LOC_transcribe/predictions_out/seq2seq_aligned(rules_simple)/test/line2line-test_aligned_simple.out'",
     "traceback": [
      "\u001b[0;31m---------------------------------------------------------------------------\u001b[0m",
      "\u001b[0;31mFileNotFoundError\u001b[0m                         Traceback (most recent call last)",
      "\u001b[0;32m<ipython-input-94-07e3f313dc73>\u001b[0m in \u001b[0;36m<module>\u001b[0;34m\u001b[0m\n\u001b[0;32m----> 1\u001b[0;31m \u001b[0;32mwith\u001b[0m \u001b[0mopen\u001b[0m\u001b[0;34m(\u001b[0m\u001b[0mhome\u001b[0m\u001b[0;34m.\u001b[0m\u001b[0mjoinpath\u001b[0m\u001b[0;34m(\u001b[0m\u001b[0;34m'predictions_out/seq2seq_aligned(rules_simple)/test/line2line-test_aligned_simple.out'\u001b[0m\u001b[0;34m)\u001b[0m\u001b[0;34m,\u001b[0m\u001b[0;34m'r'\u001b[0m\u001b[0;34m)\u001b[0m \u001b[0;32mas\u001b[0m \u001b[0mi\u001b[0m\u001b[0;34m:\u001b[0m\u001b[0;34m\u001b[0m\u001b[0;34m\u001b[0m\u001b[0m\n\u001b[0m\u001b[1;32m      2\u001b[0m     \u001b[0mseqalignedsimple\u001b[0m \u001b[0;34m=\u001b[0m \u001b[0;34m[\u001b[0m\u001b[0mx\u001b[0m\u001b[0;34m.\u001b[0m\u001b[0mstrip\u001b[0m\u001b[0;34m(\u001b[0m\u001b[0;34m)\u001b[0m \u001b[0;32mfor\u001b[0m \u001b[0mx\u001b[0m \u001b[0;32min\u001b[0m \u001b[0mi\u001b[0m\u001b[0;34m.\u001b[0m\u001b[0mreadlines\u001b[0m\u001b[0;34m(\u001b[0m\u001b[0;34m)\u001b[0m\u001b[0;34m]\u001b[0m\u001b[0;34m\u001b[0m\u001b[0;34m\u001b[0m\u001b[0m\n",
      "\u001b[0;31mFileNotFoundError\u001b[0m: [Errno 2] No such file or directory: '/Users/fae211/ba3sasah/LOC_transcribe/predictions_out/seq2seq_aligned(rules_simple)/test/line2line-test_aligned_simple.out'"
     ]
    }
   ],
   "source": [
    "with open(home.joinpath('predictions_out/seq2seq_aligned(rules_simple)/test/line2line-test_aligned_simple.out'),'r') as i:\n",
    "    seqalignedsimple = [x.strip() for x in i.readlines()]"
   ]
  },
  {
   "cell_type": "code",
   "execution_count": 58,
   "metadata": {},
   "outputs": [
    {
     "output_type": "execute_result",
     "data": {
      "text/plain": [
       "'Nihāyat al-rāghib fī sharḥ ʻarūḍ ibn al-Ḥajib /'"
      ]
     },
     "metadata": {},
     "execution_count": 58
    }
   ],
   "source": [
    "test1 = test.iloc[0]['rom']\n",
    "test1"
   ]
  },
  {
   "cell_type": "code",
   "execution_count": 87,
   "metadata": {},
   "outputs": [],
   "source": [
    "with open ('/Users/fae211/ba3sasah/LOC_transcribe/predictions_out/seq2seq_aligned(mle_simple)/test/line2line-test_aligned_simple.out','r') as i:\n",
    "    t = [x.strip() for x in i.readlines()]"
   ]
  },
  {
   "cell_type": "code",
   "execution_count": 88,
   "metadata": {},
   "outputs": [
    {
     "output_type": "execute_result",
     "data": {
      "text/plain": [
       "[]"
      ]
     },
     "metadata": {},
     "execution_count": 88
    }
   ],
   "source": [
    "t"
   ]
  },
  {
   "cell_type": "code",
   "execution_count": 23,
   "metadata": {},
   "outputs": [],
   "source": [
    "seqevaltest = pd.read_csv(home.joinpath('evaluation/test/eval-line2line-test.out'),delimiter='\\t')"
   ]
  },
  {
   "cell_type": "code",
   "execution_count": 26,
   "metadata": {},
   "outputs": [
    {
     "output_type": "execute_result",
     "data": {
      "text/plain": [
       "    sentID                                             rom  \\\n",
       "43     417  15 baḥthan fī al-falak wa-al-ṭibb wa-al-ʻulūm.   \n",
       "\n",
       "                                 ar  \\\n",
       "43  ٥١ بحثا في الفلك والطب والعلوم.   \n",
       "\n",
       "                                           rom_raw  \\\n",
       "43  15 baḥthan fī al-falak wa-al-ṭibb wa-al-ʻulūm.   \n",
       "\n",
       "                             ar_raw comb.tag     recID subtag  tag  link  \\\n",
       "43  ٥١ بحثا في الفلك والطب والعلوم.     245b  umich-81      b  245     4   \n",
       "\n",
       "   source splits  \n",
       "43  umich    dev  "
      ],
      "text/html": "<div>\n<style scoped>\n    .dataframe tbody tr th:only-of-type {\n        vertical-align: middle;\n    }\n\n    .dataframe tbody tr th {\n        vertical-align: top;\n    }\n\n    .dataframe thead th {\n        text-align: right;\n    }\n</style>\n<table border=\"1\" class=\"dataframe\">\n  <thead>\n    <tr style=\"text-align: right;\">\n      <th></th>\n      <th>sentID</th>\n      <th>rom</th>\n      <th>ar</th>\n      <th>rom_raw</th>\n      <th>ar_raw</th>\n      <th>comb.tag</th>\n      <th>recID</th>\n      <th>subtag</th>\n      <th>tag</th>\n      <th>link</th>\n      <th>source</th>\n      <th>splits</th>\n    </tr>\n  </thead>\n  <tbody>\n    <tr>\n      <th>43</th>\n      <td>417</td>\n      <td>15 baḥthan fī al-falak wa-al-ṭibb wa-al-ʻulūm.</td>\n      <td>٥١ بحثا في الفلك والطب والعلوم.</td>\n      <td>15 baḥthan fī al-falak wa-al-ṭibb wa-al-ʻulūm.</td>\n      <td>٥١ بحثا في الفلك والطب والعلوم.</td>\n      <td>245b</td>\n      <td>umich-81</td>\n      <td>b</td>\n      <td>245</td>\n      <td>4</td>\n      <td>umich</td>\n      <td>dev</td>\n    </tr>\n  </tbody>\n</table>\n</div>"
     },
     "metadata": {},
     "execution_count": 26
    }
   ],
   "source": [
    "dev[dev['sentID']==417]"
   ]
  },
  {
   "cell_type": "code",
   "execution_count": 25,
   "metadata": {},
   "outputs": [
    {
     "output_type": "execute_result",
     "data": {
      "text/plain": [
       "        sentID comb.tag        gold_tok source_tok prediction_tok  \\\n",
       "168        417     245b              15         ٥١             15   \n",
       "169        417     245b         baḥthan       بحثا        baḥthan   \n",
       "170        417     245b              fī         في             fī   \n",
       "171        417     245b        al-falak      الفلك       al-falak   \n",
       "172        417     245b      wa-al-ṭibb      والطب   wa-al-ʻulūm.   \n",
       "...        ...      ...             ...        ...            ...   \n",
       "249803  599456     245b            fiqh        فقه           fiqh   \n",
       "249804  599456     245b      rijālātuhā   رجالاتها     rijālātihā   \n",
       "249805  599456     245b  wa-maṣādiruhum   ومصادرهم             wa   \n",
       "249806  599456     245b     wa-dawruhum     ودورهم            NaN   \n",
       "249807  599456     245b               /          /            NaN   \n",
       "\n",
       "        aligned_source/gold  aligned_source/prediction  \\\n",
       "168                    True                      False   \n",
       "169                    True                      False   \n",
       "170                    True                      False   \n",
       "171                    True                      False   \n",
       "172                    True                      False   \n",
       "...                     ...                        ...   \n",
       "249803                 True                      False   \n",
       "249804                 True                      False   \n",
       "249805                 True                      False   \n",
       "249806                 True                      False   \n",
       "249807                 True                      False   \n",
       "\n",
       "        aligned_gold/prediction  match  match_ignore_case  \\\n",
       "168                       False   True               True   \n",
       "169                       False   True               True   \n",
       "170                       False   True               True   \n",
       "171                       False   True               True   \n",
       "172                       False  False              False   \n",
       "...                         ...    ...                ...   \n",
       "249803                    False   True               True   \n",
       "249804                    False  False              False   \n",
       "249805                    False  False              False   \n",
       "249806                    False  False              False   \n",
       "249807                    False  False              False   \n",
       "\n",
       "        match_ignore_case_punc  match_ignore_case_punc_keep_hyphen  \n",
       "168                       True                                True  \n",
       "169                       True                                True  \n",
       "170                       True                                True  \n",
       "171                       True                                True  \n",
       "172                      False                               False  \n",
       "...                        ...                                 ...  \n",
       "249803                    True                                True  \n",
       "249804                   False                               False  \n",
       "249805                   False                               False  \n",
       "249806                   False                               False  \n",
       "249807                   False                               False  \n",
       "\n",
       "[22160 rows x 12 columns]"
      ],
      "text/html": "<div>\n<style scoped>\n    .dataframe tbody tr th:only-of-type {\n        vertical-align: middle;\n    }\n\n    .dataframe tbody tr th {\n        vertical-align: top;\n    }\n\n    .dataframe thead th {\n        text-align: right;\n    }\n</style>\n<table border=\"1\" class=\"dataframe\">\n  <thead>\n    <tr style=\"text-align: right;\">\n      <th></th>\n      <th>sentID</th>\n      <th>comb.tag</th>\n      <th>gold_tok</th>\n      <th>source_tok</th>\n      <th>prediction_tok</th>\n      <th>aligned_source/gold</th>\n      <th>aligned_source/prediction</th>\n      <th>aligned_gold/prediction</th>\n      <th>match</th>\n      <th>match_ignore_case</th>\n      <th>match_ignore_case_punc</th>\n      <th>match_ignore_case_punc_keep_hyphen</th>\n    </tr>\n  </thead>\n  <tbody>\n    <tr>\n      <th>168</th>\n      <td>417</td>\n      <td>245b</td>\n      <td>15</td>\n      <td>٥١</td>\n      <td>15</td>\n      <td>True</td>\n      <td>False</td>\n      <td>False</td>\n      <td>True</td>\n      <td>True</td>\n      <td>True</td>\n      <td>True</td>\n    </tr>\n    <tr>\n      <th>169</th>\n      <td>417</td>\n      <td>245b</td>\n      <td>baḥthan</td>\n      <td>بحثا</td>\n      <td>baḥthan</td>\n      <td>True</td>\n      <td>False</td>\n      <td>False</td>\n      <td>True</td>\n      <td>True</td>\n      <td>True</td>\n      <td>True</td>\n    </tr>\n    <tr>\n      <th>170</th>\n      <td>417</td>\n      <td>245b</td>\n      <td>fī</td>\n      <td>في</td>\n      <td>fī</td>\n      <td>True</td>\n      <td>False</td>\n      <td>False</td>\n      <td>True</td>\n      <td>True</td>\n      <td>True</td>\n      <td>True</td>\n    </tr>\n    <tr>\n      <th>171</th>\n      <td>417</td>\n      <td>245b</td>\n      <td>al-falak</td>\n      <td>الفلك</td>\n      <td>al-falak</td>\n      <td>True</td>\n      <td>False</td>\n      <td>False</td>\n      <td>True</td>\n      <td>True</td>\n      <td>True</td>\n      <td>True</td>\n    </tr>\n    <tr>\n      <th>172</th>\n      <td>417</td>\n      <td>245b</td>\n      <td>wa-al-ṭibb</td>\n      <td>والطب</td>\n      <td>wa-al-ʻulūm.</td>\n      <td>True</td>\n      <td>False</td>\n      <td>False</td>\n      <td>False</td>\n      <td>False</td>\n      <td>False</td>\n      <td>False</td>\n    </tr>\n    <tr>\n      <th>...</th>\n      <td>...</td>\n      <td>...</td>\n      <td>...</td>\n      <td>...</td>\n      <td>...</td>\n      <td>...</td>\n      <td>...</td>\n      <td>...</td>\n      <td>...</td>\n      <td>...</td>\n      <td>...</td>\n      <td>...</td>\n    </tr>\n    <tr>\n      <th>249803</th>\n      <td>599456</td>\n      <td>245b</td>\n      <td>fiqh</td>\n      <td>فقه</td>\n      <td>fiqh</td>\n      <td>True</td>\n      <td>False</td>\n      <td>False</td>\n      <td>True</td>\n      <td>True</td>\n      <td>True</td>\n      <td>True</td>\n    </tr>\n    <tr>\n      <th>249804</th>\n      <td>599456</td>\n      <td>245b</td>\n      <td>rijālātuhā</td>\n      <td>رجالاتها</td>\n      <td>rijālātihā</td>\n      <td>True</td>\n      <td>False</td>\n      <td>False</td>\n      <td>False</td>\n      <td>False</td>\n      <td>False</td>\n      <td>False</td>\n    </tr>\n    <tr>\n      <th>249805</th>\n      <td>599456</td>\n      <td>245b</td>\n      <td>wa-maṣādiruhum</td>\n      <td>ومصادرهم</td>\n      <td>wa</td>\n      <td>True</td>\n      <td>False</td>\n      <td>False</td>\n      <td>False</td>\n      <td>False</td>\n      <td>False</td>\n      <td>False</td>\n    </tr>\n    <tr>\n      <th>249806</th>\n      <td>599456</td>\n      <td>245b</td>\n      <td>wa-dawruhum</td>\n      <td>ودورهم</td>\n      <td>NaN</td>\n      <td>True</td>\n      <td>False</td>\n      <td>False</td>\n      <td>False</td>\n      <td>False</td>\n      <td>False</td>\n      <td>False</td>\n    </tr>\n    <tr>\n      <th>249807</th>\n      <td>599456</td>\n      <td>245b</td>\n      <td>/</td>\n      <td>/</td>\n      <td>NaN</td>\n      <td>True</td>\n      <td>False</td>\n      <td>False</td>\n      <td>False</td>\n      <td>False</td>\n      <td>False</td>\n      <td>False</td>\n    </tr>\n  </tbody>\n</table>\n<p>22160 rows × 12 columns</p>\n</div>"
     },
     "metadata": {},
     "execution_count": 25
    }
   ],
   "source": [
    "seqeval[seqeval['aligned_gold/prediction']==False]"
   ]
  },
  {
   "cell_type": "code",
   "execution_count": 62,
   "metadata": {},
   "outputs": [],
   "source": [
    "seqmorphtest = []\n",
    "for idx, line in enumerate(seqtest):\n",
    "    aligned_plus_backoff = cross_align(mlemorphtest[idx],line,bckf=True)\n",
    "    seqmorphtest.append(aligned_plus_backoff)"
   ]
  },
  {
   "cell_type": "code",
   "execution_count": 63,
   "metadata": {},
   "outputs": [],
   "source": [
    "with open(home.joinpath('predictions_out/seq2seq_aligned(mle_morph)/test/line2line-test_aligned_morph.out'), 'w') as o:\n",
    "    for line in seqmorphtest:\n",
    "        o.write(f'{line}\\n')"
   ]
  },
  {
   "cell_type": "code",
   "execution_count": 64,
   "metadata": {},
   "outputs": [],
   "source": [
    "seqsimpletest = []\n",
    "for idx, line in enumerate(seqtest):\n",
    "    aligned_plus_backoff = cross_align(mlesimpletest[idx],line,bckf=True)\n",
    "    seqmorphtest.append(aligned_plus_backoff)"
   ]
  },
  {
   "cell_type": "code",
   "execution_count": 65,
   "metadata": {},
   "outputs": [],
   "source": [
    "with open(home.joinpath('predictions_out/seq2seq_aligned(mle_simple)/test/line2line-test_aligned_simple.out'), 'w') as o:\n",
    "    for line in seqsimpletest:\n",
    "        o.write(f'{line}\\n')"
   ]
  },
  {
   "cell_type": "code",
   "execution_count": 42,
   "metadata": {},
   "outputs": [
    {
     "output_type": "execute_result",
     "data": {
      "text/plain": [
       "'taʼlīf Abī al-Fatḥ Muḥammad ibn Muḥammad ibn ʻAlī ibn Hammām (ibn al-Imām) ; ḥaqqaqa nuṣūṣahu wa-kharraja aḥādīthahu wa-qaddama la-hu Muḥyī al-Dīn Dīb Mistū.'"
      ]
     },
     "metadata": {},
     "execution_count": 42
    }
   ],
   "source": [
    "# cross_align(mlemorph[1126],seq[1126],bckf=False)\n",
    "# align_wordsDF(seq[43],mlemorph[43])"
   ]
  },
  {
   "cell_type": "code",
   "execution_count": 31,
   "metadata": {},
   "outputs": [
    {
     "output_type": "execute_result",
     "data": {
      "text/plain": [
       "'15 baḥthan fī al-falak wa-al-ʻulūm.'"
      ]
     },
     "metadata": {},
     "execution_count": 31
    }
   ],
   "source": [
    "seq[43]"
   ]
  },
  {
   "cell_type": "code",
   "execution_count": null,
   "metadata": {},
   "outputs": [],
   "source": []
  }
 ]
}